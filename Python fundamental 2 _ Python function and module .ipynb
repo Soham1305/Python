{
 "cells": [
  {
   "cell_type": "markdown",
   "id": "dcc6bcd2",
   "metadata": {},
   "source": [
    "# Function in Python "
   ]
  },
  {
   "cell_type": "markdown",
   "id": "f6121c75",
   "metadata": {},
   "source": [
    "#### Fundamental "
   ]
  },
  {
   "cell_type": "code",
   "execution_count": 31,
   "id": "927910fb",
   "metadata": {},
   "outputs": [],
   "source": [
    "\n",
    "def factorial(a):\n",
    "    '''this function will \n",
    "       return factorial of any positive number : \n",
    "       '''\n",
    "    if a==1 : \n",
    "        return 1 \n",
    "    return a*factorial(a-1)"
   ]
  },
  {
   "cell_type": "code",
   "execution_count": 32,
   "id": "8aed4d79",
   "metadata": {},
   "outputs": [
    {
     "data": {
      "text/plain": [
       "120"
      ]
     },
     "execution_count": 32,
     "metadata": {},
     "output_type": "execute_result"
    }
   ],
   "source": [
    "factorial(5)"
   ]
  },
  {
   "cell_type": "code",
   "execution_count": 34,
   "id": "f3f2e87b",
   "metadata": {},
   "outputs": [
    {
     "data": {
      "text/plain": [
       "3628800"
      ]
     },
     "execution_count": 34,
     "metadata": {},
     "output_type": "execute_result"
    }
   ],
   "source": [
    "factorial(10)\n"
   ]
  },
  {
   "cell_type": "code",
   "execution_count": 35,
   "id": "f2c60fc2",
   "metadata": {},
   "outputs": [],
   "source": [
    "def hi():\n",
    "     ax= 2 "
   ]
  },
  {
   "cell_type": "code",
   "execution_count": 37,
   "id": "f07a8537",
   "metadata": {},
   "outputs": [],
   "source": [
    "hi()"
   ]
  },
  {
   "cell_type": "markdown",
   "id": "f1d3f7e0",
   "metadata": {},
   "source": [
    "#### Default values for Functions \n"
   ]
  },
  {
   "cell_type": "code",
   "execution_count": 38,
   "id": "6c2b21c5",
   "metadata": {},
   "outputs": [],
   "source": [
    "def hi2(a = 0 ):\n",
    "    print(a)"
   ]
  },
  {
   "cell_type": "code",
   "execution_count": 39,
   "id": "c4df3be5",
   "metadata": {},
   "outputs": [
    {
     "name": "stdout",
     "output_type": "stream",
     "text": [
      "0\n"
     ]
    }
   ],
   "source": [
    "hi2()"
   ]
  },
  {
   "cell_type": "code",
   "execution_count": 40,
   "id": "d7422c00",
   "metadata": {},
   "outputs": [
    {
     "name": "stdout",
     "output_type": "stream",
     "text": [
      "5\n"
     ]
    }
   ],
   "source": [
    "hi2(5)"
   ]
  },
  {
   "cell_type": "code",
   "execution_count": 46,
   "id": "8131ea3a",
   "metadata": {},
   "outputs": [],
   "source": [
    "def factorial2(a = 1):\n",
    "    '''this function will \n",
    "       return factorial of any positive number : \n",
    "       '''\n",
    "    if a==1 : \n",
    "        return a \n",
    "    return a*factorial(a-1)"
   ]
  },
  {
   "cell_type": "code",
   "execution_count": 47,
   "id": "e69897e8",
   "metadata": {},
   "outputs": [
    {
     "data": {
      "text/plain": [
       "120"
      ]
     },
     "execution_count": 47,
     "metadata": {},
     "output_type": "execute_result"
    }
   ],
   "source": [
    "factorial2(5)"
   ]
  },
  {
   "cell_type": "code",
   "execution_count": 49,
   "id": "d8c7d8ef",
   "metadata": {},
   "outputs": [
    {
     "name": "stdout",
     "output_type": "stream",
     "text": [
      "[-3, 2, 3]\n"
     ]
    }
   ],
   "source": [
    "L = [1,2,3]\n",
    "L2 = L                          # it's directly connected to L in memory  --> it's just tranfer the address to next list \n",
    "L2[0] = -3 \n",
    "print(L)"
   ]
  },
  {
   "cell_type": "markdown",
   "id": "ea47132a",
   "metadata": {},
   "source": [
    "#### Improting module from this PC "
   ]
  },
  {
   "cell_type": "code",
   "execution_count": 50,
   "id": "d9f29aea",
   "metadata": {},
   "outputs": [],
   "source": [
    "import sys \n",
    "sys.path.append('D:\\WorkPlace\\Books')\n"
   ]
  },
  {
   "cell_type": "code",
   "execution_count": 54,
   "id": "6621e0f3",
   "metadata": {},
   "outputs": [],
   "source": [
    "import Python_Fundamental_1 as f"
   ]
  },
  {
   "cell_type": "code",
   "execution_count": 57,
   "id": "1be04cd4",
   "metadata": {},
   "outputs": [
    {
     "ename": "TypeError",
     "evalue": "hi_i_soham() missing 1 required positional argument: 'a'",
     "output_type": "error",
     "traceback": [
      "\u001b[1;31m---------------------------------------------------------------------------\u001b[0m",
      "\u001b[1;31mTypeError\u001b[0m                                 Traceback (most recent call last)",
      "Cell \u001b[1;32mIn[57], line 1\u001b[0m\n\u001b[1;32m----> 1\u001b[0m f\u001b[38;5;241m.\u001b[39mhi_i_soham()\n",
      "\u001b[1;31mTypeError\u001b[0m: hi_i_soham() missing 1 required positional argument: 'a'"
     ]
    }
   ],
   "source": [
    "f.hi_i_soham()"
   ]
  },
  {
   "cell_type": "code",
   "execution_count": null,
   "id": "cf22492c",
   "metadata": {},
   "outputs": [],
   "source": []
  }
 ],
 "metadata": {
  "kernelspec": {
   "display_name": "Python 3 (ipykernel)",
   "language": "python",
   "name": "python3"
  },
  "language_info": {
   "codemirror_mode": {
    "name": "ipython",
    "version": 3
   },
   "file_extension": ".py",
   "mimetype": "text/x-python",
   "name": "python",
   "nbconvert_exporter": "python",
   "pygments_lexer": "ipython3",
   "version": "3.11.4"
  }
 },
 "nbformat": 4,
 "nbformat_minor": 5
}
