{
 "cells": [
  {
   "cell_type": "markdown",
   "id": "c182fb06",
   "metadata": {},
   "source": [
    "# Funtion module "
   ]
  },
  {
   "cell_type": "code",
   "execution_count": 1,
   "id": "4f935ce8",
   "metadata": {},
   "outputs": [],
   "source": [
    "# Function compelete the  requre task when you call it \n",
    "def printsuccess():       # when you call this , this fucntioon will be registered in python symbol table .\n",
    "    print(\"The task was successful \")\n",
    "    print(\"mocing to the next task \")\n",
    "    print(\"send me the next task\")"
   ]
  },
  {
   "cell_type": "code",
   "execution_count": 3,
   "id": "7fd509a7",
   "metadata": {},
   "outputs": [
    {
     "name": "stdout",
     "output_type": "stream",
     "text": [
      "The task was successful \n",
      "mocing to the next task \n",
      "send me the next task\n"
     ]
    }
   ],
   "source": [
    "printsuccess();"
   ]
  },
  {
   "cell_type": "code",
   "execution_count": 4,
   "id": "3385f3d2",
   "metadata": {},
   "outputs": [],
   "source": [
    "def add(a,b):\n",
    "    \"\"\" this function is return the sum of two number \"\"\"\n",
    "    return a+b "
   ]
  },
  {
   "cell_type": "code",
   "execution_count": 5,
   "id": "697db251",
   "metadata": {},
   "outputs": [
    {
     "data": {
      "text/plain": [
       "8"
      ]
     },
     "execution_count": 5,
     "metadata": {},
     "output_type": "execute_result"
    }
   ],
   "source": [
    "add(3,5)"
   ]
  },
  {
   "cell_type": "code",
   "execution_count": 7,
   "id": "72384658",
   "metadata": {},
   "outputs": [],
   "source": [
    "add?"
   ]
  },
  {
   "cell_type": "code",
   "execution_count": null,
   "id": "dbe8a107",
   "metadata": {},
   "outputs": [],
   "source": []
  }
 ],
 "metadata": {
  "kernelspec": {
   "display_name": "Python 3 (ipykernel)",
   "language": "python",
   "name": "python3"
  },
  "language_info": {
   "codemirror_mode": {
    "name": "ipython",
    "version": 3
   },
   "file_extension": ".py",
   "mimetype": "text/x-python",
   "name": "python",
   "nbconvert_exporter": "python",
   "pygments_lexer": "ipython3",
   "version": "3.11.4"
  }
 },
 "nbformat": 4,
 "nbformat_minor": 5
}
