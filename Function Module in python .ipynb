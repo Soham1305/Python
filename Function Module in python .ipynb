{
 "cells": [
  {
   "cell_type": "markdown",
   "id": "c182fb06",
   "metadata": {},
   "source": [
    "# Funtion module "
   ]
  },
  {
   "cell_type": "code",
   "execution_count": 4,
   "id": "4f935ce8",
   "metadata": {},
   "outputs": [],
   "source": [
    "# Function compelete the  requre task when you call it \n",
    "def printsuccess():       # when you call this , this fucntioon will be registered in python symbol table .\n",
    "    print(\"The task was successful \")\n",
    "    print(\"mocing to the next task \")\n",
    "    print(\"send me the next task\")"
   ]
  },
  {
   "cell_type": "code",
   "execution_count": 5,
   "id": "7fd509a7",
   "metadata": {},
   "outputs": [
    {
     "name": "stdout",
     "output_type": "stream",
     "text": [
      "The task was successful \n",
      "mocing to the next task \n",
      "send me the next task\n"
     ]
    }
   ],
   "source": [
    "printsuccess();"
   ]
  },
  {
   "cell_type": "code",
   "execution_count": 3,
   "id": "3385f3d2",
   "metadata": {},
   "outputs": [],
   "source": [
    "def add(a,b):\n",
    "    \"\"\" this function is return the sum of two number \"\"\"\n",
    "    return a+b "
   ]
  },
  {
   "cell_type": "code",
   "execution_count": 4,
   "id": "697db251",
   "metadata": {},
   "outputs": [
    {
     "data": {
      "text/plain": [
       "8"
      ]
     },
     "execution_count": 4,
     "metadata": {},
     "output_type": "execute_result"
    }
   ],
   "source": [
    "add(3,5)"
   ]
  },
  {
   "cell_type": "code",
   "execution_count": 6,
   "id": "72384658",
   "metadata": {},
   "outputs": [],
   "source": [
    "add?"
   ]
  },
  {
   "cell_type": "code",
   "execution_count": 8,
   "id": "dbe8a107",
   "metadata": {},
   "outputs": [
    {
     "name": "stdout",
     "output_type": "stream",
     "text": [
      "Help on function add in module __main__:\n",
      "\n",
      "add(a, b)\n",
      "    this function is return the sum of two number\n",
      "\n"
     ]
    }
   ],
   "source": [
    "help(add)"
   ]
  },
  {
   "cell_type": "markdown",
   "id": "452280fa",
   "metadata": {},
   "source": [
    "### input argument in function "
   ]
  },
  {
   "cell_type": "markdown",
   "id": "1f98b1cf",
   "metadata": {},
   "source": [
    "#give the argument in the fucntion \n",
    "\n",
    "def Print(msg):\n",
    "    if isinstance(msg,str):\n",
    "\n",
    "        print(msg)\n",
    "    else:\n",
    "        print(\"Invalide input : \")\n",
    "\n",
    "\n"
   ]
  },
  {
   "cell_type": "code",
   "execution_count": null,
   "id": "d2757160",
   "metadata": {},
   "outputs": [],
   "source": [
    "Print??"
   ]
  },
  {
   "cell_type": "code",
   "execution_count": 15,
   "id": "ccf91273",
   "metadata": {},
   "outputs": [
    {
     "name": "stdout",
     "output_type": "stream",
     "text": [
      "Invalide input : \n"
     ]
    }
   ],
   "source": [
    "Print(3424)"
   ]
  },
  {
   "cell_type": "code",
   "execution_count": 16,
   "id": "7a835323",
   "metadata": {},
   "outputs": [
    {
     "name": "stdout",
     "output_type": "stream",
     "text": [
      " Soham Piprotar\n"
     ]
    }
   ],
   "source": [
    "Print(\" Soham Piprotar\")"
   ]
  },
  {
   "cell_type": "code",
   "execution_count": 20,
   "id": "9a79d7b8",
   "metadata": {},
   "outputs": [
    {
     "data": {
      "text/plain": [
       "3"
      ]
     },
     "execution_count": 20,
     "metadata": {},
     "output_type": "execute_result"
    }
   ],
   "source": [
    "# order of input for funtion is inportant and it's Directly goes to the value ; \n",
    "add(b=2,a=1)"
   ]
  },
  {
   "cell_type": "markdown",
   "id": "672a9863",
   "metadata": {},
   "source": [
    "### You can also define the variable inside of the function "
   ]
  },
  {
   "cell_type": "code",
   "execution_count": 21,
   "id": "1b2555ea",
   "metadata": {},
   "outputs": [],
   "source": [
    "def add2(a,b):\n",
    "    c = a+b \n",
    "    return c"
   ]
  },
  {
   "cell_type": "code",
   "execution_count": 22,
   "id": "839ee5f9",
   "metadata": {},
   "outputs": [
    {
     "data": {
      "text/plain": [
       "980"
      ]
     },
     "execution_count": 22,
     "metadata": {},
     "output_type": "execute_result"
    }
   ],
   "source": [
    "add2(490,490)"
   ]
  },
  {
   "cell_type": "markdown",
   "id": "353d5afb",
   "metadata": {},
   "source": [
    "### Number of many input Argument  "
   ]
  },
  {
   "cell_type": "code",
   "execution_count": 23,
   "id": "6b723238",
   "metadata": {},
   "outputs": [],
   "source": [
    "def add(*args):      # this acts like array or list in python \n",
    "    sum = 0 \n",
    "    for i in range(len(args)):\n",
    "        sum += args[i]\n",
    "    return sum "
   ]
  },
  {
   "cell_type": "code",
   "execution_count": 26,
   "id": "bafffa2a",
   "metadata": {},
   "outputs": [
    {
     "data": {
      "text/plain": [
       "30"
      ]
     },
     "execution_count": 26,
     "metadata": {},
     "output_type": "execute_result"
    }
   ],
   "source": [
    "a = [3 ,4 ,5 , 3,5 ,3 ]\n",
    "add(4,5,4,5,6,6)"
   ]
  },
  {
   "cell_type": "code",
   "execution_count": 31,
   "id": "8b5f8cd2",
   "metadata": {},
   "outputs": [],
   "source": [
    "def f(**c):            #this is just feel like to asses teh discnary in python \n",
    "    for x in c :\n",
    "        print(x , c[x])"
   ]
  },
  {
   "cell_type": "code",
   "execution_count": 32,
   "id": "0f7ce990",
   "metadata": {},
   "outputs": [
    {
     "name": "stdout",
     "output_type": "stream",
     "text": [
      "apple 45\n",
      "banana 33\n",
      "mango 43\n"
     ]
    }
   ],
   "source": [
    "f(apple = 45,banana=33,mango=43)     # this is just like a discnary in python "
   ]
  },
  {
   "cell_type": "markdown",
   "id": "fd1660bb",
   "metadata": {},
   "source": [
    "### default value of function "
   ]
  },
  {
   "cell_type": "code",
   "execution_count": 33,
   "id": "22713390",
   "metadata": {},
   "outputs": [],
   "source": [
    "def b(sum = 0):     # the argument have a default value and it's only have inexistance when you don't pass teh value \n",
    "    return sum"
   ]
  },
  {
   "cell_type": "code",
   "execution_count": 34,
   "id": "d151be25",
   "metadata": {},
   "outputs": [
    {
     "data": {
      "text/plain": [
       "5"
      ]
     },
     "execution_count": 34,
     "metadata": {},
     "output_type": "execute_result"
    }
   ],
   "source": [
    "b(5)"
   ]
  },
  {
   "cell_type": "code",
   "execution_count": null,
   "id": "33af852f",
   "metadata": {},
   "outputs": [],
   "source": []
  }
 ],
 "metadata": {
  "kernelspec": {
   "display_name": "Python 3 (ipykernel)",
   "language": "python",
   "name": "python3"
  },
  "language_info": {
   "codemirror_mode": {
    "name": "ipython",
    "version": 3
   },
   "file_extension": ".py",
   "mimetype": "text/x-python",
   "name": "python",
   "nbconvert_exporter": "python",
   "pygments_lexer": "ipython3",
   "version": "3.11.4"
  }
 },
 "nbformat": 4,
 "nbformat_minor": 5
}
