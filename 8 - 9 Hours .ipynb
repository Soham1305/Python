{
 "cells": [
  {
   "cell_type": "markdown",
   "id": "eceabe6d",
   "metadata": {},
   "source": [
    "# Data Strucutures in Python "
   ]
  },
  {
   "cell_type": "markdown",
   "id": "d59772bd",
   "metadata": {},
   "source": []
  },
  {
   "cell_type": "code",
   "execution_count": 1,
   "id": "f4f6dc50",
   "metadata": {},
   "outputs": [],
   "source": [
    "L = [1,2,34,5,\"soham \", 5+4j]"
   ]
  },
  {
   "cell_type": "code",
   "execution_count": 2,
   "id": "e8b622ff",
   "metadata": {},
   "outputs": [],
   "source": [
    "T = (1,2,34,5,\"soham \",5+4j)"
   ]
  },
  {
   "cell_type": "code",
   "execution_count": 3,
   "id": "fedc29ba",
   "metadata": {},
   "outputs": [],
   "source": [
    "S = {1,2,34,5,\"soham\" ,5+4j}"
   ]
  },
  {
   "cell_type": "code",
   "execution_count": 4,
   "id": "e716fb73",
   "metadata": {},
   "outputs": [],
   "source": [
    "D = {13 : \"soham\" , \"piprotar\":34 , 55 : \"hello\"}"
   ]
  },
  {
   "cell_type": "code",
   "execution_count": 5,
   "id": "6234d949",
   "metadata": {},
   "outputs": [
    {
     "name": "stdout",
     "output_type": "stream",
     "text": [
      "<class 'list'>\n"
     ]
    }
   ],
   "source": [
    "print(type(L))"
   ]
  },
  {
   "cell_type": "code",
   "execution_count": 6,
   "id": "efab5c28",
   "metadata": {},
   "outputs": [
    {
     "name": "stdout",
     "output_type": "stream",
     "text": [
      "<class 'tuple'>\n",
      "<class 'set'>\n",
      "<class 'dict'>\n"
     ]
    }
   ],
   "source": [
    "print(type(T))\n",
    "print(type(S))\n",
    "print(type(D))"
   ]
  },
  {
   "cell_type": "code",
   "execution_count": 8,
   "id": "f6f97e0c",
   "metadata": {},
   "outputs": [
    {
     "name": "stdout",
     "output_type": "stream",
     "text": [
      "1\n",
      "2\n",
      "34\n",
      "5\n",
      "soham \n",
      "(5+4j)\n",
      "Iteration completed : \n"
     ]
    }
   ],
   "source": [
    "# to acess the element from list though the iteration : \n",
    "for i in range(0,len(L)):\n",
    "    print(L[i])\n",
    "    \n",
    "print(\"Iteration completed : \")"
   ]
  },
  {
   "cell_type": "code",
   "execution_count": 9,
   "id": "02e234f7",
   "metadata": {},
   "outputs": [
    {
     "data": {
      "text/plain": [
       "[2, 34]"
      ]
     },
     "execution_count": 9,
     "metadata": {},
     "output_type": "execute_result"
    }
   ],
   "source": [
    "L[1:3]"
   ]
  },
  {
   "cell_type": "code",
   "execution_count": 10,
   "id": "fb9e07c0",
   "metadata": {},
   "outputs": [
    {
     "data": {
      "text/plain": [
       "[(5+4j), 'soham ', 5, 34, 2, 1]"
      ]
     },
     "execution_count": 10,
     "metadata": {},
     "output_type": "execute_result"
    }
   ],
   "source": [
    "L[::-1]"
   ]
  },
  {
   "cell_type": "code",
   "execution_count": 11,
   "id": "8da27ff6",
   "metadata": {},
   "outputs": [
    {
     "ename": "NameError",
     "evalue": "name 'T1' is not defined",
     "output_type": "error",
     "traceback": [
      "\u001b[1;31m---------------------------------------------------------------------------\u001b[0m",
      "\u001b[1;31mNameError\u001b[0m                                 Traceback (most recent call last)",
      "Cell \u001b[1;32mIn[11], line 3\u001b[0m\n\u001b[0;32m      1\u001b[0m \u001b[38;5;66;03m# TUPLE AND LIST ARE SAME IN SLAICING BUT TUPLE IS IMUTABLE : \u001b[39;00m\n\u001b[0;32m      2\u001b[0m \u001b[38;5;66;03m# by example : \u001b[39;00m\n\u001b[1;32m----> 3\u001b[0m T1 \u001b[38;5;241m=\u001b[39m T1 \u001b[38;5;241m+\u001b[39m(\u001b[38;5;241m2\u001b[39m,\u001b[38;5;241m3\u001b[39m)\n",
      "\u001b[1;31mNameError\u001b[0m: name 'T1' is not defined"
     ]
    }
   ],
   "source": [
    "# TUPLE AND LIST ARE SAME IN SLAICING BUT TUPLE IS IMUTABLE : \n",
    "# by example : \n",
    "T1 = T1 +(2,3)"
   ]
  },
  {
   "cell_type": "code",
   "execution_count": 16,
   "id": "ee8be603",
   "metadata": {},
   "outputs": [],
   "source": [
    "L = L + [\"new_ele\"]\n",
    "del L[-1]\n",
    "del L[-1]\n",
    "del L[-1]"
   ]
  },
  {
   "cell_type": "code",
   "execution_count": 18,
   "id": "37976ee1",
   "metadata": {},
   "outputs": [],
   "source": [
    "L[3] = \"Piprotar\""
   ]
  },
  {
   "cell_type": "code",
   "execution_count": 19,
   "id": "18091074",
   "metadata": {},
   "outputs": [
    {
     "data": {
      "text/plain": [
       "[1, 2, 34, 'Piprotar', 'soham ']"
      ]
     },
     "execution_count": 19,
     "metadata": {},
     "output_type": "execute_result"
    }
   ],
   "source": [
    "L"
   ]
  },
  {
   "cell_type": "code",
   "execution_count": 20,
   "id": "ff007a6c",
   "metadata": {},
   "outputs": [],
   "source": [
    "l = L.copy()"
   ]
  },
  {
   "cell_type": "code",
   "execution_count": 21,
   "id": "1fcb6b6d",
   "metadata": {},
   "outputs": [
    {
     "data": {
      "text/plain": [
       "[1, 2, 34, 'Piprotar', 'soham ']"
      ]
     },
     "execution_count": 21,
     "metadata": {},
     "output_type": "execute_result"
    }
   ],
   "source": [
    "l"
   ]
  },
  {
   "cell_type": "code",
   "execution_count": 22,
   "id": "7ed6e05b",
   "metadata": {},
   "outputs": [],
   "source": [
    "del L"
   ]
  },
  {
   "cell_type": "code",
   "execution_count": 23,
   "id": "e9ce2879",
   "metadata": {},
   "outputs": [
    {
     "data": {
      "text/plain": [
       "(1, 2, 34, 5, 'soham ', (5+4j), 2, 3)"
      ]
     },
     "execution_count": 23,
     "metadata": {},
     "output_type": "execute_result"
    }
   ],
   "source": [
    "T2 = (2,3)\n",
    "T+T2"
   ]
  },
  {
   "cell_type": "code",
   "execution_count": 24,
   "id": "9bf8f947",
   "metadata": {},
   "outputs": [],
   "source": [
    "del T2"
   ]
  },
  {
   "cell_type": "code",
   "execution_count": 29,
   "id": "40187f3c",
   "metadata": {},
   "outputs": [],
   "source": [
    "S.add(\"soham\")"
   ]
  },
  {
   "cell_type": "code",
   "execution_count": 33,
   "id": "6548ba5b",
   "metadata": {},
   "outputs": [],
   "source": [
    "S.remove(\"soham\")"
   ]
  },
  {
   "cell_type": "code",
   "execution_count": 34,
   "id": "7b1577d5",
   "metadata": {},
   "outputs": [
    {
     "data": {
      "text/plain": [
       "{(5+4j), 1, 2, 34, 5, 'a', 'h', 'i', 'm', 'o', 'p', 'r', 's', 't'}"
      ]
     },
     "execution_count": 34,
     "metadata": {},
     "output_type": "execute_result"
    }
   ],
   "source": [
    "S"
   ]
  },
  {
   "cell_type": "code",
   "execution_count": 35,
   "id": "613eb635",
   "metadata": {},
   "outputs": [],
   "source": [
    "del S"
   ]
  },
  {
   "cell_type": "code",
   "execution_count": 36,
   "id": "a7d9a955",
   "metadata": {},
   "outputs": [],
   "source": [
    "D[\"soham\"] = \"20 years \""
   ]
  },
  {
   "cell_type": "code",
   "execution_count": 37,
   "id": "0c1726d2",
   "metadata": {},
   "outputs": [
    {
     "data": {
      "text/plain": [
       "{13: 'soham', 'piprotar': 34, 55: 'hello', 'soham': '20 years '}"
      ]
     },
     "execution_count": 37,
     "metadata": {},
     "output_type": "execute_result"
    }
   ],
   "source": [
    "D"
   ]
  },
  {
   "cell_type": "code",
   "execution_count": 38,
   "id": "290292c2",
   "metadata": {},
   "outputs": [
    {
     "data": {
      "text/plain": [
       "'20 years '"
      ]
     },
     "execution_count": 38,
     "metadata": {},
     "output_type": "execute_result"
    }
   ],
   "source": [
    "D[\"soham\"]"
   ]
  },
  {
   "cell_type": "code",
   "execution_count": 40,
   "id": "072c1e43",
   "metadata": {},
   "outputs": [],
   "source": [
    "del D[\"piprotar\"]"
   ]
  },
  {
   "cell_type": "code",
   "execution_count": 41,
   "id": "7a7248ed",
   "metadata": {},
   "outputs": [
    {
     "data": {
      "text/plain": [
       "{13: 'soham', 55: 'hello', 'soham': '20 years '}"
      ]
     },
     "execution_count": 41,
     "metadata": {},
     "output_type": "execute_result"
    }
   ],
   "source": [
    "D"
   ]
  },
  {
   "cell_type": "code",
   "execution_count": 42,
   "id": "aba37609",
   "metadata": {},
   "outputs": [],
   "source": [
    "D2 = D.copy()"
   ]
  },
  {
   "cell_type": "code",
   "execution_count": 43,
   "id": "f6073021",
   "metadata": {},
   "outputs": [
    {
     "data": {
      "text/plain": [
       "{13: 'soham', 55: 'hello', 'soham': '20 years '}"
      ]
     },
     "execution_count": 43,
     "metadata": {},
     "output_type": "execute_result"
    }
   ],
   "source": [
    "D2"
   ]
  },
  {
   "cell_type": "code",
   "execution_count": 44,
   "id": "07953fb6",
   "metadata": {},
   "outputs": [],
   "source": [
    "del D2 "
   ]
  },
  {
   "cell_type": "code",
   "execution_count": 45,
   "id": "46d40a78",
   "metadata": {},
   "outputs": [
    {
     "name": "stdout",
     "output_type": "stream",
     "text": [
      "Variable   Type     Data/Info\n",
      "-----------------------------\n",
      "D          dict     n=3\n",
      "T          tuple    n=6\n",
      "i          int      5\n",
      "l          list     n=5\n"
     ]
    }
   ],
   "source": [
    "%whos"
   ]
  },
  {
   "cell_type": "code",
   "execution_count": 46,
   "id": "de0a9698",
   "metadata": {},
   "outputs": [],
   "source": [
    "del D , T, i, l"
   ]
  },
  {
   "cell_type": "code",
   "execution_count": 47,
   "id": "851b4567",
   "metadata": {},
   "outputs": [
    {
     "data": {
      "text/plain": [
       "{13: 'soham', 55: 'hello', 'soham': '20 years '}"
      ]
     },
     "execution_count": 47,
     "metadata": {},
     "output_type": "execute_result"
    }
   ],
   "source": [
    "_"
   ]
  },
  {
   "cell_type": "markdown",
   "id": "95a31fb7",
   "metadata": {},
   "source": [
    "###  INSETION AND DELETION IN LIST , TUPLE , SET , DESCTIONARYY "
   ]
  },
  {
   "cell_type": "code",
   "execution_count": 48,
   "id": "2b9b7801",
   "metadata": {},
   "outputs": [],
   "source": [
    "L = [1,2,3,\"soham\",\"hello\"]"
   ]
  },
  {
   "cell_type": "code",
   "execution_count": 50,
   "id": "caf68721",
   "metadata": {},
   "outputs": [],
   "source": [
    "L[4] = \"piprotar\""
   ]
  },
  {
   "cell_type": "code",
   "execution_count": 51,
   "id": "b288c5a1",
   "metadata": {},
   "outputs": [],
   "source": [
    "L.append(23.32)"
   ]
  },
  {
   "cell_type": "code",
   "execution_count": 52,
   "id": "42325302",
   "metadata": {},
   "outputs": [],
   "source": [
    "T = (1,234,42,4)"
   ]
  },
  {
   "cell_type": "code",
   "execution_count": 53,
   "id": "bb6f1c6d",
   "metadata": {},
   "outputs": [],
   "source": [
    "T2 = T + (1,3,2,2)"
   ]
  },
  {
   "cell_type": "code",
   "execution_count": 54,
   "id": "8b8d616e",
   "metadata": {},
   "outputs": [],
   "source": [
    "S = {1,2,34,24,3}"
   ]
  },
  {
   "cell_type": "code",
   "execution_count": 55,
   "id": "347fad3b",
   "metadata": {},
   "outputs": [],
   "source": [
    "S.update({34,\"game,1\"})"
   ]
  },
  {
   "cell_type": "code",
   "execution_count": 56,
   "id": "7ba5890a",
   "metadata": {},
   "outputs": [
    {
     "data": {
      "text/plain": [
       "{1, 2, 24, 3, 34, 'game,1'}"
      ]
     },
     "execution_count": 56,
     "metadata": {},
     "output_type": "execute_result"
    }
   ],
   "source": [
    "S"
   ]
  },
  {
   "cell_type": "code",
   "execution_count": 57,
   "id": "d15cb75b",
   "metadata": {},
   "outputs": [],
   "source": [
    "D = {13: 'soham', 55: 'hello', 'soham': '20 years '}"
   ]
  },
  {
   "cell_type": "code",
   "execution_count": 58,
   "id": "ec59b5bf",
   "metadata": {},
   "outputs": [],
   "source": [
    "D2 = {\"hello\" : 23 , \"ohter\":34}"
   ]
  },
  {
   "cell_type": "code",
   "execution_count": 59,
   "id": "7e4017d5",
   "metadata": {},
   "outputs": [
    {
     "name": "stdout",
     "output_type": "stream",
     "text": [
      "Variable   Type     Data/Info\n",
      "-----------------------------\n",
      "D          dict     n=3\n",
      "D2         dict     n=2\n",
      "L          list     n=6\n",
      "S          set      {1, 2, 3, 34, 24, 'game,1'}\n",
      "T          tuple    n=4\n",
      "T2         tuple    n=8\n"
     ]
    }
   ],
   "source": [
    "%whos"
   ]
  },
  {
   "cell_type": "code",
   "execution_count": 60,
   "id": "29acc790",
   "metadata": {},
   "outputs": [],
   "source": [
    "del D , D2 , L , S, T , T2"
   ]
  },
  {
   "cell_type": "code",
   "execution_count": 61,
   "id": "95f6c9c2",
   "metadata": {},
   "outputs": [
    {
     "data": {
      "text/plain": [
       "{1, 2, 24, 3, 34, 'game,1'}"
      ]
     },
     "execution_count": 61,
     "metadata": {},
     "output_type": "execute_result"
    }
   ],
   "source": [
    "_"
   ]
  },
  {
   "cell_type": "code",
   "execution_count": 62,
   "id": "d9747383",
   "metadata": {},
   "outputs": [],
   "source": [
    "# can we concatinate dictionary with '+'\n",
    "# no , but hint is : dictionary is type of set "
   ]
  },
  {
   "cell_type": "code",
   "execution_count": 64,
   "id": "404a3969",
   "metadata": {},
   "outputs": [],
   "source": [
    "L = [1,23 ,3]"
   ]
  },
  {
   "cell_type": "code",
   "execution_count": 72,
   "id": "2af19bff",
   "metadata": {},
   "outputs": [],
   "source": [
    "L2 = L.copy() "
   ]
  },
  {
   "cell_type": "code",
   "execution_count": 73,
   "id": "782589c7",
   "metadata": {},
   "outputs": [],
   "source": [
    "L2[2] = \"hi NEW ELE THER \""
   ]
  },
  {
   "cell_type": "code",
   "execution_count": 74,
   "id": "781a612c",
   "metadata": {},
   "outputs": [
    {
     "data": {
      "text/plain": [
       "[1, 23, 'hi NEW ELE THER ']"
      ]
     },
     "execution_count": 74,
     "metadata": {},
     "output_type": "execute_result"
    }
   ],
   "source": [
    "L2"
   ]
  },
  {
   "cell_type": "code",
   "execution_count": 75,
   "id": "4cebed99",
   "metadata": {},
   "outputs": [
    {
     "data": {
      "text/plain": [
       "[1, 23, 3]"
      ]
     },
     "execution_count": 75,
     "metadata": {},
     "output_type": "execute_result"
    }
   ],
   "source": [
    "L"
   ]
  },
  {
   "cell_type": "code",
   "execution_count": 76,
   "id": "0d74d0f4",
   "metadata": {},
   "outputs": [],
   "source": [
    "# press tab after data_structure_nmae.(then press tab key) you have all the method \n",
    "# then ask ?? you get info regarding that function so that you can learn this "
   ]
  },
  {
   "cell_type": "code",
   "execution_count": 77,
   "id": "5ba460d7",
   "metadata": {},
   "outputs": [],
   "source": [
    "# a list can conatin another list , a tuple can contain list so this strucure is abstract on each other "
   ]
  },
  {
   "cell_type": "code",
   "execution_count": 78,
   "id": "c55612c8",
   "metadata": {},
   "outputs": [],
   "source": [
    "L = [1 ,2,3 , (2,32,23,1),{1,23,3},{13: 'soham', 55: 'hello', 'soham': '20 years '}]"
   ]
  },
  {
   "cell_type": "code",
   "execution_count": 79,
   "id": "d38578bf",
   "metadata": {},
   "outputs": [
    {
     "data": {
      "text/plain": [
       "1"
      ]
     },
     "execution_count": 79,
     "metadata": {},
     "output_type": "execute_result"
    }
   ],
   "source": [
    "L[3][3]"
   ]
  },
  {
   "cell_type": "code",
   "execution_count": 83,
   "id": "f7087ab4",
   "metadata": {},
   "outputs": [
    {
     "data": {
      "text/plain": [
       "'soham'"
      ]
     },
     "execution_count": 83,
     "metadata": {},
     "output_type": "execute_result"
    }
   ],
   "source": [
    "L[5][13]"
   ]
  },
  {
   "cell_type": "markdown",
   "id": "f4f1572e",
   "metadata": {},
   "source": [
    "### Problem solving using these data structures "
   ]
  },
  {
   "cell_type": "code",
   "execution_count": 84,
   "id": "7f51f627",
   "metadata": {},
   "outputs": [
    {
     "name": "stdout",
     "output_type": "stream",
     "text": [
      "Variable   Type    Data/Info\n",
      "----------------------------\n",
      "L          list    n=6\n",
      "L2         list    n=3\n"
     ]
    }
   ],
   "source": [
    "%whos"
   ]
  },
  {
   "cell_type": "code",
   "execution_count": 85,
   "id": "7e282444",
   "metadata": {},
   "outputs": [],
   "source": [
    "del L , L2"
   ]
  },
  {
   "cell_type": "code",
   "execution_count": null,
   "id": "051967b3",
   "metadata": {},
   "outputs": [],
   "source": [
    "database = []\n",
    "\n",
    "def generation_of_database():\n",
    "    num = int(input(\"Enter the number of students whose data you want to enter: \"))\n",
    "    \n",
    "    while num > 0:\n",
    "        student_data = {}\n",
    "        \n",
    "        student_id = int(input(\"Enter the student ID number: \"))\n",
    "        student_data['ID'] = student_id\n",
    "        \n",
    "        sub_num = int(input(\"Enter the number of subjects: \"))\n",
    "        subjects = {}\n",
    "        \n",
    "        while sub_num > 0:\n",
    "            sub_name = input(\"Enter the name of the subject: \")\n",
    "            sub_mark = float(input(\"Enter the marks of the subject: \"))\n",
    "            subjects[sub_name] = sub_mark\n",
    "            sub_num -= 1\n",
    "        \n",
    "        student_data['subjects'] = subjects\n",
    "        database.append(student_data)\n",
    "        \n",
    "        num -= 1\n",
    "\n",
    "# Call the function to generate the database\n",
    "generation_of_database()\n",
    "\n",
    "# Print the generated database\n",
    "print(database)\n"
   ]
  },
  {
   "cell_type": "code",
   "execution_count": null,
   "id": "95494090",
   "metadata": {},
   "outputs": [],
   "source": [
    "generation_of_database()"
   ]
  },
  {
   "cell_type": "code",
   "execution_count": 97,
   "id": "07a21682",
   "metadata": {},
   "outputs": [
    {
     "name": "stdout",
     "output_type": "stream",
     "text": [
      "Variable                 Type        Data/Info\n",
      "----------------------------------------------\n",
      "database                 list        n=0\n",
      "generation_of_database   function    <function generation_of_d<...>se at 0x000001F62CC0AF20>\n"
     ]
    }
   ],
   "source": [
    "%whos"
   ]
  },
  {
   "cell_type": "code",
   "execution_count": 99,
   "id": "9afe84ad",
   "metadata": {},
   "outputs": [],
   "source": [
    "del database ,generation_of_database"
   ]
  },
  {
   "cell_type": "code",
   "execution_count": null,
   "id": "c7510c52",
   "metadata": {},
   "outputs": [],
   "source": []
  }
 ],
 "metadata": {
  "kernelspec": {
   "display_name": "Python 3 (ipykernel)",
   "language": "python",
   "name": "python3"
  },
  "language_info": {
   "codemirror_mode": {
    "name": "ipython",
    "version": 3
   },
   "file_extension": ".py",
   "mimetype": "text/x-python",
   "name": "python",
   "nbconvert_exporter": "python",
   "pygments_lexer": "ipython3",
   "version": "3.11.4"
  }
 },
 "nbformat": 4,
 "nbformat_minor": 5
}
