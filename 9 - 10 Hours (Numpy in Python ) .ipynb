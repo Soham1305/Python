{
 "cells": [
  {
   "cell_type": "markdown",
   "id": "2051d831",
   "metadata": {},
   "source": [
    "## Numpy in python "
   ]
  },
  {
   "cell_type": "code",
   "execution_count": 5,
   "id": "6aeeb2e3",
   "metadata": {},
   "outputs": [],
   "source": [
    "import numpy as np "
   ]
  },
  {
   "cell_type": "code",
   "execution_count": 6,
   "id": "5dd7a015",
   "metadata": {},
   "outputs": [],
   "source": [
    "L = [1,2,3,4,5]"
   ]
  },
  {
   "cell_type": "code",
   "execution_count": 7,
   "id": "1d04aed4",
   "metadata": {},
   "outputs": [],
   "source": [
    "a = np.array(L)"
   ]
  },
  {
   "cell_type": "code",
   "execution_count": 8,
   "id": "2f28c237",
   "metadata": {},
   "outputs": [],
   "source": [
    "b = np.array(a)            # simply overwritten do nothing "
   ]
  },
  {
   "cell_type": "code",
   "execution_count": 9,
   "id": "dc1152a4",
   "metadata": {},
   "outputs": [
    {
     "data": {
      "text/plain": [
       "numpy.ndarray"
      ]
     },
     "execution_count": 9,
     "metadata": {},
     "output_type": "execute_result"
    }
   ],
   "source": [
    "type(a)"
   ]
  },
  {
   "cell_type": "code",
   "execution_count": 10,
   "id": "3f6502da",
   "metadata": {},
   "outputs": [
    {
     "data": {
      "text/plain": [
       "numpy.ndarray"
      ]
     },
     "execution_count": 10,
     "metadata": {},
     "output_type": "execute_result"
    }
   ],
   "source": [
    "type(b)"
   ]
  },
  {
   "cell_type": "code",
   "execution_count": 11,
   "id": "2dc3bd69",
   "metadata": {},
   "outputs": [
    {
     "name": "stdout",
     "output_type": "stream",
     "text": [
      "[1 2 3 4 5]\n"
     ]
    }
   ],
   "source": [
    "print(a)"
   ]
  },
  {
   "cell_type": "code",
   "execution_count": 12,
   "id": "1dbef34d",
   "metadata": {},
   "outputs": [
    {
     "name": "stdout",
     "output_type": "stream",
     "text": [
      "[1 2 3 4 5]\n"
     ]
    }
   ],
   "source": [
    "print(b)"
   ]
  },
  {
   "cell_type": "code",
   "execution_count": 13,
   "id": "1aaa3d58",
   "metadata": {},
   "outputs": [],
   "source": [
    "c = np.array([1,2,3,4,4],dtype='i')"
   ]
  },
  {
   "cell_type": "code",
   "execution_count": 14,
   "id": "5f570af5",
   "metadata": {},
   "outputs": [
    {
     "data": {
      "text/plain": [
       "array([1, 2, 3, 4, 4], dtype=int32)"
      ]
     },
     "execution_count": 14,
     "metadata": {},
     "output_type": "execute_result"
    }
   ],
   "source": [
    "c"
   ]
  },
  {
   "cell_type": "code",
   "execution_count": 15,
   "id": "a8b07f6a",
   "metadata": {},
   "outputs": [
    {
     "name": "stdout",
     "output_type": "stream",
     "text": [
      "[1 2 3 4 4]\n"
     ]
    }
   ],
   "source": [
    "print(c)"
   ]
  },
  {
   "cell_type": "code",
   "execution_count": 16,
   "id": "0c674de5",
   "metadata": {},
   "outputs": [
    {
     "name": "stdout",
     "output_type": "stream",
     "text": [
      "Variable   Type       Data/Info\n",
      "-------------------------------\n",
      "L          list       n=5\n",
      "a          ndarray    5: 5 elems, type `int32`, 20 bytes\n",
      "b          ndarray    5: 5 elems, type `int32`, 20 bytes\n",
      "c          ndarray    5: 5 elems, type `int32`, 20 bytes\n",
      "np         module     <module 'numpy' from 'D:\\<...>ges\\\\numpy\\\\__init__.py'>\n"
     ]
    }
   ],
   "source": [
    "%whos"
   ]
  },
  {
   "cell_type": "code",
   "execution_count": 17,
   "id": "a0cab71d",
   "metadata": {},
   "outputs": [],
   "source": [
    "del L,a,b,c"
   ]
  },
  {
   "cell_type": "code",
   "execution_count": 18,
   "id": "ccad9ada",
   "metadata": {},
   "outputs": [],
   "source": [
    "a = np.array([[1,2,3],[4,5,6],[7,8,9]])"
   ]
  },
  {
   "cell_type": "code",
   "execution_count": 19,
   "id": "6c02a127",
   "metadata": {},
   "outputs": [
    {
     "data": {
      "text/plain": [
       "2"
      ]
     },
     "execution_count": 19,
     "metadata": {},
     "output_type": "execute_result"
    }
   ],
   "source": [
    "a.ndim # ndim returns the Dimensions of the numpy array "
   ]
  },
  {
   "cell_type": "code",
   "execution_count": 20,
   "id": "080dc21c",
   "metadata": {},
   "outputs": [],
   "source": [
    "b = np.array([[[1,2,3],[4,5,6]],[[7,8,9],[10,11,12]]])        # always remember that the element number is always same "
   ]
  },
  {
   "cell_type": "code",
   "execution_count": 21,
   "id": "e9613608",
   "metadata": {},
   "outputs": [
    {
     "data": {
      "text/plain": [
       "3"
      ]
     },
     "execution_count": 21,
     "metadata": {},
     "output_type": "execute_result"
    }
   ],
   "source": [
    "b.ndim"
   ]
  },
  {
   "cell_type": "code",
   "execution_count": 22,
   "id": "93b5cccd",
   "metadata": {},
   "outputs": [
    {
     "data": {
      "text/plain": [
       "3"
      ]
     },
     "execution_count": 22,
     "metadata": {},
     "output_type": "execute_result"
    }
   ],
   "source": [
    "a[0][2]"
   ]
  },
  {
   "cell_type": "code",
   "execution_count": 23,
   "id": "54badef4",
   "metadata": {},
   "outputs": [
    {
     "data": {
      "text/plain": [
       "5"
      ]
     },
     "execution_count": 23,
     "metadata": {},
     "output_type": "execute_result"
    }
   ],
   "source": [
    "b[0][1][1]"
   ]
  },
  {
   "cell_type": "code",
   "execution_count": 24,
   "id": "c6ab80f7",
   "metadata": {},
   "outputs": [
    {
     "data": {
      "text/plain": [
       "9"
      ]
     },
     "execution_count": 24,
     "metadata": {},
     "output_type": "execute_result"
    }
   ],
   "source": [
    "a.size # size returns the total number of elemnet present in numpy array "
   ]
  },
  {
   "cell_type": "code",
   "execution_count": 25,
   "id": "13eabd65",
   "metadata": {},
   "outputs": [
    {
     "data": {
      "text/plain": [
       "12"
      ]
     },
     "execution_count": 25,
     "metadata": {},
     "output_type": "execute_result"
    }
   ],
   "source": [
    "b.size"
   ]
  },
  {
   "cell_type": "code",
   "execution_count": 26,
   "id": "4e01c7af",
   "metadata": {},
   "outputs": [
    {
     "name": "stdout",
     "output_type": "stream",
     "text": [
      "2 2 3\n"
     ]
    }
   ],
   "source": [
    "print(b.shape[0],b.shape[1],b.shape[2])"
   ]
  },
  {
   "cell_type": "code",
   "execution_count": 27,
   "id": "fafc5d6f",
   "metadata": {},
   "outputs": [
    {
     "data": {
      "text/plain": [
       "(2, 2, 3)"
      ]
     },
     "execution_count": 27,
     "metadata": {},
     "output_type": "execute_result"
    }
   ],
   "source": [
    "b.shape # returns in tuple "
   ]
  },
  {
   "cell_type": "code",
   "execution_count": 28,
   "id": "0f25e280",
   "metadata": {},
   "outputs": [
    {
     "data": {
      "text/plain": [
       "2"
      ]
     },
     "execution_count": 28,
     "metadata": {},
     "output_type": "execute_result"
    }
   ],
   "source": [
    "a.ndim"
   ]
  },
  {
   "cell_type": "code",
   "execution_count": 29,
   "id": "15021898",
   "metadata": {},
   "outputs": [
    {
     "data": {
      "text/plain": [
       "9"
      ]
     },
     "execution_count": 29,
     "metadata": {},
     "output_type": "execute_result"
    }
   ],
   "source": [
    "a.size"
   ]
  },
  {
   "cell_type": "code",
   "execution_count": 30,
   "id": "efc65f60",
   "metadata": {},
   "outputs": [
    {
     "data": {
      "text/plain": [
       "(3, 3)"
      ]
     },
     "execution_count": 30,
     "metadata": {},
     "output_type": "execute_result"
    }
   ],
   "source": [
    "a.shape"
   ]
  },
  {
   "cell_type": "code",
   "execution_count": 31,
   "id": "dd9a3943",
   "metadata": {},
   "outputs": [
    {
     "data": {
      "text/plain": [
       "3"
      ]
     },
     "execution_count": 31,
     "metadata": {},
     "output_type": "execute_result"
    }
   ],
   "source": [
    "a.shape[0]"
   ]
  },
  {
   "cell_type": "code",
   "execution_count": 32,
   "id": "03067054",
   "metadata": {
    "scrolled": true
   },
   "outputs": [
    {
     "data": {
      "text/plain": [
       "3"
      ]
     },
     "execution_count": 32,
     "metadata": {},
     "output_type": "execute_result"
    }
   ],
   "source": [
    "a.shape[1]"
   ]
  },
  {
   "cell_type": "code",
   "execution_count": 33,
   "id": "343c5070",
   "metadata": {},
   "outputs": [
    {
     "data": {
      "text/plain": [
       "36"
      ]
     },
     "execution_count": 33,
     "metadata": {},
     "output_type": "execute_result"
    }
   ],
   "source": [
    "a.nbytes"
   ]
  },
  {
   "cell_type": "code",
   "execution_count": 34,
   "id": "5b9e73dc",
   "metadata": {},
   "outputs": [
    {
     "data": {
      "text/plain": [
       "48"
      ]
     },
     "execution_count": 34,
     "metadata": {},
     "output_type": "execute_result"
    }
   ],
   "source": [
    "b.nbytes"
   ]
  },
  {
   "cell_type": "code",
   "execution_count": 35,
   "id": "5daf39f6",
   "metadata": {},
   "outputs": [
    {
     "data": {
      "text/plain": [
       "array([1., 1., 1.])"
      ]
     },
     "execution_count": 35,
     "metadata": {},
     "output_type": "execute_result"
    }
   ],
   "source": [
    "np.ones(3)"
   ]
  },
  {
   "cell_type": "code",
   "execution_count": 36,
   "id": "baf3aad8",
   "metadata": {},
   "outputs": [
    {
     "data": {
      "text/plain": [
       "array([ 0,  1,  2,  3,  4,  5,  6,  7,  8,  9, 10, 11, 12, 13, 14, 15, 16,\n",
       "       17, 18, 19, 20, 21, 22, 23, 24, 25, 26, 27, 28, 29, 30, 31, 32, 33,\n",
       "       34, 35, 36, 37, 38, 39, 40, 41, 42, 43, 44, 45, 46, 47, 48, 49, 50,\n",
       "       51, 52, 53, 54, 55, 56, 57, 58, 59, 60, 61, 62, 63, 64, 65, 66, 67,\n",
       "       68, 69, 70, 71, 72, 73, 74, 75, 76, 77, 78, 79, 80, 81, 82, 83, 84,\n",
       "       85, 86, 87, 88, 89, 90, 91, 92, 93, 94, 95, 96, 97, 98, 99])"
      ]
     },
     "execution_count": 36,
     "metadata": {},
     "output_type": "execute_result"
    }
   ],
   "source": [
    "np.arange(100)"
   ]
  },
  {
   "cell_type": "code",
   "execution_count": 37,
   "id": "4eb06894",
   "metadata": {},
   "outputs": [
    {
     "data": {
      "text/plain": [
       "array([ 20,  35,  50,  65,  80,  95, 110, 125, 140, 155, 170, 185, 200,\n",
       "       215, 230, 245, 260, 275, 290, 305, 320, 335, 350, 365, 380, 395,\n",
       "       410, 425, 440, 455, 470, 485, 500, 515, 530, 545, 560, 575, 590,\n",
       "       605, 620, 635, 650, 665, 680, 695, 710, 725, 740, 755, 770, 785,\n",
       "       800, 815, 830, 845, 860, 875, 890, 905, 920, 935, 950, 965, 980,\n",
       "       995])"
      ]
     },
     "execution_count": 37,
     "metadata": {},
     "output_type": "execute_result"
    }
   ],
   "source": [
    "np.arange(20,1000,15)"
   ]
  },
  {
   "cell_type": "code",
   "execution_count": 38,
   "id": "ea806147",
   "metadata": {},
   "outputs": [
    {
     "name": "stdout",
     "output_type": "stream",
     "text": [
      "Variable   Type       Data/Info\n",
      "-------------------------------\n",
      "a          ndarray    3x3: 9 elems, type `int32`, 36 bytes\n",
      "b          ndarray    2x2x3: 12 elems, type `int32`, 48 bytes\n",
      "np         module     <module 'numpy' from 'D:\\<...>ges\\\\numpy\\\\__init__.py'>\n"
     ]
    }
   ],
   "source": [
    "%whos"
   ]
  },
  {
   "cell_type": "code",
   "execution_count": 39,
   "id": "11feaad0",
   "metadata": {},
   "outputs": [
    {
     "data": {
      "text/plain": [
       "array([ 20,  35,  50,  65,  80,  95, 110, 125, 140, 155, 170, 185, 200,\n",
       "       215, 230, 245, 260, 275, 290, 305, 320, 335, 350, 365, 380, 395,\n",
       "       410, 425, 440, 455, 470, 485, 500, 515, 530, 545, 560, 575, 590,\n",
       "       605, 620, 635, 650, 665, 680, 695, 710, 725, 740, 755, 770, 785,\n",
       "       800, 815, 830, 845, 860, 875, 890, 905, 920, 935, 950, 965, 980,\n",
       "       995])"
      ]
     },
     "execution_count": 39,
     "metadata": {},
     "output_type": "execute_result"
    }
   ],
   "source": [
    "_"
   ]
  },
  {
   "cell_type": "code",
   "execution_count": 40,
   "id": "b30255c1",
   "metadata": {},
   "outputs": [
    {
     "name": "stdout",
     "output_type": "stream",
     "text": [
      "[0, 2, 4, 6, 8]\n"
     ]
    }
   ],
   "source": [
    "print(list(range(0,10,2)))"
   ]
  },
  {
   "cell_type": "code",
   "execution_count": 41,
   "id": "f6703481",
   "metadata": {},
   "outputs": [
    {
     "data": {
      "text/plain": [
       "array([7, 8, 3, 1, 6, 2, 4, 9, 0, 5])"
      ]
     },
     "execution_count": 41,
     "metadata": {},
     "output_type": "execute_result"
    }
   ],
   "source": [
    "np.random.permutation(10)"
   ]
  },
  {
   "cell_type": "code",
   "execution_count": 42,
   "id": "1b055980",
   "metadata": {},
   "outputs": [
    {
     "data": {
      "text/plain": [
       "b'\\xba'"
      ]
     },
     "execution_count": 42,
     "metadata": {},
     "output_type": "execute_result"
    }
   ],
   "source": [
    "np.random.bytes(1)"
   ]
  },
  {
   "cell_type": "code",
   "execution_count": 43,
   "id": "6d30470b",
   "metadata": {},
   "outputs": [
    {
     "name": "stdout",
     "output_type": "stream",
     "text": [
      "Variable   Type       Data/Info\n",
      "-------------------------------\n",
      "a          ndarray    3x3: 9 elems, type `int32`, 36 bytes\n",
      "b          ndarray    2x2x3: 12 elems, type `int32`, 48 bytes\n",
      "np         module     <module 'numpy' from 'D:\\<...>ges\\\\numpy\\\\__init__.py'>\n"
     ]
    }
   ],
   "source": [
    "%whos"
   ]
  },
  {
   "cell_type": "code",
   "execution_count": 44,
   "id": "02500f40",
   "metadata": {},
   "outputs": [],
   "source": [
    "r_i = np.random.randint(20,300)"
   ]
  },
  {
   "cell_type": "code",
   "execution_count": 45,
   "id": "8103f816",
   "metadata": {},
   "outputs": [
    {
     "data": {
      "text/plain": [
       "113"
      ]
     },
     "execution_count": 45,
     "metadata": {},
     "output_type": "execute_result"
    }
   ],
   "source": [
    "r_i"
   ]
  },
  {
   "cell_type": "code",
   "execution_count": 46,
   "id": "6ac0d079",
   "metadata": {},
   "outputs": [],
   "source": [
    "D = list(range(1,20,2))"
   ]
  },
  {
   "cell_type": "code",
   "execution_count": 47,
   "id": "5b8c232f",
   "metadata": {},
   "outputs": [
    {
     "data": {
      "text/plain": [
       "[1, 3, 5, 7, 9, 11, 13, 15, 17, 19]"
      ]
     },
     "execution_count": 47,
     "metadata": {},
     "output_type": "execute_result"
    }
   ],
   "source": [
    "D"
   ]
  },
  {
   "cell_type": "code",
   "execution_count": 48,
   "id": "bbffdbb7",
   "metadata": {},
   "outputs": [],
   "source": [
    " DE = np.random.rand(1000)"
   ]
  },
  {
   "cell_type": "code",
   "execution_count": 49,
   "id": "6e4df3b7",
   "metadata": {},
   "outputs": [],
   "source": [
    "import matplotlib.pyplot as plt"
   ]
  },
  {
   "cell_type": "code",
   "execution_count": 50,
   "id": "cae6738e",
   "metadata": {},
   "outputs": [
    {
     "data": {
      "text/plain": [
       "(array([3., 1., 3., 3., 1., 1., 0., 1., 0., 1., 1., 1., 1., 2., 0., 0., 0.,\n",
       "        1., 0., 2., 0., 0., 1., 0., 2., 2., 1., 0., 0., 1., 0., 2., 0., 1.,\n",
       "        0., 0., 1., 0., 1., 1., 0., 0., 2., 0., 0., 0., 3., 0., 1., 0., 3.,\n",
       "        1., 1., 1., 1., 1., 0., 4., 1., 1., 0., 2., 2., 0., 1., 1., 3., 0.,\n",
       "        2., 1., 0., 0., 2., 1., 1., 0., 0., 0., 1., 0., 2., 1., 1., 1., 0.,\n",
       "        0., 1., 2., 0., 1., 1., 2., 0., 1., 4., 0., 1., 0., 1., 1., 2., 0.,\n",
       "        0., 1., 1., 1., 0., 1., 1., 3., 0., 0., 0., 0., 2., 1., 0., 2., 1.,\n",
       "        0., 0., 1., 1., 0., 0., 1., 1., 3., 1., 1., 2., 1., 2., 2., 1., 1.,\n",
       "        1., 0., 0., 1., 0., 2., 3., 1., 0., 1., 0., 2., 0., 0., 0., 2., 1.,\n",
       "        2., 0., 2., 1., 0., 1., 1., 1., 0., 1., 0., 1., 1., 1., 1., 3., 0.,\n",
       "        2., 0., 2., 0., 0., 1., 1., 0., 1., 0., 0., 0., 1., 0., 0., 1., 1.,\n",
       "        2., 1., 2., 2., 1., 1., 1., 1., 1., 4., 1., 2., 1., 1., 1., 0., 0.,\n",
       "        1., 1., 3., 3., 3., 0., 1., 1., 2., 3., 2., 1., 2., 1., 1., 1., 2.,\n",
       "        0., 2., 1., 2., 3., 0., 1., 2., 0., 0., 3., 2., 3., 3., 0., 1., 0.,\n",
       "        0., 0., 2., 3., 0., 0., 2., 1., 0., 2., 1., 0., 1., 4., 1., 4., 1.,\n",
       "        0., 0., 2., 0., 1., 4., 3., 1., 0., 1., 0., 1., 3., 2., 1., 0., 0.,\n",
       "        2., 1., 0., 0., 0., 0., 2., 0., 2., 0., 1., 0., 0., 2., 2., 0., 1.,\n",
       "        2., 1., 1., 0., 1., 0., 0., 3., 2., 1., 1., 1., 1., 1., 2., 0., 0.,\n",
       "        0., 0., 0., 0., 1., 1., 0., 0., 2., 1., 0., 2., 2., 1., 2., 0., 0.,\n",
       "        1., 1., 0., 1., 0., 0., 1., 1., 0., 2., 2., 0., 0., 0., 1., 3., 1.,\n",
       "        0., 2., 1., 1., 2., 0., 0., 2., 0., 2., 0., 2., 1., 1., 2., 0., 0.,\n",
       "        0., 3., 1., 2., 1., 0., 2., 0., 0., 1., 2., 1., 2., 1., 0., 1., 0.,\n",
       "        1., 2., 1., 1., 2., 1., 2., 1., 3., 0., 1., 4., 2., 3., 0., 2., 3.,\n",
       "        2., 1., 0., 0., 1., 2., 1., 0., 1., 1., 1., 0., 2., 1., 1., 0., 0.,\n",
       "        0., 0., 2., 0., 4., 1., 1., 2., 0., 1., 1., 1., 1., 0., 3., 0., 2.,\n",
       "        2., 1., 2., 2., 1., 2., 0., 2., 0., 1., 1., 1., 0., 0., 0., 1., 1.,\n",
       "        1., 1., 0., 2., 1., 1., 0., 1., 4., 0., 2., 1., 1., 1., 2., 0., 3.,\n",
       "        0., 2., 0., 0., 1., 1., 4., 0., 3., 0., 0., 1., 2., 1., 1., 0., 1.,\n",
       "        0., 0., 2., 2., 0., 0., 0., 1., 3., 1., 1., 3., 0., 0., 1., 1., 2.,\n",
       "        0., 1., 1., 0., 3., 0., 1., 0., 0., 0., 0., 0., 0., 2., 1., 0., 1.,\n",
       "        1., 1., 1., 0., 0., 0., 1., 0., 0., 1., 1., 0., 0., 1., 0., 1., 0.,\n",
       "        0., 1., 2., 1., 1., 1., 0., 1., 1., 1., 0., 2., 1., 0., 0., 0., 0.,\n",
       "        0., 0., 1., 1., 4., 3., 1., 0., 3., 1., 3., 2., 0., 2., 2., 0., 0.,\n",
       "        2., 1., 1., 0., 0., 1., 0., 4., 1., 1., 1., 1., 2., 1., 0., 3., 0.,\n",
       "        0., 2., 0., 1., 2., 3., 1., 0., 1., 1., 1., 3., 0., 2., 0., 1., 0.,\n",
       "        0., 0., 2., 1., 1., 1., 0., 0., 2., 1., 2., 0., 1., 0., 0., 0., 0.,\n",
       "        0., 2., 0., 1., 0., 2., 0., 1., 4., 0., 1., 0., 1., 2., 0., 0., 0.,\n",
       "        0., 0., 1., 4., 2., 0., 0., 0., 0., 1., 0., 1., 0., 0., 0., 1., 0.,\n",
       "        2., 2., 0., 0., 1., 1., 0., 0., 0., 0., 1., 1., 2., 1., 2., 0., 3.,\n",
       "        1., 1., 0., 1., 0., 0., 3., 1., 0., 1., 0., 0., 3., 0., 1., 0., 0.,\n",
       "        1., 0., 2., 2., 1., 1., 0., 0., 0., 1., 4., 2., 2., 0., 0., 1., 2.,\n",
       "        2., 1., 0., 2., 1., 1., 0., 0., 0., 0., 2., 1., 0., 5., 0., 1., 2.,\n",
       "        2., 4., 1., 3., 2., 0., 2., 2., 2., 0., 2., 2., 0., 0., 3., 1., 2.,\n",
       "        0., 0., 2., 1., 1., 0., 2., 0., 0., 3., 1., 0., 2., 2., 1., 2., 0.,\n",
       "        0., 1., 1., 2., 0., 0., 0., 1., 3., 2., 0., 3., 1., 3., 1., 0., 0.,\n",
       "        2., 1., 1., 1., 2., 1., 2., 0., 1., 1., 1., 1., 1., 1., 1., 2., 1.,\n",
       "        2., 1., 0., 1., 1., 0., 0., 1., 2., 1., 0., 1., 2., 0., 0., 1., 0.,\n",
       "        2., 1., 2., 1., 0., 1., 0., 1., 0., 1., 0., 0., 1., 2., 1., 1., 0.,\n",
       "        0., 3., 3., 1., 2., 1., 0., 2., 0., 1., 1., 0., 1., 1., 1., 1., 1.,\n",
       "        2., 0., 0., 1., 1., 0., 0., 1., 2., 0., 0., 2., 2., 0., 1., 1., 1.,\n",
       "        1., 2., 0., 2., 2., 2., 0., 1., 1., 2., 1., 2., 0., 1., 0., 0., 3.,\n",
       "        1., 0., 0., 1., 1., 2., 1., 2., 1., 2., 1., 2., 2., 0., 2., 1., 1.,\n",
       "        1., 1., 0., 1., 1., 1., 1., 1., 2., 1., 4., 1., 1., 2., 0., 1., 0.,\n",
       "        0., 1., 2., 1., 0., 3., 2., 2., 0., 0., 1., 0., 1., 1., 2., 2., 0.,\n",
       "        4., 0., 0., 0., 0., 0., 0., 2., 2., 0., 0., 1., 2., 1., 0., 1., 4.,\n",
       "        0., 2., 0., 1., 1., 1., 2., 1., 2., 0., 0., 3., 0., 2., 2., 0., 1.,\n",
       "        0., 2., 0., 1., 1., 0., 2., 0., 3., 0., 1., 1., 2., 2., 3., 2., 1.,\n",
       "        1., 1., 0., 3., 3., 0., 0., 0., 0., 1., 2., 0., 0., 0., 3., 2., 0.,\n",
       "        1., 2., 2., 2., 0., 1., 1., 2., 2., 0., 0., 0., 0., 2.]),\n",
       " array([0.00171109, 0.00270807, 0.00370504, ..., 0.99668869, 0.99768566,\n",
       "        0.99868263]),\n",
       " <BarContainer object of 1000 artists>)"
      ]
     },
     "execution_count": 50,
     "metadata": {},
     "output_type": "execute_result"
    },
    {
     "data": {
      "image/png": "[encoded data removed]",
      "text/plain": [
       "<Figure size 640x480 with 1 Axes>"
      ]
     },
     "metadata": {},
     "output_type": "display_data"
    }
   ],
   "source": [
    "plt.hist(DE,bins=1000)"
   ]
  },
  {
   "cell_type": "code",
   "execution_count": 51,
   "id": "8de13ae8",
   "metadata": {},
   "outputs": [],
   "source": [
    " DC = np.random.randn(100000)"
   ]
  },
  {
   "cell_type": "code",
   "execution_count": 52,
   "id": "1a796e20",
   "metadata": {},
   "outputs": [
    {
     "data": {
      "text/plain": [
       "(array([  1.,   0.,   0.,   0.,   0.,   0.,   0.,   0.,   0.,   0.,   0.,\n",
       "          0.,   0.,   1.,   0.,   0.,   0.,   0.,   0.,   1.,   0.,   0.,\n",
       "          0.,   0.,   0.,   0.,   0.,   0.,   0.,   1.,   0.,   0.,   0.,\n",
       "          0.,   0.,   0.,   0.,   0.,   0.,   0.,   0.,   0.,   0.,   0.,\n",
       "          0.,   0.,   1.,   0.,   0.,   1.,   1.,   1.,   0.,   0.,   0.,\n",
       "          0.,   0.,   1.,   1.,   0.,   1.,   0.,   1.,   0.,   0.,   0.,\n",
       "          0.,   0.,   2.,   0.,   1.,   1.,   1.,   0.,   1.,   0.,   2.,\n",
       "          2.,   1.,   0.,   1.,   2.,   3.,   0.,   1.,   2.,   1.,   0.,\n",
       "          0.,   0.,   0.,   0.,   2.,   2.,   1.,   0.,   2.,   0.,   1.,\n",
       "          3.,   1.,   1.,   1.,   2.,   1.,   1.,   2.,   3.,   0.,   5.,\n",
       "          1.,   3.,   2.,   1.,   1.,   0.,   1.,   2.,   1.,   0.,   2.,\n",
       "          2.,   1.,   0.,   1.,   5.,   6.,   6.,   7.,   3.,   5.,   3.,\n",
       "          7.,   4.,   6.,   4.,   5.,   1.,   7.,   5.,   7.,   4.,   6.,\n",
       "          5.,   8.,   3.,   5.,  10.,   3.,   8.,  10.,   6.,   3.,   6.,\n",
       "          3.,   6.,   8.,   4.,  11.,   7.,   5.,  10.,   4.,   9.,   5.,\n",
       "          9.,   9.,   5.,  18.,   8.,  12.,   9.,  11.,   6.,  13.,  11.,\n",
       "          7.,  13.,  16.,  19.,  11.,  13.,   6.,  14.,  16.,  12.,  11.,\n",
       "         12.,  11.,  13.,  10.,  13.,  12.,  17.,  17.,  13.,  20.,  11.,\n",
       "         20.,  18.,  18.,  20.,  21.,  27.,  11.,  22.,  20.,  13.,  18.,\n",
       "         24.,  20.,  18.,  30.,  18.,  17.,  24.,  17.,  30.,  20.,  28.,\n",
       "         27.,  31.,  33.,  22.,  31.,  30.,  32.,  21.,  25.,  18.,  29.,\n",
       "         41.,  40.,  38.,  35.,  40.,  39.,  31.,  45.,  30.,  36.,  41.,\n",
       "         47.,  28.,  42.,  37.,  33.,  35.,  37.,  52.,  36.,  37.,  49.,\n",
       "         64.,  45.,  48.,  44.,  42.,  46.,  50.,  46.,  52.,  54.,  55.,\n",
       "         49.,  58.,  51.,  62.,  70.,  59.,  56.,  62.,  64.,  76.,  72.,\n",
       "         61.,  82.,  86.,  65.,  77.,  68.,  73.,  78.,  76.,  84.,  92.,\n",
       "         75.,  87.,  65.,  94.,  88.,  84.,  71.,  90.,  85.,  95.,  99.,\n",
       "         92.,  84.,  96., 120., 107., 101., 102., 102., 100.,  95., 102.,\n",
       "        111.,  94., 138., 122., 108., 117., 108., 118., 122., 116., 106.,\n",
       "        138., 109., 115., 120., 132., 130., 126., 119., 142., 132., 131.,\n",
       "        132., 139., 127., 152., 148., 137., 155., 117., 168., 150., 121.,\n",
       "        152., 154., 165., 170., 184., 168., 176., 181., 164., 145., 189.,\n",
       "        149., 180., 163., 170., 176., 195., 189., 163., 189., 178., 197.,\n",
       "        187., 207., 205., 186., 184., 199., 219., 205., 199., 215., 230.,\n",
       "        187., 191., 232., 227., 229., 240., 237., 241., 257., 247., 240.,\n",
       "        240., 234., 225., 252., 228., 262., 244., 229., 244., 261., 245.,\n",
       "        251., 251., 251., 212., 256., 276., 261., 275., 286., 217., 261.,\n",
       "        253., 277., 244., 308., 279., 296., 251., 277., 259., 296., 300.,\n",
       "        265., 311., 287., 341., 273., 261., 288., 299., 296., 301., 310.,\n",
       "        329., 281., 325., 286., 304., 327., 277., 331., 324., 307., 298.,\n",
       "        324., 301., 321., 305., 300., 345., 323., 321., 357., 303., 325.,\n",
       "        305., 334., 324., 324., 330., 345., 329., 366., 337., 309., 323.,\n",
       "        332., 325., 308., 317., 311., 335., 352., 330., 338., 340., 310.,\n",
       "        339., 352., 309., 340., 319., 361., 349., 326., 329., 303., 331.,\n",
       "        354., 362., 340., 311., 372., 321., 295., 353., 326., 340., 310.,\n",
       "        327., 337., 323., 331., 364., 331., 345., 337., 325., 331., 328.,\n",
       "        331., 320., 336., 346., 381., 333., 325., 330., 314., 350., 321.,\n",
       "        309., 346., 330., 330., 334., 350., 325., 338., 338., 299., 326.,\n",
       "        294., 297., 322., 310., 311., 305., 318., 313., 336., 291., 303.,\n",
       "        317., 320., 292., 317., 286., 304., 301., 304., 301., 271., 295.,\n",
       "        275., 295., 275., 303., 308., 277., 268., 296., 263., 308., 276.,\n",
       "        262., 281., 294., 265., 273., 293., 246., 263., 255., 235., 256.,\n",
       "        241., 244., 262., 246., 265., 265., 252., 260., 254., 219., 268.,\n",
       "        218., 258., 216., 219., 221., 242., 267., 237., 215., 264., 208.,\n",
       "        237., 226., 203., 232., 242., 222., 184., 248., 205., 196., 188.,\n",
       "        227., 216., 218., 217., 186., 190., 190., 178., 182., 224., 211.,\n",
       "        179., 197., 190., 183., 195., 174., 176., 152., 171., 179., 157.,\n",
       "        183., 204., 162., 158., 173., 150., 148., 139., 159., 155., 146.,\n",
       "        151., 149., 146., 142., 157., 133., 147., 145., 107., 136., 119.,\n",
       "        137., 153., 144., 132., 115., 122., 121., 128., 125., 107., 116.,\n",
       "        101., 122., 103., 113., 101., 123.,  95., 104.,  99.,  99.,  96.,\n",
       "        100., 103.,  94., 102.,  97.,  87.,  93.,  84.,  90., 100.,  84.,\n",
       "         96.,  92.,  86.,  70.,  78.,  78.,  85.,  85.,  68.,  69.,  52.,\n",
       "         74.,  93.,  72.,  78.,  63.,  69.,  70.,  67.,  89.,  66.,  63.,\n",
       "         79.,  72.,  62.,  63.,  56.,  70.,  64.,  73.,  57.,  48.,  47.,\n",
       "         48.,  47.,  43.,  53.,  52.,  54.,  47.,  44.,  51.,  53.,  49.,\n",
       "         49.,  41.,  46.,  62.,  44.,  39.,  37.,  36.,  31.,  39.,  39.,\n",
       "         40.,  44.,  33.,  29.,  28.,  32.,  24.,  39.,  38.,  27.,  31.,\n",
       "         25.,  18.,  32.,  35.,  20.,  24.,  18.,  22.,  23.,  26.,  25.,\n",
       "         18.,  26.,  25.,  24.,  18.,  18.,  19.,  19.,  16.,  25.,  22.,\n",
       "         26.,  20.,  23.,  19.,  21.,  18.,  16.,   9.,  17.,   7.,  23.,\n",
       "         12.,  18.,  11.,  16.,  15.,  13.,  12.,  13.,  11.,   9.,  12.,\n",
       "         10.,   9.,   9.,  11.,  17.,   5.,   5.,  10.,  12.,  11.,  11.,\n",
       "         18.,   9.,   7.,  14.,   6.,   9.,   6.,  13.,   6.,   5.,   7.,\n",
       "          6.,   8.,   5.,   5.,   8.,   2.,   5.,   3.,   5.,   4.,   5.,\n",
       "          2.,   0.,   6.,   6.,   9.,   3.,   4.,   6.,   5.,   5.,   4.,\n",
       "          1.,   2.,   5.,   6.,   2.,   8.,   3.,   1.,   3.,   4.,   3.,\n",
       "          2.,   2.,   3.,   1.,   3.,   2.,   3.,   3.,   2.,   2.,   1.,\n",
       "          3.,   3.,   5.,   3.,   1.,   2.,   1.,   2.,   1.,   2.,   1.,\n",
       "          1.,   2.,   2.,   1.,   0.,   2.,   1.,   6.,   0.,   2.,   0.,\n",
       "          5.,   3.,   0.,   1.,   0.,   2.,   0.,   1.,   1.,   0.,   1.,\n",
       "          0.,   1.,   0.,   1.,   1.,   1.,   0.,   3.,   2.,   1.,   0.,\n",
       "          0.,   1.,   0.,   4.,   0.,   1.,   1.,   1.,   0.,   2.,   1.,\n",
       "          0.,   1.,   0.,   1.,   0.,   0.,   0.,   0.,   1.,   0.,   0.,\n",
       "          0.,   1.,   2.,   1.,   1.,   0.,   0.,   0.,   1.,   0.,   0.,\n",
       "          1.,   0.,   0.,   1.,   0.,   0.,   0.,   1.,   0.,   0.,   0.,\n",
       "          0.,   1.,   1.,   0.,   0.,   0.,   0.,   0.,   1.,   1.,   0.,\n",
       "          0.,   1.,   0.,   0.,   0.,   0.,   0.,   0.,   0.,   0.,   1.,\n",
       "          0.,   0.,   0.,   0.,   0.,   0.,   0.,   0.,   0.,   0.,   0.,\n",
       "          0.,   0.,   0.,   0.,   0.,   0.,   0.,   0.,   0.,   0.,   0.,\n",
       "          0.,   0.,   0.,   0.,   0.,   0.,   0.,   0.,   0.,   1.]),\n",
       " array([-4.14385957, -4.13535603, -4.12685249, ...,  4.34267394,\n",
       "         4.35117748,  4.35968102]),\n",
       " <BarContainer object of 1000 artists>)"
      ]
     },
     "execution_count": 52,
     "metadata": {},
     "output_type": "execute_result"
    },
    {
     "data": {
      "image/png": "[encoded data removed]",
      "text/plain": [
       "<Figure size 640x480 with 1 Axes>"
      ]
     },
     "metadata": {},
     "output_type": "display_data"
    }
   ],
   "source": [
    "plt.hist(DC,bins=1000) # when you increase the bins you see the gaussinan data base : "
   ]
  },
  {
   "cell_type": "code",
   "execution_count": 53,
   "id": "9442310a",
   "metadata": {},
   "outputs": [],
   "source": [
    "# create 2 D array using numpy \n",
    "C  = np.random.rand(3,3,3,5,4)"
   ]
  },
  {
   "cell_type": "code",
   "execution_count": 54,
   "id": "c8df2c31",
   "metadata": {},
   "outputs": [
    {
     "data": {
      "text/plain": [
       "array([[[[[0.56199644, 0.30617109, 0.56176761, 0.78940607],\n",
       "          [0.03138896, 0.20776237, 0.1857712 , 0.45664047],\n",
       "          [0.23639119, 0.25787368, 0.08777467, 0.77507012],\n",
       "          [0.62955119, 0.33136971, 0.98670674, 0.76623416],\n",
       "          [0.05153568, 0.11201384, 0.16874558, 0.28620018]],\n",
       "\n",
       "         [[0.6642184 , 0.15046862, 0.21788287, 0.16231756],\n",
       "          [0.70537396, 0.4981341 , 0.28242018, 0.80055091],\n",
       "          [0.43250981, 0.91375702, 0.62691733, 0.51150279],\n",
       "          [0.89397882, 0.99782653, 0.12433194, 0.09551581],\n",
       "          [0.6343846 , 0.72299834, 0.65405141, 0.74698918]],\n",
       "\n",
       "         [[0.40652502, 0.31569687, 0.50890576, 0.25096276],\n",
       "          [0.77234264, 0.73258345, 0.35550085, 0.80392093],\n",
       "          [0.98885394, 0.6679423 , 0.17723596, 0.84565746],\n",
       "          [0.88896642, 0.18899075, 0.36237624, 0.29913207],\n",
       "          [0.95135277, 0.15536595, 0.91758424, 0.03599596]]],\n",
       "\n",
       "\n",
       "        [[[0.49515229, 0.12957208, 0.19895802, 0.72569186],\n",
       "          [0.97826003, 0.82045559, 0.35772605, 0.02012067],\n",
       "          [0.85508398, 0.8984543 , 0.96629909, 0.60294796],\n",
       "          [0.7151019 , 0.80616459, 0.94533172, 0.74587877],\n",
       "          [0.11470268, 0.48698267, 0.64986924, 0.59385419]],\n",
       "\n",
       "         [[0.08730688, 0.47358159, 0.49732662, 0.54411441],\n",
       "          [0.59019942, 0.35820875, 0.36924239, 0.01782893],\n",
       "          [0.21058825, 0.35188324, 0.38846216, 0.6344923 ],\n",
       "          [0.91006205, 0.71875176, 0.08715623, 0.66018365],\n",
       "          [0.54374928, 0.8706984 , 0.38715755, 0.75631875]],\n",
       "\n",
       "         [[0.36120499, 0.90665205, 0.88791163, 0.23383873],\n",
       "          [0.24745917, 0.28941592, 0.03960995, 0.62978857],\n",
       "          [0.30288489, 0.33212349, 0.4318215 , 0.4219082 ],\n",
       "          [0.44487248, 0.75281461, 0.46259859, 0.91992118],\n",
       "          [0.01898431, 0.15460786, 0.05029243, 0.64511303]]],\n",
       "\n",
       "\n",
       "        [[[0.44370299, 0.41708063, 0.10163033, 0.44292789],\n",
       "          [0.22004022, 0.52229212, 0.94519695, 0.48961397],\n",
       "          [0.54083683, 0.03957659, 0.55747995, 0.20684519],\n",
       "          [0.43139813, 0.53142073, 0.20013659, 0.78243596],\n",
       "          [0.69591116, 0.10765643, 0.12938041, 0.89013017]],\n",
       "\n",
       "         [[0.76381898, 0.00816246, 0.6392398 , 0.0755365 ],\n",
       "          [0.92626067, 0.28398222, 0.46069086, 0.3230066 ],\n",
       "          [0.04582376, 0.80883729, 0.38079772, 0.02769088],\n",
       "          [0.38803595, 0.60214483, 0.27434317, 0.09567203],\n",
       "          [0.43094496, 0.86105736, 0.12972673, 0.10811573]],\n",
       "\n",
       "         [[0.2246472 , 0.01896508, 0.33487498, 0.49087298],\n",
       "          [0.51924193, 0.67808158, 0.18277964, 0.95468643],\n",
       "          [0.70071153, 0.96123126, 0.02000637, 0.61072633],\n",
       "          [0.04595574, 0.56156825, 0.54123583, 0.97171034],\n",
       "          [0.62344926, 0.09610158, 0.29288263, 0.1644617 ]]]],\n",
       "\n",
       "\n",
       "\n",
       "       [[[[0.17148054, 0.5606589 , 0.84787753, 0.12740081],\n",
       "          [0.47253512, 0.35877685, 0.80062611, 0.01514147],\n",
       "          [0.86831475, 0.10721175, 0.89664576, 0.68203878],\n",
       "          [0.89115769, 0.95704049, 0.7667787 , 0.14561312],\n",
       "          [0.63780287, 0.71649065, 0.08622674, 0.55364429]],\n",
       "\n",
       "         [[0.29379584, 0.35304076, 0.42919516, 0.40614184],\n",
       "          [0.8650698 , 0.35865109, 0.58940496, 0.09465097],\n",
       "          [0.09307155, 0.41635235, 0.00993289, 0.43370138],\n",
       "          [0.63038813, 0.36435168, 0.76534757, 0.5303855 ],\n",
       "          [0.71700272, 0.76052485, 0.03047702, 0.22407606]],\n",
       "\n",
       "         [[0.10434946, 0.02857127, 0.70171984, 0.03907264],\n",
       "          [0.97694196, 0.43504452, 0.87761386, 0.69982629],\n",
       "          [0.78864954, 0.69478774, 0.35834044, 0.35853379],\n",
       "          [0.68085271, 0.85783214, 0.62248972, 0.07326232],\n",
       "          [0.73904632, 0.95293992, 0.12918199, 0.39597862]]],\n",
       "\n",
       "\n",
       "        [[[0.22729346, 0.16943883, 0.49703238, 0.50894037],\n",
       "          [0.04720948, 0.26499999, 0.16436676, 0.33298489],\n",
       "          [0.972247  , 0.01003902, 0.00855284, 0.45578065],\n",
       "          [0.39319903, 0.73083457, 0.51468027, 0.42060944],\n",
       "          [0.76146527, 0.45729793, 0.05914646, 0.77538353]],\n",
       "\n",
       "         [[0.57221443, 0.87392502, 0.31516475, 0.54612703],\n",
       "          [0.90826587, 0.79206246, 0.07364606, 0.35545402],\n",
       "          [0.32542671, 0.77305786, 0.97538264, 0.24031648],\n",
       "          [0.63468533, 0.22474159, 0.82771399, 0.61939008],\n",
       "          [0.57476197, 0.92756117, 0.0918535 , 0.26070998]],\n",
       "\n",
       "         [[0.99693531, 0.82632279, 0.08039347, 0.78301659],\n",
       "          [0.11276016, 0.26283879, 0.73209114, 0.67732785],\n",
       "          [0.6868692 , 0.47474526, 0.6420132 , 0.36024958],\n",
       "          [0.5592105 , 0.08145701, 0.15973851, 0.0654183 ],\n",
       "          [0.56818573, 0.22911522, 0.66293663, 0.12252924]]],\n",
       "\n",
       "\n",
       "        [[[0.61143024, 0.75526535, 0.52883824, 0.05917255],\n",
       "          [0.98203969, 0.07133024, 0.53440827, 0.93195031],\n",
       "          [0.7111698 , 0.30536758, 0.52597852, 0.43599971],\n",
       "          [0.117665  , 0.52825927, 0.15750953, 0.72990838],\n",
       "          [0.33601149, 0.72819665, 0.14427724, 0.35739265]],\n",
       "\n",
       "         [[0.45346996, 0.0514078 , 0.42853091, 0.75277539],\n",
       "          [0.01321862, 0.89190921, 0.48022188, 0.43010308],\n",
       "          [0.93718052, 0.40692054, 0.29069379, 0.43644627],\n",
       "          [0.09838607, 0.09797613, 0.23717971, 0.50674756],\n",
       "          [0.50765835, 0.2175773 , 0.26767414, 0.52258911]],\n",
       "\n",
       "         [[0.17521172, 0.26562458, 0.97076826, 0.38581699],\n",
       "          [0.81908606, 0.66518675, 0.11383695, 0.21321503],\n",
       "          [0.19341643, 0.24693114, 0.50347172, 0.14197154],\n",
       "          [0.95607638, 0.72698065, 0.10860567, 0.62112989],\n",
       "          [0.38543998, 0.95192165, 0.23318334, 0.14054156]]]],\n",
       "\n",
       "\n",
       "\n",
       "       [[[[0.35666417, 0.61192187, 0.88461522, 0.44620725],\n",
       "          [0.19852036, 0.95779048, 0.95996722, 0.22084687],\n",
       "          [0.44572625, 0.29583456, 0.43684583, 0.19905445],\n",
       "          [0.44628875, 0.4516847 , 0.0391177 , 0.38284819],\n",
       "          [0.34659039, 0.90843191, 0.86003091, 0.21589185]],\n",
       "\n",
       "         [[0.18263724, 0.3062429 , 0.23118025, 0.76930715],\n",
       "          [0.80810015, 0.84350869, 0.96974572, 0.78144263],\n",
       "          [0.31074403, 0.36204551, 0.1842098 , 0.07880159],\n",
       "          [0.95642201, 0.22600118, 0.63781371, 0.01489459],\n",
       "          [0.84204764, 0.96550879, 0.89735641, 0.42051564]],\n",
       "\n",
       "         [[0.29556674, 0.60410982, 0.87868484, 0.25484952],\n",
       "          [0.62995561, 0.12696524, 0.26176749, 0.49512919],\n",
       "          [0.43988479, 0.54778644, 0.7046488 , 0.7036381 ],\n",
       "          [0.39173526, 0.95296373, 0.66419269, 0.14324735],\n",
       "          [0.9645881 , 0.0644285 , 0.33661356, 0.13577007]]],\n",
       "\n",
       "\n",
       "        [[[0.26410493, 0.66839973, 0.64662606, 0.0136972 ],\n",
       "          [0.65867205, 0.15583803, 0.73103331, 0.52209782],\n",
       "          [0.25722461, 0.67011016, 0.50674453, 0.96467394],\n",
       "          [0.86385761, 0.62456759, 0.12662054, 0.68170451],\n",
       "          [0.44435905, 0.7982441 , 0.77627243, 0.82777634]],\n",
       "\n",
       "         [[0.17810975, 0.92170662, 0.6636131 , 0.07296657],\n",
       "          [0.67769123, 0.04386586, 0.60846008, 0.53673266],\n",
       "          [0.32525494, 0.09129205, 0.33978162, 0.84692794],\n",
       "          [0.75792057, 0.88746654, 0.99699103, 0.21317155],\n",
       "          [0.36151029, 0.5719084 , 0.06266812, 0.36115812]],\n",
       "\n",
       "         [[0.75904728, 0.57462517, 0.32123907, 0.27061386],\n",
       "          [0.24020193, 0.5380638 , 0.12074385, 0.09744548],\n",
       "          [0.84272733, 0.95407815, 0.47375879, 0.4648988 ],\n",
       "          [0.95147167, 0.20275229, 0.135611  , 0.85612808],\n",
       "          [0.35075709, 0.78006199, 0.70580492, 0.82077654]]],\n",
       "\n",
       "\n",
       "        [[[0.8115617 , 0.72148909, 0.37968289, 0.25917444],\n",
       "          [0.96889104, 0.05557659, 0.67076568, 0.43282053],\n",
       "          [0.93728654, 0.0709926 , 0.29221103, 0.01317471],\n",
       "          [0.7083923 , 0.19509235, 0.09874213, 0.07411631],\n",
       "          [0.11213591, 0.31282122, 0.86422295, 0.16239816]],\n",
       "\n",
       "         [[0.32724181, 0.87489679, 0.24476938, 0.32621437],\n",
       "          [0.89079274, 0.62354804, 0.49209058, 0.01282016],\n",
       "          [0.85639016, 0.16556064, 0.40109545, 0.97665005],\n",
       "          [0.15263316, 0.43235233, 0.5734556 , 0.22571508],\n",
       "          [0.45923848, 0.41121241, 0.79163323, 0.47394031]],\n",
       "\n",
       "         [[0.38617795, 0.288607  , 0.93671515, 0.95712415],\n",
       "          [0.06265609, 0.33342517, 0.93430443, 0.34822723],\n",
       "          [0.35003079, 0.31089908, 0.65212949, 0.31208476],\n",
       "          [0.05926497, 0.54111899, 0.37887693, 0.89802607],\n",
       "          [0.9389653 , 0.97246898, 0.38796982, 0.18820268]]]]])"
      ]
     },
     "execution_count": 54,
     "metadata": {},
     "output_type": "execute_result"
    }
   ],
   "source": [
    "C"
   ]
  },
  {
   "cell_type": "code",
   "execution_count": 55,
   "id": "156ffa56",
   "metadata": {},
   "outputs": [
    {
     "data": {
      "text/plain": [
       "540"
      ]
     },
     "execution_count": 55,
     "metadata": {},
     "output_type": "execute_result"
    }
   ],
   "source": [
    "C.size"
   ]
  },
  {
   "cell_type": "code",
   "execution_count": 56,
   "id": "c05f1e5f",
   "metadata": {},
   "outputs": [
    {
     "data": {
      "text/plain": [
       "5"
      ]
     },
     "execution_count": 56,
     "metadata": {},
     "output_type": "execute_result"
    }
   ],
   "source": [
    "C.ndim"
   ]
  },
  {
   "cell_type": "code",
   "execution_count": 57,
   "id": "be555913",
   "metadata": {},
   "outputs": [
    {
     "data": {
      "text/plain": [
       "(3, 3, 3, 5, 4)"
      ]
     },
     "execution_count": 57,
     "metadata": {},
     "output_type": "execute_result"
    }
   ],
   "source": [
    "C.shape"
   ]
  },
  {
   "cell_type": "code",
   "execution_count": 58,
   "id": "1a9f1427",
   "metadata": {},
   "outputs": [
    {
     "name": "stdout",
     "output_type": "stream",
     "text": [
      "Variable   Type       Data/Info\n",
      "-------------------------------\n",
      "C          ndarray    3x3x3x5x4: 540 elems, type `float64`, 4320 bytes\n",
      "D          list       n=10\n",
      "DC         ndarray    100000: 100000 elems, type `float64`, 800000 bytes (781.25 kb)\n",
      "DE         ndarray    1000: 1000 elems, type `float64`, 8000 bytes\n",
      "a          ndarray    3x3: 9 elems, type `int32`, 36 bytes\n",
      "b          ndarray    2x2x3: 12 elems, type `int32`, 48 bytes\n",
      "np         module     <module 'numpy' from 'D:\\<...>ges\\\\numpy\\\\__init__.py'>\n",
      "plt        module     <module 'matplotlib.pyplo<...>\\\\matplotlib\\\\pyplot.py'>\n",
      "r_i        int        113\n"
     ]
    }
   ],
   "source": [
    "%whos"
   ]
  },
  {
   "cell_type": "code",
   "execution_count": 60,
   "id": "34d5bebd",
   "metadata": {},
   "outputs": [],
   "source": [
    "E = np.arange(100).reshape(4,25)"
   ]
  },
  {
   "cell_type": "code",
   "execution_count": 61,
   "id": "6176fe27",
   "metadata": {},
   "outputs": [
    {
     "data": {
      "text/plain": [
       "array([[ 0,  1,  2,  3,  4,  5,  6,  7,  8,  9, 10, 11, 12, 13, 14, 15,\n",
       "        16, 17, 18, 19, 20, 21, 22, 23, 24],\n",
       "       [25, 26, 27, 28, 29, 30, 31, 32, 33, 34, 35, 36, 37, 38, 39, 40,\n",
       "        41, 42, 43, 44, 45, 46, 47, 48, 49],\n",
       "       [50, 51, 52, 53, 54, 55, 56, 57, 58, 59, 60, 61, 62, 63, 64, 65,\n",
       "        66, 67, 68, 69, 70, 71, 72, 73, 74],\n",
       "       [75, 76, 77, 78, 79, 80, 81, 82, 83, 84, 85, 86, 87, 88, 89, 90,\n",
       "        91, 92, 93, 94, 95, 96, 97, 98, 99]])"
      ]
     },
     "execution_count": 61,
     "metadata": {},
     "output_type": "execute_result"
    }
   ],
   "source": [
    "E"
   ]
  },
  {
   "cell_type": "markdown",
   "id": "c4c1bef1",
   "metadata": {},
   "source": [
    "### indexing and slicing in numpy array "
   ]
  },
  {
   "cell_type": "code",
   "execution_count": 62,
   "id": "a26ccf82",
   "metadata": {},
   "outputs": [
    {
     "name": "stdout",
     "output_type": "stream",
     "text": [
      "Variable   Type       Data/Info\n",
      "-------------------------------\n",
      "C          ndarray    3x3x3x5x4: 540 elems, type `float64`, 4320 bytes\n",
      "D          list       n=10\n",
      "DC         ndarray    100000: 100000 elems, type `float64`, 800000 bytes (781.25 kb)\n",
      "DE         ndarray    1000: 1000 elems, type `float64`, 8000 bytes\n",
      "E          ndarray    4x25: 100 elems, type `int32`, 400 bytes\n",
      "a          ndarray    3x3: 9 elems, type `int32`, 36 bytes\n",
      "b          ndarray    2x2x3: 12 elems, type `int32`, 48 bytes\n",
      "np         module     <module 'numpy' from 'D:\\<...>ges\\\\numpy\\\\__init__.py'>\n",
      "plt        module     <module 'matplotlib.pyplo<...>\\\\matplotlib\\\\pyplot.py'>\n",
      "r_i        int        113\n"
     ]
    }
   ],
   "source": [
    "whos"
   ]
  },
  {
   "cell_type": "code",
   "execution_count": 63,
   "id": "d4281d9b",
   "metadata": {},
   "outputs": [],
   "source": [
    "del C , DC, DE , E , a,b ,r_i"
   ]
  },
  {
   "cell_type": "code",
   "execution_count": 65,
   "id": "32047901",
   "metadata": {},
   "outputs": [],
   "source": [
    "a = np.arange(30,45,2)"
   ]
  },
  {
   "cell_type": "code",
   "execution_count": 66,
   "id": "28a6b534",
   "metadata": {},
   "outputs": [
    {
     "data": {
      "text/plain": [
       "array([30, 32, 34, 36, 38, 40, 42, 44])"
      ]
     },
     "execution_count": 66,
     "metadata": {},
     "output_type": "execute_result"
    }
   ],
   "source": [
    "a"
   ]
  },
  {
   "cell_type": "code",
   "execution_count": 68,
   "id": "90e289e6",
   "metadata": {},
   "outputs": [
    {
     "data": {
      "text/plain": [
       "array([36, 38])"
      ]
     },
     "execution_count": 68,
     "metadata": {},
     "output_type": "execute_result"
    }
   ],
   "source": [
    "b = a[3:5]\n",
    "b"
   ]
  },
  {
   "cell_type": "code",
   "execution_count": 71,
   "id": "4fc2033b",
   "metadata": {},
   "outputs": [],
   "source": [
    "b[0] = 45     # it's change main array because it's shere same momory : "
   ]
  },
  {
   "cell_type": "code",
   "execution_count": 72,
   "id": "6c12130d",
   "metadata": {},
   "outputs": [
    {
     "data": {
      "text/plain": [
       "array([30, 32, 34, 45, 38, 40, 42, 44])"
      ]
     },
     "execution_count": 72,
     "metadata": {},
     "output_type": "execute_result"
    }
   ],
   "source": [
    "a"
   ]
  },
  {
   "cell_type": "code",
   "execution_count": 74,
   "id": "8bc94e27",
   "metadata": {},
   "outputs": [],
   "source": [
    "# to allocate the diffrent momory \n",
    "\n",
    "b = a[3:5].copy()"
   ]
  },
  {
   "cell_type": "code",
   "execution_count": 77,
   "id": "60030245",
   "metadata": {},
   "outputs": [],
   "source": [
    "b[0] = 424"
   ]
  },
  {
   "cell_type": "code",
   "execution_count": 78,
   "id": "9d92f76a",
   "metadata": {},
   "outputs": [
    {
     "data": {
      "text/plain": [
       "array([424,  38])"
      ]
     },
     "execution_count": 78,
     "metadata": {},
     "output_type": "execute_result"
    }
   ],
   "source": [
    "b"
   ]
  },
  {
   "cell_type": "code",
   "execution_count": 79,
   "id": "58558036",
   "metadata": {},
   "outputs": [
    {
     "data": {
      "text/plain": [
       "array([30, 32, 34, 45, 38, 40, 42, 44])"
      ]
     },
     "execution_count": 79,
     "metadata": {},
     "output_type": "execute_result"
    }
   ],
   "source": [
    "a"
   ]
  },
  {
   "cell_type": "code",
   "execution_count": 80,
   "id": "be749522",
   "metadata": {},
   "outputs": [
    {
     "data": {
      "text/plain": [
       "array([44, 40, 45, 32])"
      ]
     },
     "execution_count": 80,
     "metadata": {},
     "output_type": "execute_result"
    }
   ],
   "source": [
    "a[::-2]"
   ]
  },
  {
   "cell_type": "code",
   "execution_count": 81,
   "id": "f7318928",
   "metadata": {},
   "outputs": [
    {
     "data": {
      "text/plain": [
       "array([30, 32, 34, 45, 38, 40, 42, 44])"
      ]
     },
     "execution_count": 81,
     "metadata": {},
     "output_type": "execute_result"
    }
   ],
   "source": [
    "a "
   ]
  },
  {
   "cell_type": "code",
   "execution_count": 82,
   "id": "0a776cd3",
   "metadata": {},
   "outputs": [
    {
     "data": {
      "text/plain": [
       "array([44, 42, 40, 38, 45, 34, 32, 30])"
      ]
     },
     "execution_count": 82,
     "metadata": {},
     "output_type": "execute_result"
    }
   ],
   "source": [
    "a[::-1]  # it will be reversed "
   ]
  },
  {
   "cell_type": "code",
   "execution_count": 86,
   "id": "7a3075bd",
   "metadata": {},
   "outputs": [
    {
     "data": {
      "text/plain": [
       "array([0, 0, 0, 3, 0, 0, 0, 0])"
      ]
     },
     "execution_count": 86,
     "metadata": {},
     "output_type": "execute_result"
    }
   ],
   "source": [
    "b  = ((a==45)*np.arange(a.size))\n",
    "b"
   ]
  },
  {
   "cell_type": "code",
   "execution_count": 88,
   "id": "704b0fb1",
   "metadata": {},
   "outputs": [],
   "source": [
    "idx = np.argwhere(a == 45)[0][0]"
   ]
  },
  {
   "cell_type": "code",
   "execution_count": 89,
   "id": "d5407e6e",
   "metadata": {},
   "outputs": [
    {
     "data": {
      "text/plain": [
       "3"
      ]
     },
     "execution_count": 89,
     "metadata": {},
     "output_type": "execute_result"
    }
   ],
   "source": [
    "idx"
   ]
  },
  {
   "cell_type": "code",
   "execution_count": 94,
   "id": "858d6d88",
   "metadata": {},
   "outputs": [],
   "source": [
    "a[idx] = 455"
   ]
  },
  {
   "cell_type": "code",
   "execution_count": 95,
   "id": "4fd2a32d",
   "metadata": {},
   "outputs": [
    {
     "data": {
      "text/plain": [
       "array([ 30,  32,  34, 455,  38,  40,  42,  44])"
      ]
     },
     "execution_count": 95,
     "metadata": {},
     "output_type": "execute_result"
    }
   ],
   "source": [
    "a"
   ]
  },
  {
   "cell_type": "code",
   "execution_count": 100,
   "id": "8f160772",
   "metadata": {},
   "outputs": [
    {
     "name": "stdout",
     "output_type": "stream",
     "text": [
      "Variable   Type       Data/Info\n",
      "-------------------------------\n",
      "D          list       n=10\n",
      "a          ndarray    8: 8 elems, type `int32`, 32 bytes\n",
      "b          ndarray    8: 8 elems, type `int32`, 32 bytes\n",
      "idx        int64      3\n",
      "np         module     <module 'numpy' from 'D:\\<...>ges\\\\numpy\\\\__init__.py'>\n",
      "plt        module     <module 'matplotlib.pyplo<...>\\\\matplotlib\\\\pyplot.py'>\n"
     ]
    }
   ],
   "source": [
    "%whos"
   ]
  },
  {
   "cell_type": "code",
   "execution_count": 102,
   "id": "d4adeccd",
   "metadata": {},
   "outputs": [],
   "source": [
    "del D , a, b, idx"
   ]
  },
  {
   "cell_type": "code",
   "execution_count": 103,
   "id": "0722056d",
   "metadata": {},
   "outputs": [],
   "source": [
    "a = np.round(10*np.random.rand(5,4))"
   ]
  },
  {
   "cell_type": "code",
   "execution_count": 104,
   "id": "9d35cb73",
   "metadata": {},
   "outputs": [
    {
     "data": {
      "text/plain": [
       "array([[ 5.,  7.,  6.,  2.],\n",
       "       [ 2.,  3.,  8.,  3.],\n",
       "       [ 9.,  0.,  6.,  8.],\n",
       "       [ 3.,  5.,  3.,  5.],\n",
       "       [ 7., 10., 10.,  0.]])"
      ]
     },
     "execution_count": 104,
     "metadata": {},
     "output_type": "execute_result"
    }
   ],
   "source": [
    "a"
   ]
  },
  {
   "cell_type": "code",
   "execution_count": 105,
   "id": "e3f232d6",
   "metadata": {},
   "outputs": [
    {
     "data": {
      "text/plain": [
       "8.0"
      ]
     },
     "execution_count": 105,
     "metadata": {},
     "output_type": "execute_result"
    }
   ],
   "source": [
    "a[1,2]"
   ]
  },
  {
   "cell_type": "code",
   "execution_count": 107,
   "id": "cd40f89c",
   "metadata": {},
   "outputs": [
    {
     "data": {
      "text/plain": [
       "array([2., 3., 8., 3.])"
      ]
     },
     "execution_count": 107,
     "metadata": {},
     "output_type": "execute_result"
    }
   ],
   "source": [
    "a[1,:]"
   ]
  },
  {
   "cell_type": "code",
   "execution_count": 111,
   "id": "2cb3b5f3",
   "metadata": {},
   "outputs": [
    {
     "data": {
      "text/plain": [
       "array([ 7.,  3.,  0.,  5., 10.])"
      ]
     },
     "execution_count": 111,
     "metadata": {},
     "output_type": "execute_result"
    }
   ],
   "source": [
    "a[:,1]"
   ]
  },
  {
   "cell_type": "code",
   "execution_count": 113,
   "id": "04a7706d",
   "metadata": {},
   "outputs": [
    {
     "data": {
      "text/plain": [
       "array([[3., 8.],\n",
       "       [0., 6.]])"
      ]
     },
     "execution_count": 113,
     "metadata": {},
     "output_type": "execute_result"
    }
   ],
   "source": [
    "a[1:3,1:3]"
   ]
  },
  {
   "cell_type": "code",
   "execution_count": 114,
   "id": "2a69e4c1",
   "metadata": {},
   "outputs": [
    {
     "data": {
      "text/plain": [
       "array([[ 5.,  2.,  9.,  3.,  7.],\n",
       "       [ 7.,  3.,  0.,  5., 10.],\n",
       "       [ 6.,  8.,  6.,  3., 10.],\n",
       "       [ 2.,  3.,  8.,  5.,  0.]])"
      ]
     },
     "execution_count": 114,
     "metadata": {},
     "output_type": "execute_result"
    }
   ],
   "source": [
    "a.T"
   ]
  },
  {
   "cell_type": "code",
   "execution_count": 115,
   "id": "830a4ac6",
   "metadata": {},
   "outputs": [],
   "source": [
    "import numpy.linalg as la # lot's of function related to maths operation on numpy array  ; "
   ]
  },
  {
   "cell_type": "code",
   "execution_count": 116,
   "id": "ade66166",
   "metadata": {},
   "outputs": [
    {
     "data": {
      "text/plain": [
       "array([[ 2.22008955,  1.47448142, -1.98145323],\n",
       "       [-0.38541229,  2.13701999, -0.87782201],\n",
       "       [-1.10549176, -2.95545357,  3.31611584]])"
      ]
     },
     "execution_count": 116,
     "metadata": {},
     "output_type": "execute_result"
    }
   ],
   "source": [
    "la.inv(np.random.rand(3,3))"
   ]
  },
  {
   "cell_type": "code",
   "execution_count": 118,
   "id": "6a2e4bda",
   "metadata": {},
   "outputs": [
    {
     "data": {
      "text/plain": [
       "array([[ 2.,  0.,  3.,  0.],\n",
       "       [ 3.,  3.,  6.,  2.],\n",
       "       [ 5.,  5.,  6.,  3.],\n",
       "       [ 7.,  7.,  8.,  5.],\n",
       "       [ 9., 10., 10.,  8.]])"
      ]
     },
     "execution_count": 118,
     "metadata": {},
     "output_type": "execute_result"
    }
   ],
   "source": [
    "a.sort(axis =0)\n",
    "a"
   ]
  },
  {
   "cell_type": "code",
   "execution_count": 119,
   "id": "6ed33a1f",
   "metadata": {},
   "outputs": [],
   "source": [
    "a.sort(axis= 1)"
   ]
  },
  {
   "cell_type": "code",
   "execution_count": 120,
   "id": "c06f3881",
   "metadata": {},
   "outputs": [
    {
     "data": {
      "text/plain": [
       "array([[ 0.,  0.,  2.,  3.],\n",
       "       [ 2.,  3.,  3.,  6.],\n",
       "       [ 3.,  5.,  5.,  6.],\n",
       "       [ 5.,  7.,  7.,  8.],\n",
       "       [ 8.,  9., 10., 10.]])"
      ]
     },
     "execution_count": 120,
     "metadata": {},
     "output_type": "execute_result"
    }
   ],
   "source": [
    "a"
   ]
  },
  {
   "cell_type": "code",
   "execution_count": 121,
   "id": "c4d33bac",
   "metadata": {},
   "outputs": [
    {
     "name": "stdout",
     "output_type": "stream",
     "text": [
      "Variable   Type       Data/Info\n",
      "-------------------------------\n",
      "a          ndarray    5x4: 20 elems, type `float64`, 160 bytes\n",
      "la         module     <module 'numpy.linalg' fr<...>py\\\\linalg\\\\__init__.py'>\n",
      "np         module     <module 'numpy' from 'D:\\<...>ges\\\\numpy\\\\__init__.py'>\n",
      "plt        module     <module 'matplotlib.pyplo<...>\\\\matplotlib\\\\pyplot.py'>\n"
     ]
    }
   ],
   "source": [
    "%whos"
   ]
  },
  {
   "cell_type": "code",
   "execution_count": 122,
   "id": "72fbc2c8",
   "metadata": {},
   "outputs": [],
   "source": [
    "del a "
   ]
  },
  {
   "cell_type": "markdown",
   "id": "a235a01e",
   "metadata": {},
   "source": [
    "### Play with index in Python "
   ]
  },
  {
   "cell_type": "code",
   "execution_count": 127,
   "id": "4a5d4a85",
   "metadata": {},
   "outputs": [],
   "source": [
    "a = np.random.randn(8)"
   ]
  },
  {
   "cell_type": "code",
   "execution_count": 128,
   "id": "f9f43944",
   "metadata": {},
   "outputs": [
    {
     "data": {
      "text/plain": [
       "array([ 0.46026047, -0.33190906, -0.19375482, -2.01402288,  1.15618281,\n",
       "        0.33270268, -0.0819745 , -1.90495002])"
      ]
     },
     "execution_count": 128,
     "metadata": {},
     "output_type": "execute_result"
    }
   ],
   "source": [
    "a"
   ]
  },
  {
   "cell_type": "code",
   "execution_count": 130,
   "id": "ff3ffa29",
   "metadata": {},
   "outputs": [
    {
     "data": {
      "text/plain": [
       "array([-0.33190906, -2.01402288,  1.15618281])"
      ]
     },
     "execution_count": 130,
     "metadata": {},
     "output_type": "execute_result"
    }
   ],
   "source": [
    "a[[1,3,4]]"
   ]
  },
  {
   "cell_type": "code",
   "execution_count": 131,
   "id": "7ea3d430",
   "metadata": {},
   "outputs": [
    {
     "data": {
      "text/plain": [
       "array([ 0.46026047, -0.19375482,  1.15618281, -0.0819745 , -1.90495002])"
      ]
     },
     "execution_count": 131,
     "metadata": {},
     "output_type": "execute_result"
    }
   ],
   "source": [
    "a[[True,False,True , False , True , False ,True , True ]]"
   ]
  },
  {
   "cell_type": "code",
   "execution_count": 132,
   "id": "ba6aabb9",
   "metadata": {},
   "outputs": [
    {
     "data": {
      "text/plain": [
       "array([0.46026047, 1.15618281, 0.33270268])"
      ]
     },
     "execution_count": 132,
     "metadata": {},
     "output_type": "execute_result"
    }
   ],
   "source": [
    "a[a>0]"
   ]
  },
  {
   "cell_type": "code",
   "execution_count": 133,
   "id": "0fbc6783",
   "metadata": {},
   "outputs": [],
   "source": [
    "b = np.arange(10)"
   ]
  },
  {
   "cell_type": "code",
   "execution_count": 134,
   "id": "b6eb9269",
   "metadata": {},
   "outputs": [
    {
     "data": {
      "text/plain": [
       "array([0, 1, 2, 3, 4, 5, 6, 7, 8, 9])"
      ]
     },
     "execution_count": 134,
     "metadata": {},
     "output_type": "execute_result"
    }
   ],
   "source": [
    "b"
   ]
  },
  {
   "cell_type": "code",
   "execution_count": 135,
   "id": "3178ecc5",
   "metadata": {},
   "outputs": [],
   "source": [
    "# & --> this use for array ;\n",
    "# and --> this is use for single object ; "
   ]
  },
  {
   "cell_type": "code",
   "execution_count": 136,
   "id": "c9721d70",
   "metadata": {},
   "outputs": [
    {
     "data": {
      "text/plain": [
       "array([6, 7, 8, 9])"
      ]
     },
     "execution_count": 136,
     "metadata": {},
     "output_type": "execute_result"
    }
   ],
   "source": [
    "b[b>5]"
   ]
  },
  {
   "cell_type": "markdown",
   "id": "6b9bb7a8",
   "metadata": {},
   "source": [
    "## broadcating the numpy array "
   ]
  },
  {
   "cell_type": "code",
   "execution_count": 137,
   "id": "9351b678",
   "metadata": {},
   "outputs": [],
   "source": [
    "del a , b"
   ]
  },
  {
   "cell_type": "code",
   "execution_count": 138,
   "id": "ecc0bcc1",
   "metadata": {},
   "outputs": [],
   "source": [
    "a = np.round(10*np.random.rand(2,3))"
   ]
  },
  {
   "cell_type": "code",
   "execution_count": 139,
   "id": "4e45f8be",
   "metadata": {},
   "outputs": [
    {
     "data": {
      "text/plain": [
       "array([[10.,  7.,  6.],\n",
       "       [ 1.,  1.,  6.]])"
      ]
     },
     "execution_count": 139,
     "metadata": {},
     "output_type": "execute_result"
    }
   ],
   "source": [
    "a"
   ]
  },
  {
   "cell_type": "code",
   "execution_count": 140,
   "id": "7baa4d3d",
   "metadata": {},
   "outputs": [
    {
     "data": {
      "text/plain": [
       "array([[13., 10.,  9.],\n",
       "       [ 4.,  4.,  9.]])"
      ]
     },
     "execution_count": 140,
     "metadata": {},
     "output_type": "execute_result"
    }
   ],
   "source": [
    "a+3"
   ]
  },
  {
   "cell_type": "code",
   "execution_count": 141,
   "id": "9d86eef3",
   "metadata": {},
   "outputs": [
    {
     "data": {
      "text/plain": [
       "array([[10.,  7.,  6.],\n",
       "       [ 2.,  2.,  7.]])"
      ]
     },
     "execution_count": 141,
     "metadata": {},
     "output_type": "execute_result"
    }
   ],
   "source": [
    "a + (np.arange(2).reshape(2,1))"
   ]
  },
  {
   "cell_type": "code",
   "execution_count": 143,
   "id": "f4a264c9",
   "metadata": {},
   "outputs": [],
   "source": [
    "b = np.round(10*np.random.rand(2,2))"
   ]
  },
  {
   "cell_type": "code",
   "execution_count": 144,
   "id": "4a7b1956",
   "metadata": {},
   "outputs": [
    {
     "data": {
      "text/plain": [
       "array([[7., 6.],\n",
       "       [7., 7.]])"
      ]
     },
     "execution_count": 144,
     "metadata": {},
     "output_type": "execute_result"
    }
   ],
   "source": [
    "b"
   ]
  },
  {
   "cell_type": "code",
   "execution_count": 145,
   "id": "4ac04741",
   "metadata": {},
   "outputs": [],
   "source": [
    "c = np.hstack((2,3))"
   ]
  },
  {
   "cell_type": "code",
   "execution_count": 146,
   "id": "3516aa84",
   "metadata": {},
   "outputs": [
    {
     "data": {
      "text/plain": [
       "array([2, 3])"
      ]
     },
     "execution_count": 146,
     "metadata": {},
     "output_type": "execute_result"
    }
   ],
   "source": [
    "c"
   ]
  },
  {
   "cell_type": "code",
   "execution_count": 147,
   "id": "d64f3804",
   "metadata": {},
   "outputs": [],
   "source": [
    "a = np.random.permutation(np.arange(10))"
   ]
  },
  {
   "cell_type": "code",
   "execution_count": 148,
   "id": "78cbfa1f",
   "metadata": {},
   "outputs": [
    {
     "data": {
      "text/plain": [
       "array([7, 8, 0, 3, 9, 1, 5, 4, 2, 6])"
      ]
     },
     "execution_count": 148,
     "metadata": {},
     "output_type": "execute_result"
    }
   ],
   "source": [
    "a"
   ]
  },
  {
   "cell_type": "code",
   "execution_count": 151,
   "id": "f4368c30",
   "metadata": {},
   "outputs": [],
   "source": [
    "a.sort()"
   ]
  },
  {
   "cell_type": "code",
   "execution_count": 152,
   "id": "b8490570",
   "metadata": {},
   "outputs": [
    {
     "data": {
      "text/plain": [
       "array([0, 1, 2, 3, 4, 5, 6, 7, 8, 9])"
      ]
     },
     "execution_count": 152,
     "metadata": {},
     "output_type": "execute_result"
    }
   ],
   "source": [
    "a"
   ]
  },
  {
   "cell_type": "code",
   "execution_count": 153,
   "id": "d50a8516",
   "metadata": {},
   "outputs": [],
   "source": [
    "a = np.array(['soham',\"abc\",\"piprotar\"])"
   ]
  },
  {
   "cell_type": "code",
   "execution_count": 156,
   "id": "ac3aa390",
   "metadata": {},
   "outputs": [],
   "source": [
    "a.sort() # sort in a character way "
   ]
  },
  {
   "cell_type": "code",
   "execution_count": 155,
   "id": "3403e80d",
   "metadata": {},
   "outputs": [
    {
     "data": {
      "text/plain": [
       "array(['abc', 'piprotar', 'soham'], dtype='<U8')"
      ]
     },
     "execution_count": 155,
     "metadata": {},
     "output_type": "execute_result"
    }
   ],
   "source": [
    "a"
   ]
  },
  {
   "cell_type": "markdown",
   "id": "c07c5215",
   "metadata": {},
   "source": [
    "### How fast is numpy universal funciton "
   ]
  },
  {
   "cell_type": "code",
   "execution_count": 157,
   "id": "94ba99c8",
   "metadata": {},
   "outputs": [
    {
     "name": "stdout",
     "output_type": "stream",
     "text": [
      "Variable   Type       Data/Info\n",
      "-------------------------------\n",
      "a          ndarray    3: 3 elems, type `<U8`, 96 bytes\n",
      "b          ndarray    2x2: 4 elems, type `float64`, 32 bytes\n",
      "c          ndarray    2: 2 elems, type `int32`, 8 bytes\n",
      "la         module     <module 'numpy.linalg' fr<...>py\\\\linalg\\\\__init__.py'>\n",
      "np         module     <module 'numpy' from 'D:\\<...>ges\\\\numpy\\\\__init__.py'>\n",
      "plt        module     <module 'matplotlib.pyplo<...>\\\\matplotlib\\\\pyplot.py'>\n"
     ]
    }
   ],
   "source": [
    "%whos"
   ]
  },
  {
   "cell_type": "code",
   "execution_count": 158,
   "id": "cbc4722a",
   "metadata": {},
   "outputs": [],
   "source": [
    "del a,b,c"
   ]
  },
  {
   "cell_type": "code",
   "execution_count": 162,
   "id": "cc23a990",
   "metadata": {},
   "outputs": [],
   "source": [
    "b  = np.random.rand(1000000)"
   ]
  },
  {
   "cell_type": "code",
   "execution_count": 163,
   "id": "8968b484",
   "metadata": {},
   "outputs": [
    {
     "name": "stdout",
     "output_type": "stream",
     "text": [
      "130 ms ± 5.36 ms per loop (mean ± std. dev. of 7 runs, 10 loops each)\n"
     ]
    }
   ],
   "source": [
    "%timeit sum(b)"
   ]
  },
  {
   "cell_type": "code",
   "execution_count": 164,
   "id": "cb761e7a",
   "metadata": {},
   "outputs": [
    {
     "name": "stdout",
     "output_type": "stream",
     "text": [
      "1.58 ms ± 31.3 µs per loop (mean ± std. dev. of 7 runs, 1,000 loops each)\n"
     ]
    }
   ],
   "source": [
    "%timeit np.sum(b)"
   ]
  },
  {
   "cell_type": "code",
   "execution_count": 165,
   "id": "ace630e4",
   "metadata": {},
   "outputs": [],
   "source": [
    "def mysum(l):\n",
    "    s = 0 \n",
    "    for i in l : \n",
    "        s += i \n",
    "    return s "
   ]
  },
  {
   "cell_type": "code",
   "execution_count": 166,
   "id": "5e57c582",
   "metadata": {},
   "outputs": [
    {
     "name": "stdout",
     "output_type": "stream",
     "text": [
      "170 ms ± 1.55 ms per loop (mean ± std. dev. of 7 runs, 10 loops each)\n"
     ]
    }
   ],
   "source": [
    "%timeit mysum(b)"
   ]
  },
  {
   "cell_type": "code",
   "execution_count": null,
   "id": "b33e9e8a",
   "metadata": {},
   "outputs": [],
   "source": []
  }
 ],
 "metadata": {
  "kernelspec": {
   "display_name": "Python 3 (ipykernel)",
   "language": "python",
   "name": "python3"
  },
  "language_info": {
   "codemirror_mode": {
    "name": "ipython",
    "version": 3
   },
   "file_extension": ".py",
   "mimetype": "text/x-python",
   "name": "python",
   "nbconvert_exporter": "python",
   "pygments_lexer": "ipython3",
   "version": "3.11.4"
  }
 },
 "nbformat": 4,
 "nbformat_minor": 5
}
