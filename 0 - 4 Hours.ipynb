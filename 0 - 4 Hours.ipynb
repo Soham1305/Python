{
 "cells": [
  {
   "cell_type": "markdown",
   "id": "569b3aa8",
   "metadata": {},
   "source": [
    "### Variable and Operators "
   ]
  },
  {
   "cell_type": "code",
   "execution_count": 1,
   "id": "f2f180a0",
   "metadata": {},
   "outputs": [],
   "source": [
    "x = 2  # int                  # it's call single assignment \n",
    "y = 5 # int \n",
    "z = 5.00 # float             # variable name --> mnomonics --> name is always represent it's work "
   ]
  },
  {
   "cell_type": "code",
   "execution_count": 2,
   "id": "522db311",
   "metadata": {},
   "outputs": [
    {
     "name": "stdout",
     "output_type": "stream",
     "text": [
      "<class 'int'>\n",
      "<class 'int'>\n",
      "<class 'float'>\n"
     ]
    }
   ],
   "source": [
    "print(type(x))\n",
    "print(type(y))\n",
    "print(type(z))                # type of variable "
   ]
  },
  {
   "cell_type": "code",
   "execution_count": 3,
   "id": "4b4e08bd",
   "metadata": {},
   "outputs": [],
   "source": [
    "# multiple assienment \n",
    "\n",
    "a , b = 4, 5.0 "
   ]
  },
  {
   "cell_type": "code",
   "execution_count": 4,
   "id": "5f7e42a3",
   "metadata": {},
   "outputs": [],
   "source": [
    "# complex number for higher computation  \n",
    "c = 4 + 5j "
   ]
  },
  {
   "cell_type": "code",
   "execution_count": 5,
   "id": "dfd04e55",
   "metadata": {},
   "outputs": [
    {
     "data": {
      "text/plain": [
       "complex"
      ]
     },
     "execution_count": 5,
     "metadata": {},
     "output_type": "execute_result"
    }
   ],
   "source": [
    "type(c)"
   ]
  },
  {
   "cell_type": "code",
   "execution_count": 6,
   "id": "a5ecfcef",
   "metadata": {},
   "outputs": [],
   "source": [
    "s = \"i am soham piprotar \""
   ]
  },
  {
   "cell_type": "code",
   "execution_count": 7,
   "id": "5bdcd7b0",
   "metadata": {},
   "outputs": [
    {
     "name": "stdout",
     "output_type": "stream",
     "text": [
      "a\t b\t c\t s\t x\t y\t z\t \n"
     ]
    }
   ],
   "source": [
    "%who"
   ]
  },
  {
   "cell_type": "code",
   "execution_count": 8,
   "id": "b0243669",
   "metadata": {
    "scrolled": true
   },
   "outputs": [
    {
     "name": "stdout",
     "output_type": "stream",
     "text": [
      "Variable   Type       Data/Info\n",
      "-------------------------------\n",
      "a          int        4\n",
      "b          float      5.0\n",
      "c          complex    (4+5j)\n",
      "s          str        i am soham piprotar \n",
      "x          int        2\n",
      "y          int        5\n",
      "z          float      5.0\n"
     ]
    }
   ],
   "source": [
    "%whos"
   ]
  },
  {
   "cell_type": "code",
   "execution_count": 9,
   "id": "49021fa2",
   "metadata": {},
   "outputs": [],
   "source": [
    "del a ,b , c , s , x , y , z "
   ]
  },
  {
   "cell_type": "code",
   "execution_count": 10,
   "id": "a66b6e73",
   "metadata": {},
   "outputs": [
    {
     "name": "stdout",
     "output_type": "stream",
     "text": [
      "Interactive namespace is empty.\n"
     ]
    }
   ],
   "source": [
    "%whos"
   ]
  },
  {
   "cell_type": "markdown",
   "id": "b67c7335",
   "metadata": {},
   "source": [
    "### Airthmatic variable "
   ]
  },
  {
   "cell_type": "code",
   "execution_count": 11,
   "id": "9fe167d3",
   "metadata": {},
   "outputs": [],
   "source": [
    "a = 5 \n",
    "b = 3"
   ]
  },
  {
   "cell_type": "code",
   "execution_count": 12,
   "id": "b70686f5",
   "metadata": {},
   "outputs": [
    {
     "data": {
      "text/plain": [
       "8"
      ]
     },
     "execution_count": 12,
     "metadata": {},
     "output_type": "execute_result"
    }
   ],
   "source": [
    "a + b "
   ]
  },
  {
   "cell_type": "code",
   "execution_count": 13,
   "id": "95fef5c3",
   "metadata": {},
   "outputs": [
    {
     "data": {
      "text/plain": [
       "2"
      ]
     },
     "execution_count": 13,
     "metadata": {},
     "output_type": "execute_result"
    }
   ],
   "source": [
    "a- b"
   ]
  },
  {
   "cell_type": "code",
   "execution_count": 14,
   "id": "abee9cb7",
   "metadata": {},
   "outputs": [
    {
     "data": {
      "text/plain": [
       "15"
      ]
     },
     "execution_count": 14,
     "metadata": {},
     "output_type": "execute_result"
    }
   ],
   "source": [
    "a*b"
   ]
  },
  {
   "cell_type": "code",
   "execution_count": 15,
   "id": "d64a3bd0",
   "metadata": {},
   "outputs": [
    {
     "data": {
      "text/plain": [
       "1.6666666666666667"
      ]
     },
     "execution_count": 15,
     "metadata": {},
     "output_type": "execute_result"
    }
   ],
   "source": [
    "a / b"
   ]
  },
  {
   "cell_type": "code",
   "execution_count": 16,
   "id": "0ceebd37",
   "metadata": {},
   "outputs": [
    {
     "data": {
      "text/plain": [
       "1"
      ]
     },
     "execution_count": 16,
     "metadata": {},
     "output_type": "execute_result"
    }
   ],
   "source": [
    "a//b"
   ]
  },
  {
   "cell_type": "code",
   "execution_count": 17,
   "id": "2f9dd8e2",
   "metadata": {},
   "outputs": [
    {
     "data": {
      "text/plain": [
       "2"
      ]
     },
     "execution_count": 17,
     "metadata": {},
     "output_type": "execute_result"
    }
   ],
   "source": [
    "a % b "
   ]
  },
  {
   "cell_type": "code",
   "execution_count": 18,
   "id": "91d0a954",
   "metadata": {},
   "outputs": [
    {
     "data": {
      "text/plain": [
       "125"
      ]
     },
     "execution_count": 18,
     "metadata": {},
     "output_type": "execute_result"
    }
   ],
   "source": [
    "a ** b "
   ]
  },
  {
   "cell_type": "code",
   "execution_count": 19,
   "id": "d89e55e6",
   "metadata": {},
   "outputs": [],
   "source": [
    "del a , b"
   ]
  },
  {
   "cell_type": "code",
   "execution_count": 20,
   "id": "4d1cda50",
   "metadata": {},
   "outputs": [
    {
     "name": "stdout",
     "output_type": "stream",
     "text": [
      "Interactive namespace is empty.\n"
     ]
    }
   ],
   "source": [
    "%whos"
   ]
  },
  {
   "cell_type": "code",
   "execution_count": 21,
   "id": "3d549a56",
   "metadata": {},
   "outputs": [],
   "source": [
    "a = 5\n",
    "b = 5.0 \n",
    "c = 5+5j "
   ]
  },
  {
   "cell_type": "code",
   "execution_count": 22,
   "id": "2eda177e",
   "metadata": {},
   "outputs": [
    {
     "data": {
      "text/plain": [
       "float"
      ]
     },
     "execution_count": 22,
     "metadata": {},
     "output_type": "execute_result"
    }
   ],
   "source": [
    "type(a+b)  # answer is always in upper class --> int << float "
   ]
  },
  {
   "cell_type": "code",
   "execution_count": 23,
   "id": "422944bb",
   "metadata": {},
   "outputs": [
    {
     "data": {
      "text/plain": [
       "(10+5j)"
      ]
     },
     "execution_count": 23,
     "metadata": {},
     "output_type": "execute_result"
    }
   ],
   "source": [
    "type(b + c)\n",
    "b +c                      # upper class int<<float <<complex "
   ]
  },
  {
   "cell_type": "code",
   "execution_count": 24,
   "id": "7a1bcf43",
   "metadata": {},
   "outputs": [],
   "source": [
    "s1 = \"soham \"\n",
    "s2 = \" piprotar \""
   ]
  },
  {
   "cell_type": "code",
   "execution_count": 25,
   "id": "8c4b8b06",
   "metadata": {},
   "outputs": [
    {
     "data": {
      "text/plain": [
       "'soham  piprotar '"
      ]
     },
     "execution_count": 25,
     "metadata": {},
     "output_type": "execute_result"
    }
   ],
   "source": [
    "s1+s2   # string can also addable --> concatination "
   ]
  },
  {
   "cell_type": "code",
   "execution_count": 26,
   "id": "bd173a39",
   "metadata": {},
   "outputs": [
    {
     "data": {
      "text/plain": [
       "'soham  piprotar '"
      ]
     },
     "execution_count": 26,
     "metadata": {},
     "output_type": "execute_result"
    }
   ],
   "source": [
    "_     # last aswer that you forgot to store "
   ]
  },
  {
   "cell_type": "markdown",
   "id": "47fbdccb",
   "metadata": {},
   "source": [
    "### Variable name Rules :"
   ]
  },
  {
   "cell_type": "code",
   "execution_count": 27,
   "id": "35db5ccc",
   "metadata": {},
   "outputs": [
    {
     "ename": "SyntaxError",
     "evalue": "invalid decimal literal (3434516666.py, line 1)",
     "output_type": "error",
     "traceback": [
      "\u001b[1;36m  Cell \u001b[1;32mIn[27], line 1\u001b[1;36m\u001b[0m\n\u001b[1;33m    3x = 4\u001b[0m\n\u001b[1;37m    ^\u001b[0m\n\u001b[1;31mSyntaxError\u001b[0m\u001b[1;31m:\u001b[0m invalid decimal literal\n"
     ]
    }
   ],
   "source": [
    "3x = 4"
   ]
  },
  {
   "cell_type": "code",
   "execution_count": 28,
   "id": "5528389a",
   "metadata": {},
   "outputs": [
    {
     "ename": "SyntaxError",
     "evalue": "invalid syntax. Maybe you meant '==' or ':=' instead of '='? (1503278386.py, line 1)",
     "output_type": "error",
     "traceback": [
      "\u001b[1;36m  Cell \u001b[1;32mIn[28], line 1\u001b[1;36m\u001b[0m\n\u001b[1;33m    @y4 =4\u001b[0m\n\u001b[1;37m     ^\u001b[0m\n\u001b[1;31mSyntaxError\u001b[0m\u001b[1;31m:\u001b[0m invalid syntax. Maybe you meant '==' or ':=' instead of '='?\n"
     ]
    }
   ],
   "source": [
    "@y4 =4 "
   ]
  },
  {
   "cell_type": "code",
   "execution_count": 29,
   "id": "4b286413",
   "metadata": {},
   "outputs": [
    {
     "ename": "SyntaxError",
     "evalue": "starred assignment target must be in a list or tuple (2260606334.py, line 1)",
     "output_type": "error",
     "traceback": [
      "\u001b[1;36m  Cell \u001b[1;32mIn[29], line 1\u001b[1;36m\u001b[0m\n\u001b[1;33m    *t = 5\u001b[0m\n\u001b[1;37m    ^\u001b[0m\n\u001b[1;31mSyntaxError\u001b[0m\u001b[1;31m:\u001b[0m starred assignment target must be in a list or tuple\n"
     ]
    }
   ],
   "source": [
    "*t = 5"
   ]
  },
  {
   "cell_type": "code",
   "execution_count": 30,
   "id": "1e3b815e",
   "metadata": {},
   "outputs": [],
   "source": [
    "_a = 5   # only underscore allowed "
   ]
  },
  {
   "cell_type": "code",
   "execution_count": 31,
   "id": "e90d949b",
   "metadata": {},
   "outputs": [],
   "source": [
    "del a , b, s1, s2 "
   ]
  },
  {
   "cell_type": "code",
   "execution_count": 32,
   "id": "97fadf2f",
   "metadata": {},
   "outputs": [
    {
     "name": "stdout",
     "output_type": "stream",
     "text": [
      "Variable   Type       Data/Info\n",
      "-------------------------------\n",
      "c          complex    (5+5j)\n"
     ]
    }
   ],
   "source": [
    "%whos"
   ]
  },
  {
   "cell_type": "code",
   "execution_count": 33,
   "id": "ac942a16",
   "metadata": {},
   "outputs": [],
   "source": [
    "del c "
   ]
  },
  {
   "cell_type": "code",
   "execution_count": 34,
   "id": "f5ab539d",
   "metadata": {},
   "outputs": [
    {
     "ename": "SyntaxError",
     "evalue": "invalid syntax (3842225600.py, line 1)",
     "output_type": "error",
     "traceback": [
      "\u001b[1;36m  Cell \u001b[1;32mIn[34], line 1\u001b[1;36m\u001b[0m\n\u001b[1;33m    $5 = 5\u001b[0m\n\u001b[1;37m    ^\u001b[0m\n\u001b[1;31mSyntaxError\u001b[0m\u001b[1;31m:\u001b[0m invalid syntax\n"
     ]
    }
   ],
   "source": [
    "$5 = 5"
   ]
  },
  {
   "cell_type": "code",
   "execution_count": 35,
   "id": "83fc3e9e",
   "metadata": {},
   "outputs": [],
   "source": [
    "# camel case notation \n",
    "firstItration = 0.2 "
   ]
  },
  {
   "cell_type": "code",
   "execution_count": 36,
   "id": "0c3676c8",
   "metadata": {},
   "outputs": [],
   "source": [
    "del firstItration"
   ]
  },
  {
   "cell_type": "code",
   "execution_count": 37,
   "id": "b040e509",
   "metadata": {},
   "outputs": [
    {
     "name": "stdout",
     "output_type": "stream",
     "text": [
      "Interactive namespace is empty.\n"
     ]
    }
   ],
   "source": [
    "%whos"
   ]
  },
  {
   "cell_type": "markdown",
   "id": "2ad3cc63",
   "metadata": {},
   "source": [
    "###  BOOL data type in python "
   ]
  },
  {
   "cell_type": "code",
   "execution_count": 38,
   "id": "40673c5a",
   "metadata": {},
   "outputs": [],
   "source": [
    "a = True\n",
    "b = False"
   ]
  },
  {
   "cell_type": "code",
   "execution_count": 39,
   "id": "50b1a858",
   "metadata": {},
   "outputs": [
    {
     "data": {
      "text/plain": [
       "bool"
      ]
     },
     "execution_count": 39,
     "metadata": {},
     "output_type": "execute_result"
    }
   ],
   "source": [
    "type(a)\n",
    "type(b)"
   ]
  },
  {
   "cell_type": "code",
   "execution_count": 40,
   "id": "1041b620",
   "metadata": {},
   "outputs": [],
   "source": [
    "b = False"
   ]
  },
  {
   "cell_type": "code",
   "execution_count": 41,
   "id": "5458144c",
   "metadata": {},
   "outputs": [
    {
     "data": {
      "text/plain": [
       "bool"
      ]
     },
     "execution_count": 41,
     "metadata": {},
     "output_type": "execute_result"
    }
   ],
   "source": [
    "type(b)"
   ]
  },
  {
   "cell_type": "code",
   "execution_count": 42,
   "id": "0a0fd59c",
   "metadata": {},
   "outputs": [],
   "source": [
    "c ,d= 3,4"
   ]
  },
  {
   "cell_type": "code",
   "execution_count": 43,
   "id": "163a0e99",
   "metadata": {},
   "outputs": [
    {
     "data": {
      "text/plain": [
       "False"
      ]
     },
     "execution_count": 43,
     "metadata": {},
     "output_type": "execute_result"
    }
   ],
   "source": [
    "c == d        # always remember the result of comparision is always in BOLLEAN "
   ]
  },
  {
   "cell_type": "code",
   "execution_count": 44,
   "id": "f77483b8",
   "metadata": {},
   "outputs": [
    {
     "data": {
      "text/plain": [
       "True"
      ]
     },
     "execution_count": 44,
     "metadata": {},
     "output_type": "execute_result"
    }
   ],
   "source": [
    "c <= d "
   ]
  },
  {
   "cell_type": "code",
   "execution_count": 45,
   "id": "34dfcbde",
   "metadata": {},
   "outputs": [
    {
     "data": {
      "text/plain": [
       "False"
      ]
     },
     "execution_count": 45,
     "metadata": {},
     "output_type": "execute_result"
    }
   ],
   "source": [
    "c >= d "
   ]
  },
  {
   "cell_type": "code",
   "execution_count": 46,
   "id": "844f5282",
   "metadata": {},
   "outputs": [
    {
     "data": {
      "text/plain": [
       "True"
      ]
     },
     "execution_count": 46,
     "metadata": {},
     "output_type": "execute_result"
    }
   ],
   "source": [
    "c != d "
   ]
  },
  {
   "cell_type": "code",
   "execution_count": 47,
   "id": "ac1d61f4",
   "metadata": {},
   "outputs": [
    {
     "data": {
      "text/plain": [
       "True"
      ]
     },
     "execution_count": 47,
     "metadata": {},
     "output_type": "execute_result"
    }
   ],
   "source": [
    "c < d"
   ]
  },
  {
   "cell_type": "code",
   "execution_count": 48,
   "id": "0f64b6b0",
   "metadata": {},
   "outputs": [
    {
     "data": {
      "text/plain": [
       "False"
      ]
     },
     "execution_count": 48,
     "metadata": {},
     "output_type": "execute_result"
    }
   ],
   "source": [
    "c > d"
   ]
  },
  {
   "cell_type": "code",
   "execution_count": 49,
   "id": "e9a4f79d",
   "metadata": {},
   "outputs": [
    {
     "data": {
      "text/plain": [
       "False"
      ]
     },
     "execution_count": 49,
     "metadata": {},
     "output_type": "execute_result"
    }
   ],
   "source": [
    "_"
   ]
  },
  {
   "cell_type": "markdown",
   "id": "81cc8ae9",
   "metadata": {},
   "source": [
    "### Logical Operators "
   ]
  },
  {
   "cell_type": "code",
   "execution_count": 50,
   "id": "03a33c02",
   "metadata": {},
   "outputs": [
    {
     "data": {
      "text/plain": [
       "False"
      ]
     },
     "execution_count": 50,
     "metadata": {},
     "output_type": "execute_result"
    }
   ],
   "source": [
    "a and b "
   ]
  },
  {
   "cell_type": "code",
   "execution_count": 51,
   "id": "52f8dc9e",
   "metadata": {},
   "outputs": [
    {
     "data": {
      "text/plain": [
       "True"
      ]
     },
     "execution_count": 51,
     "metadata": {},
     "output_type": "execute_result"
    }
   ],
   "source": [
    "a or b "
   ]
  },
  {
   "cell_type": "code",
   "execution_count": 52,
   "id": "024cee08",
   "metadata": {},
   "outputs": [
    {
     "ename": "SyntaxError",
     "evalue": "invalid syntax (372288573.py, line 1)",
     "output_type": "error",
     "traceback": [
      "\u001b[1;36m  Cell \u001b[1;32mIn[52], line 1\u001b[1;36m\u001b[0m\n\u001b[1;33m    a not b\u001b[0m\n\u001b[1;37m          ^\u001b[0m\n\u001b[1;31mSyntaxError\u001b[0m\u001b[1;31m:\u001b[0m invalid syntax\n"
     ]
    }
   ],
   "source": [
    "a not b "
   ]
  },
  {
   "cell_type": "code",
   "execution_count": 53,
   "id": "14fedc1d",
   "metadata": {},
   "outputs": [
    {
     "data": {
      "text/plain": [
       "True"
      ]
     },
     "execution_count": 53,
     "metadata": {},
     "output_type": "execute_result"
    }
   ],
   "source": [
    "a and(not b )"
   ]
  },
  {
   "cell_type": "code",
   "execution_count": 54,
   "id": "0fa0f0a2",
   "metadata": {},
   "outputs": [
    {
     "data": {
      "text/plain": [
       "True"
      ]
     },
     "execution_count": 54,
     "metadata": {},
     "output_type": "execute_result"
    }
   ],
   "source": [
    "not b"
   ]
  },
  {
   "cell_type": "code",
   "execution_count": 55,
   "id": "dc56ae41",
   "metadata": {},
   "outputs": [
    {
     "data": {
      "text/plain": [
       "True"
      ]
     },
     "execution_count": 55,
     "metadata": {},
     "output_type": "execute_result"
    }
   ],
   "source": [
    "_"
   ]
  },
  {
   "cell_type": "code",
   "execution_count": 56,
   "id": "d9017af1",
   "metadata": {},
   "outputs": [
    {
     "name": "stdout",
     "output_type": "stream",
     "text": [
      "a\t b\t c\t d\t \n"
     ]
    }
   ],
   "source": [
    "%who"
   ]
  },
  {
   "cell_type": "code",
   "execution_count": 57,
   "id": "2bfcac13",
   "metadata": {},
   "outputs": [],
   "source": [
    "del a , b, c, d"
   ]
  },
  {
   "cell_type": "code",
   "execution_count": 58,
   "id": "046cd2f3",
   "metadata": {},
   "outputs": [
    {
     "data": {
      "text/plain": [
       "True"
      ]
     },
     "execution_count": 58,
     "metadata": {},
     "output_type": "execute_result"
    }
   ],
   "source": [
    "_"
   ]
  },
  {
   "cell_type": "code",
   "execution_count": 59,
   "id": "27742231",
   "metadata": {},
   "outputs": [],
   "source": [
    "d = (3.000000001==3.0000000000) # --> Good Practice "
   ]
  },
  {
   "cell_type": "code",
   "execution_count": 60,
   "id": "91e3e50d",
   "metadata": {},
   "outputs": [
    {
     "data": {
      "text/plain": [
       "False"
      ]
     },
     "execution_count": 60,
     "metadata": {},
     "output_type": "execute_result"
    }
   ],
   "source": [
    "d "
   ]
  },
  {
   "cell_type": "code",
   "execution_count": 61,
   "id": "ad30a5ec",
   "metadata": {},
   "outputs": [
    {
     "data": {
      "text/plain": [
       "True"
      ]
     },
     "execution_count": 61,
     "metadata": {},
     "output_type": "execute_result"
    }
   ],
   "source": [
    "True and False or True"
   ]
  },
  {
   "cell_type": "code",
   "execution_count": 62,
   "id": "114dc846",
   "metadata": {},
   "outputs": [
    {
     "data": {
      "text/plain": [
       "True"
      ]
     },
     "execution_count": 62,
     "metadata": {},
     "output_type": "execute_result"
    }
   ],
   "source": [
    "True or (False and True) # always use this "
   ]
  },
  {
   "cell_type": "code",
   "execution_count": 63,
   "id": "bd925882",
   "metadata": {},
   "outputs": [
    {
     "data": {
      "text/plain": [
       "False"
      ]
     },
     "execution_count": 63,
     "metadata": {},
     "output_type": "execute_result"
    }
   ],
   "source": [
    "(not(2!=3) and True ) or ( False and True )"
   ]
  },
  {
   "cell_type": "markdown",
   "id": "d5bebc6d",
   "metadata": {},
   "source": [
    "###  Python usefull Funtion "
   ]
  },
  {
   "cell_type": "code",
   "execution_count": 64,
   "id": "4a4e42ee",
   "metadata": {
    "scrolled": false
   },
   "outputs": [
    {
     "data": {
      "text/plain": [
       "4"
      ]
     },
     "execution_count": 64,
     "metadata": {},
     "output_type": "execute_result"
    }
   ],
   "source": [
    "round(3.5859)"
   ]
  },
  {
   "cell_type": "code",
   "execution_count": 66,
   "id": "885eff23",
   "metadata": {
    "scrolled": false
   },
   "outputs": [
    {
     "data": {
      "text/plain": [
       "3.586"
      ]
     },
     "execution_count": 66,
     "metadata": {},
     "output_type": "execute_result"
    }
   ],
   "source": [
    "round(3.5859,3)  # Round till 3 decimal Number 3 "
   ]
  },
  {
   "cell_type": "code",
   "execution_count": 80,
   "id": "fb5959b5",
   "metadata": {},
   "outputs": [
    {
     "data": {
      "text/plain": [
       "(1, 2)"
      ]
     },
     "execution_count": 80,
     "metadata": {},
     "output_type": "execute_result"
    }
   ],
   "source": [
    "divmod(5,3)"
   ]
  },
  {
   "cell_type": "code",
   "execution_count": 81,
   "id": "eb07b72c",
   "metadata": {},
   "outputs": [
    {
     "data": {
      "text/plain": [
       "(1, 2)"
      ]
     },
     "execution_count": 81,
     "metadata": {},
     "output_type": "execute_result"
    }
   ],
   "source": [
    "_"
   ]
  },
  {
   "cell_type": "code",
   "execution_count": 82,
   "id": "c739c61e",
   "metadata": {},
   "outputs": [
    {
     "name": "stdout",
     "output_type": "stream",
     "text": [
      "Interactive namespace is empty.\n"
     ]
    }
   ],
   "source": [
    "%whos"
   ]
  },
  {
   "cell_type": "code",
   "execution_count": null,
   "id": "da5a5828",
   "metadata": {},
   "outputs": [],
   "source": []
  },
  {
   "cell_type": "code",
   "execution_count": 84,
   "id": "8d47e749",
   "metadata": {},
   "outputs": [],
   "source": [
    "a = _"
   ]
  },
  {
   "cell_type": "code",
   "execution_count": 85,
   "id": "41f77f34",
   "metadata": {},
   "outputs": [
    {
     "data": {
      "text/plain": [
       "(1, 2)"
      ]
     },
     "execution_count": 85,
     "metadata": {},
     "output_type": "execute_result"
    }
   ],
   "source": [
    "a "
   ]
  },
  {
   "cell_type": "code",
   "execution_count": 86,
   "id": "4e140411",
   "metadata": {},
   "outputs": [],
   "source": [
    "del a"
   ]
  },
  {
   "cell_type": "code",
   "execution_count": 87,
   "id": "cb08dbe4",
   "metadata": {},
   "outputs": [
    {
     "data": {
      "text/plain": [
       "True"
      ]
     },
     "execution_count": 87,
     "metadata": {},
     "output_type": "execute_result"
    }
   ],
   "source": [
    "isinstance(3,int)\n"
   ]
  },
  {
   "cell_type": "code",
   "execution_count": 88,
   "id": "1cd2f94b",
   "metadata": {},
   "outputs": [
    {
     "data": {
      "text/plain": [
       "True"
      ]
     },
     "execution_count": 88,
     "metadata": {},
     "output_type": "execute_result"
    }
   ],
   "source": [
    "isinstance(4.0 , (float,int))"
   ]
  },
  {
   "cell_type": "code",
   "execution_count": 89,
   "id": "7a1c0b76",
   "metadata": {},
   "outputs": [
    {
     "data": {
      "text/plain": [
       "True"
      ]
     },
     "execution_count": 89,
     "metadata": {},
     "output_type": "execute_result"
    }
   ],
   "source": [
    "isinstance(5 + 5j , (complex , int , float))"
   ]
  },
  {
   "cell_type": "code",
   "execution_count": 90,
   "id": "8d52b5d1",
   "metadata": {},
   "outputs": [
    {
     "data": {
      "text/plain": [
       "False"
      ]
     },
     "execution_count": 90,
     "metadata": {},
     "output_type": "execute_result"
    }
   ],
   "source": [
    "isinstance(5+5j , (float , int ))"
   ]
  },
  {
   "cell_type": "code",
   "execution_count": 91,
   "id": "4de2f3f5",
   "metadata": {},
   "outputs": [
    {
     "data": {
      "text/plain": [
       "2"
      ]
     },
     "execution_count": 91,
     "metadata": {},
     "output_type": "execute_result"
    }
   ],
   "source": [
    "pow(2,4,7)"
   ]
  },
  {
   "cell_type": "markdown",
   "id": "f00d5a3c",
   "metadata": {},
   "source": [
    "### Input funtion in Python "
   ]
  },
  {
   "cell_type": "code",
   "execution_count": 92,
   "id": "5b135070",
   "metadata": {},
   "outputs": [
    {
     "name": "stdout",
     "output_type": "stream",
     "text": [
      "Interactive namespace is empty.\n"
     ]
    }
   ],
   "source": [
    "%whos "
   ]
  },
  {
   "cell_type": "code",
   "execution_count": 93,
   "id": "0717bbdb",
   "metadata": {},
   "outputs": [
    {
     "name": "stdout",
     "output_type": "stream",
     "text": [
      "ENTER the number : 5\n"
     ]
    }
   ],
   "source": [
    "a = int(input(\"ENTER the number : \"))"
   ]
  },
  {
   "cell_type": "code",
   "execution_count": 94,
   "id": "aac6c96f",
   "metadata": {},
   "outputs": [
    {
     "name": "stdout",
     "output_type": "stream",
     "text": [
      "12\n"
     ]
    }
   ],
   "source": [
    "print( a+ 7)"
   ]
  },
  {
   "cell_type": "code",
   "execution_count": 95,
   "id": "6af1f23c",
   "metadata": {},
   "outputs": [
    {
     "data": {
      "text/plain": [
       "2"
      ]
     },
     "execution_count": 95,
     "metadata": {},
     "output_type": "execute_result"
    }
   ],
   "source": [
    "_\n"
   ]
  },
  {
   "cell_type": "code",
   "execution_count": 96,
   "id": "1ea315c8",
   "metadata": {},
   "outputs": [
    {
     "data": {
      "text/plain": [
       "12"
      ]
     },
     "execution_count": 96,
     "metadata": {},
     "output_type": "execute_result"
    }
   ],
   "source": [
    "a +7 "
   ]
  },
  {
   "cell_type": "code",
   "execution_count": 97,
   "id": "91d7ff61",
   "metadata": {},
   "outputs": [
    {
     "data": {
      "text/plain": [
       "12"
      ]
     },
     "execution_count": 97,
     "metadata": {},
     "output_type": "execute_result"
    }
   ],
   "source": [
    "_"
   ]
  },
  {
   "cell_type": "code",
   "execution_count": 98,
   "id": "dca6d3c2",
   "metadata": {},
   "outputs": [
    {
     "name": "stdout",
     "output_type": "stream",
     "text": [
      "Help on built-in function pow in module builtins:\n",
      "\n",
      "pow(base, exp, mod=None)\n",
      "    Equivalent to base**exp with 2 arguments or base**exp % mod with 3 arguments\n",
      "    \n",
      "    Some types, such as ints, are able to use a more efficient algorithm when\n",
      "    invoked using the three argument form.\n",
      "\n"
     ]
    }
   ],
   "source": [
    "help(pow)"
   ]
  },
  {
   "cell_type": "code",
   "execution_count": 99,
   "id": "da167ce7",
   "metadata": {},
   "outputs": [],
   "source": [
    "??pow"
   ]
  },
  {
   "cell_type": "code",
   "execution_count": 101,
   "id": "27370db7",
   "metadata": {},
   "outputs": [],
   "source": [
    "pow??"
   ]
  },
  {
   "cell_type": "markdown",
   "id": "96d80f8c",
   "metadata": {},
   "source": [
    "## Control Flow in Python "
   ]
  },
  {
   "cell_type": "markdown",
   "id": "657a3017",
   "metadata": {},
   "source": [
    "###  if condition in python "
   ]
  },
  {
   "cell_type": "code",
   "execution_count": 102,
   "id": "3d724878",
   "metadata": {},
   "outputs": [
    {
     "name": "stdout",
     "output_type": "stream",
     "text": [
      "No variables match your requested type.\n"
     ]
    }
   ],
   "source": [
    "who%"
   ]
  },
  {
   "cell_type": "code",
   "execution_count": 103,
   "id": "4cd5970d",
   "metadata": {},
   "outputs": [
    {
     "name": "stdout",
     "output_type": "stream",
     "text": [
      "a\t \n"
     ]
    }
   ],
   "source": [
    "%who"
   ]
  },
  {
   "cell_type": "code",
   "execution_count": 104,
   "id": "1e3143b7",
   "metadata": {},
   "outputs": [],
   "source": [
    "del a "
   ]
  },
  {
   "cell_type": "code",
   "execution_count": 135,
   "id": "0d23cf5b",
   "metadata": {},
   "outputs": [
    {
     "name": "stdout",
     "output_type": "stream",
     "text": [
      "Enter the number : 56\n",
      "Enter the second number : 33\n"
     ]
    }
   ],
   "source": [
    "d = int(input(\"Enter the number : \"))\n",
    "b = int(input(\"Enter the second number : \"))"
   ]
  },
  {
   "cell_type": "code",
   "execution_count": 136,
   "id": "110f5713",
   "metadata": {},
   "outputs": [
    {
     "name": "stdout",
     "output_type": "stream",
     "text": [
      "33\n"
     ]
    }
   ],
   "source": [
    "if a > b : \n",
    "    print(a)\n",
    "else : \n",
    "    print(b )"
   ]
  },
  {
   "cell_type": "code",
   "execution_count": 130,
   "id": "d074f7fd",
   "metadata": {},
   "outputs": [
    {
     "data": {
      "text/plain": [
       "12"
      ]
     },
     "execution_count": 130,
     "metadata": {},
     "output_type": "execute_result"
    }
   ],
   "source": [
    "_"
   ]
  },
  {
   "cell_type": "code",
   "execution_count": 137,
   "id": "b22b8318",
   "metadata": {},
   "outputs": [],
   "source": [
    "# Ladder if else condition "
   ]
  },
  {
   "cell_type": "code",
   "execution_count": 138,
   "id": "af4b83c0",
   "metadata": {},
   "outputs": [
    {
     "name": "stdout",
     "output_type": "stream",
     "text": [
      "Enter the 3rd number : 432\n"
     ]
    }
   ],
   "source": [
    "c = int(input(\"Enter the 3rd number : \"))"
   ]
  },
  {
   "cell_type": "code",
   "execution_count": 140,
   "id": "9b3d3cb4",
   "metadata": {},
   "outputs": [],
   "source": [
    "def find_max(d,b,c):\n",
    "    if d > b : \n",
    "        if d > c : \n",
    "            return d \n",
    "        else :\n",
    "            return c \n",
    "    elif b > c : \n",
    "        if b < c : \n",
    "            return c \n",
    "        else :\n",
    "            return b "
   ]
  },
  {
   "cell_type": "code",
   "execution_count": 142,
   "id": "906f0f92",
   "metadata": {},
   "outputs": [
    {
     "name": "stdout",
     "output_type": "stream",
     "text": [
      "432\n"
     ]
    }
   ],
   "source": [
    "z = find_max(d,b,c)\n",
    "print(z)"
   ]
  },
  {
   "cell_type": "code",
   "execution_count": 118,
   "id": "39f0737f",
   "metadata": {},
   "outputs": [
    {
     "name": "stdout",
     "output_type": "stream",
     "text": [
      "Variable   Type        Data/Info\n",
      "--------------------------------\n",
      "a          NoneType    None\n",
      "b          int         6\n",
      "c          int         9\n",
      "find_max   function    <function find_max at 0x000001B738D02E80>\n"
     ]
    }
   ],
   "source": [
    "%whos"
   ]
  },
  {
   "cell_type": "code",
   "execution_count": 143,
   "id": "bf715076",
   "metadata": {},
   "outputs": [],
   "source": [
    "del a , b, c, find_max"
   ]
  },
  {
   "cell_type": "code",
   "execution_count": 144,
   "id": "840a0cc9",
   "metadata": {},
   "outputs": [
    {
     "name": "stdout",
     "output_type": "stream",
     "text": [
      "Variable   Type    Data/Info\n",
      "----------------------------\n",
      "d          int     56\n",
      "z          int     432\n"
     ]
    }
   ],
   "source": [
    "%whos"
   ]
  },
  {
   "cell_type": "code",
   "execution_count": 145,
   "id": "bafc8983",
   "metadata": {},
   "outputs": [],
   "source": [
    "del d  ,z "
   ]
  },
  {
   "cell_type": "code",
   "execution_count": 146,
   "id": "03fd349f",
   "metadata": {},
   "outputs": [
    {
     "name": "stdout",
     "output_type": "stream",
     "text": [
      "Interactive namespace is empty.\n"
     ]
    }
   ],
   "source": [
    "%whos"
   ]
  },
  {
   "cell_type": "code",
   "execution_count": 147,
   "id": "36d16e0a",
   "metadata": {},
   "outputs": [
    {
     "data": {
      "text/plain": [
       "12"
      ]
     },
     "execution_count": 147,
     "metadata": {},
     "output_type": "execute_result"
    }
   ],
   "source": [
    "_"
   ]
  },
  {
   "cell_type": "code",
   "execution_count": null,
   "id": "2aa9d230",
   "metadata": {},
   "outputs": [],
   "source": []
  }
 ],
 "metadata": {
  "kernelspec": {
   "display_name": "Python 3 (ipykernel)",
   "language": "python",
   "name": "python3"
  },
  "language_info": {
   "codemirror_mode": {
    "name": "ipython",
    "version": 3
   },
   "file_extension": ".py",
   "mimetype": "text/x-python",
   "name": "python",
   "nbconvert_exporter": "python",
   "pygments_lexer": "ipython3",
   "version": "3.11.4"
  }
 },
 "nbformat": 4,
 "nbformat_minor": 5
}
