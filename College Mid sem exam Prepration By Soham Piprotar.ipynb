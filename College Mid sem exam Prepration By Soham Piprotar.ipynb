{
 "cells": [
  {
   "cell_type": "markdown",
   "id": "cd528e82",
   "metadata": {},
   "source": [
    "### Lists"
   ]
  },
  {
   "cell_type": "code",
   "execution_count": 1,
   "id": "6393521d",
   "metadata": {},
   "outputs": [
    {
     "name": "stdout",
     "output_type": "stream",
     "text": [
      "[1, 2, 3, 4, 'soham ', 'i am ']\n"
     ]
    }
   ],
   "source": [
    "# declaring the list ; \n",
    "a = [1, 2,3, 4, \"soham \"]\n",
    "a.append(\"i am \")\n",
    "print(a)"
   ]
  },
  {
   "cell_type": "code",
   "execution_count": 5,
   "id": "6ac627fd",
   "metadata": {},
   "outputs": [
    {
     "name": "stdout",
     "output_type": "stream",
     "text": [
      "2\n"
     ]
    }
   ],
   "source": [
    "#acessing the element \n",
    "print(a[1])"
   ]
  },
  {
   "cell_type": "code",
   "execution_count": 6,
   "id": "1ad5babb",
   "metadata": {},
   "outputs": [
    {
     "name": "stdout",
     "output_type": "stream",
     "text": [
      "[2, 3]\n"
     ]
    }
   ],
   "source": [
    "#slicing the list \n",
    "print(a[1:3])         # this return the slice but can't delete from main list "
   ]
  },
  {
   "cell_type": "code",
   "execution_count": 7,
   "id": "160b5125",
   "metadata": {},
   "outputs": [
    {
     "data": {
      "text/plain": [
       "[1, 2, 3, 4, 'soham ', 'i am ']"
      ]
     },
     "execution_count": 7,
     "metadata": {},
     "output_type": "execute_result"
    }
   ],
   "source": [
    "a"
   ]
  },
  {
   "cell_type": "code",
   "execution_count": 8,
   "id": "032404b3",
   "metadata": {},
   "outputs": [],
   "source": [
    "#modifing the list \n",
    "a[0] = \"you are a \""
   ]
  },
  {
   "cell_type": "code",
   "execution_count": 10,
   "id": "67596ac5",
   "metadata": {},
   "outputs": [
    {
     "name": "stdout",
     "output_type": "stream",
     "text": [
      "['you are a ', 2, 3, 4, 'soham ', 'i am ']\n"
     ]
    }
   ],
   "source": [
    "print(a)\n",
    "del a[0]   # this instruction delete the first unwanted element "
   ]
  },
  {
   "cell_type": "code",
   "execution_count": 20,
   "id": "3fe191c3",
   "metadata": {},
   "outputs": [],
   "source": [
    "aa = a[1:2] "
   ]
  },
  {
   "cell_type": "code",
   "execution_count": 21,
   "id": "8a817bd9",
   "metadata": {},
   "outputs": [
    {
     "name": "stdout",
     "output_type": "stream",
     "text": [
      "[2, 3, 4, 'soham ', 'i am ', 3]\n"
     ]
    }
   ],
   "source": [
    "aaa = a+aa\n",
    "print(aaa)"
   ]
  },
  {
   "cell_type": "code",
   "execution_count": 24,
   "id": "3cc4432a",
   "metadata": {},
   "outputs": [
    {
     "name": "stdout",
     "output_type": "stream",
     "text": [
      "[1, 4, 9, 16, 25]\n"
     ]
    }
   ],
   "source": [
    "#list comparisions ;\n",
    "aaaa = [1 ,2 ,3, 4 , 5]\n",
    "squre = [ x**2 for x in range(1,6)]\n",
    "print(squre)"
   ]
  },
  {
   "cell_type": "code",
   "execution_count": 25,
   "id": "e58b1fc7",
   "metadata": {},
   "outputs": [],
   "source": [
    "# tuples and string have a same fucntion as list so just practice it in your free time "
   ]
  },
  {
   "cell_type": "code",
   "execution_count": null,
   "id": "f597425d",
   "metadata": {},
   "outputs": [],
   "source": []
  }
 ],
 "metadata": {
  "kernelspec": {
   "display_name": "Python 3 (ipykernel)",
   "language": "python",
   "name": "python3"
  },
  "language_info": {
   "codemirror_mode": {
    "name": "ipython",
    "version": 3
   },
   "file_extension": ".py",
   "mimetype": "text/x-python",
   "name": "python",
   "nbconvert_exporter": "python",
   "pygments_lexer": "ipython3",
   "version": "3.11.4"
  }
 },
 "nbformat": 4,
 "nbformat_minor": 5
}
