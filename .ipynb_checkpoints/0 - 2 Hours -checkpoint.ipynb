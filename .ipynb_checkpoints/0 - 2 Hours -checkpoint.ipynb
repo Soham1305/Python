{
 "cells": [
  {
   "cell_type": "markdown",
   "id": "7ce7b11c",
   "metadata": {},
   "source": [
    "### Use Flow chart and Pseudocode to solve the Problem or in Algorithm design "
   ]
  },
  {
   "cell_type": "markdown",
   "id": "6ffb4d14",
   "metadata": {},
   "source": [
    "## Search minimum from the List "
   ]
  },
  {
   "cell_type": "code",
   "execution_count": 6,
   "id": "0a6ed3da",
   "metadata": {},
   "outputs": [
    {
     "name": "stdout",
     "output_type": "stream",
     "text": [
      "enter the element3\n",
      "enter the element12\n",
      "enter the element12\n",
      "enter the element3\n",
      "enter the element43\n",
      "Do you want to store more : yes or no \n",
      "no\n",
      "OK\n",
      "the minimum number which present in list is :  (3.0, 0)\n"
     ]
    }
   ],
   "source": [
    "import sys\n",
    "small = sys.float_info.min\n",
    "large = sys.float_info.max\n",
    "l1 = []\n",
    "for i in range(5):\n",
    "    a = float(input(\"enter the element\"))\n",
    "    l1.append(a)\n",
    "    \n",
    "print(\"Do you want to store more : yes or no \")\n",
    "b = input()\n",
    "if b == 'yes':\n",
    "    b2 = int(input(\"enter the number of values you want to store \"))\n",
    "    for i in range(b2):\n",
    "        b3 = float(input(\"enter the number you want to store : \"))\n",
    "        l1.append(b3)\n",
    "else :\n",
    "    print(\"OK\") \n",
    "def Find_min(l):\n",
    "    a = large\n",
    "    counter = 0 \n",
    "    for i in l : \n",
    "        \n",
    "        if a > i : \n",
    "            a = i \n",
    "            counter += 1\n",
    "    return (a,counter-1)\n",
    "\n",
    "ans = Find_min(l1)\n",
    "print(\"the minimum number which present in list is : \",ans)"
   ]
  },
  {
   "cell_type": "markdown",
   "id": "f8676b44",
   "metadata": {},
   "source": [
    "### Selection sort "
   ]
  },
  {
   "cell_type": "code",
   "execution_count": 9,
   "id": "40b2040e",
   "metadata": {},
   "outputs": [
    {
     "name": "stdout",
     "output_type": "stream",
     "text": [
      "Enter the number that you want to store in list : \n",
      "4\n",
      "enter the element : 4\n",
      "enter the element : 3\n",
      "enter the element : 2\n",
      "enter the element : 1\n",
      "The sorted list is :  [1.0, 2.0, 3.0, 4.0]\n"
     ]
    }
   ],
   "source": [
    " # time Complecity : O(n^2)\n",
    " # space Complexity  : O(1)\n",
    " # in-bulild sort function : list.sort()\n",
    "def Selection_sort(l):\n",
    "    for i in range(len(l)):\n",
    "        for j in range(i+1,len(l)):\n",
    "            if l[i] > l[j]:\n",
    "                temp = l[i]\n",
    "                \n",
    "                l[i] = l[j]\n",
    "                l[j] = temp\n",
    "                \n",
    "    return l \n",
    "l1 = []\n",
    "print(\"Enter the number that you want to store in list : \")\n",
    "num = int(input())\n",
    "while num > 0 : \n",
    "    in_ele =  float(input(\"enter the element : \"))\n",
    "    num -= 1 \n",
    "    l1.append(in_ele)\n",
    "ans = Selection_sort(l1)\n",
    "print(\"The sorted list is : \" , ans )"
   ]
  },
  {
   "cell_type": "code",
   "execution_count": null,
   "id": "cf0d2877",
   "metadata": {},
   "outputs": [],
   "source": []
  }
 ],
 "metadata": {
  "kernelspec": {
   "display_name": "Python 3 (ipykernel)",
   "language": "python",
   "name": "python3"
  },
  "language_info": {
   "codemirror_mode": {
    "name": "ipython",
    "version": 3
   },
   "file_extension": ".py",
   "mimetype": "text/x-python",
   "name": "python",
   "nbconvert_exporter": "python",
   "pygments_lexer": "ipython3",
   "version": "3.11.4"
  }
 },
 "nbformat": 4,
 "nbformat_minor": 5
}
