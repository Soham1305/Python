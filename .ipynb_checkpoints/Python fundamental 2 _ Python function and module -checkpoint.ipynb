{
 "cells": [
  {
   "cell_type": "markdown",
   "id": "7b6c5f4d",
   "metadata": {},
   "source": [
    "# Function in Python "
   ]
  },
  {
   "cell_type": "markdown",
   "id": "5b08f1cf",
   "metadata": {},
   "source": [
    "#### Fundamental "
   ]
  },
  {
   "cell_type": "code",
   "execution_count": 31,
   "id": "b6e76dfe",
   "metadata": {},
   "outputs": [],
   "source": [
    "\n",
    "def factorial(a):\n",
    "    '''this function will \n",
    "       return factorial of any positive number : \n",
    "       '''\n",
    "    if a==1 : \n",
    "        return 1 \n",
    "    return a*factorial(a-1)"
   ]
  },
  {
   "cell_type": "code",
   "execution_count": 32,
   "id": "c8c86d3d",
   "metadata": {},
   "outputs": [
    {
     "data": {
      "text/plain": [
       "120"
      ]
     },
     "execution_count": 32,
     "metadata": {},
     "output_type": "execute_result"
    }
   ],
   "source": [
    "factorial(5)"
   ]
  },
  {
   "cell_type": "code",
   "execution_count": 34,
   "id": "73e308c1",
   "metadata": {},
   "outputs": [
    {
     "data": {
      "text/plain": [
       "3628800"
      ]
     },
     "execution_count": 34,
     "metadata": {},
     "output_type": "execute_result"
    }
   ],
   "source": [
    "factorial(10)\n"
   ]
  },
  {
   "cell_type": "code",
   "execution_count": 35,
   "id": "ee8d64a3",
   "metadata": {},
   "outputs": [],
   "source": [
    "def hi():\n",
    "     ax= 2 "
   ]
  },
  {
   "cell_type": "code",
   "execution_count": 37,
   "id": "f9989488",
   "metadata": {},
   "outputs": [],
   "source": [
    "hi()"
   ]
  },
  {
   "cell_type": "markdown",
   "id": "3fa97b78",
   "metadata": {},
   "source": [
    "#### Default values for Functions \n"
   ]
  },
  {
   "cell_type": "code",
   "execution_count": 38,
   "id": "b0c57bf9",
   "metadata": {},
   "outputs": [],
   "source": [
    "def hi2(a = 0 ):\n",
    "    print(a)"
   ]
  },
  {
   "cell_type": "code",
   "execution_count": 39,
   "id": "56669376",
   "metadata": {},
   "outputs": [
    {
     "name": "stdout",
     "output_type": "stream",
     "text": [
      "0\n"
     ]
    }
   ],
   "source": [
    "hi2()"
   ]
  },
  {
   "cell_type": "code",
   "execution_count": 40,
   "id": "bd3c1917",
   "metadata": {},
   "outputs": [
    {
     "name": "stdout",
     "output_type": "stream",
     "text": [
      "5\n"
     ]
    }
   ],
   "source": [
    "hi2(5)"
   ]
  },
  {
   "cell_type": "code",
   "execution_count": 46,
   "id": "cf6f831d",
   "metadata": {},
   "outputs": [],
   "source": [
    "def factorial2(a = 1):\n",
    "    '''this function will \n",
    "       return factorial of any positive number : \n",
    "       '''\n",
    "    if a==1 : \n",
    "        return a \n",
    "    return a*factorial(a-1)"
   ]
  },
  {
   "cell_type": "code",
   "execution_count": 47,
   "id": "1ee4bd42",
   "metadata": {},
   "outputs": [
    {
     "data": {
      "text/plain": [
       "120"
      ]
     },
     "execution_count": 47,
     "metadata": {},
     "output_type": "execute_result"
    }
   ],
   "source": [
    "factorial2(5)"
   ]
  },
  {
   "cell_type": "code",
   "execution_count": null,
   "id": "717ae694",
   "metadata": {},
   "outputs": [],
   "source": []
  }
 ],
 "metadata": {
  "kernelspec": {
   "display_name": "Python 3 (ipykernel)",
   "language": "python",
   "name": "python3"
  },
  "language_info": {
   "codemirror_mode": {
    "name": "ipython",
    "version": 3
   },
   "file_extension": ".py",
   "mimetype": "text/x-python",
   "name": "python",
   "nbconvert_exporter": "python",
   "pygments_lexer": "ipython3",
   "version": "3.11.4"
  }
 },
 "nbformat": 4,
 "nbformat_minor": 5
}
