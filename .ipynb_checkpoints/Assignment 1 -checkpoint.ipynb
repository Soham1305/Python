{
 "cells": [
  {
   "cell_type": "markdown",
   "id": "952ae014",
   "metadata": {},
   "source": [
    "# Assignment-1 Introduction, Data types and operators\n"
   ]
  },
  {
   "cell_type": "markdown",
   "id": "d012f6cd",
   "metadata": {},
   "source": [
    "####  Soham Piprotar (210200111091)"
   ]
  },
  {
   "cell_type": "markdown",
   "id": "2bbe0582",
   "metadata": {},
   "source": [
    "###  1. Write program to make simple calculator with input taken run time."
   ]
  },
  {
   "cell_type": "code",
   "execution_count": 5,
   "id": "f807a3bd",
   "metadata": {},
   "outputs": [
    {
     "name": "stdout",
     "output_type": "stream",
     "text": [
      "Enter the number 1 : 4\n",
      "Enter the number 2 : 5\n",
      " 1 -> addtion , 2-> subtraction , 3 -> division , 4-> power , 5-> modul operation , 6 -> Multiplicaiton , 7-> Perfect Division\n",
      "Enter the Operation code you want to perform 7\n",
      "0\n"
     ]
    }
   ],
   "source": [
    "# Simple Calculator  --> addition  , subtraction , division , power , modul operation , multiplication \n",
    "\n",
    "a = int(input(\"Enter the number 1 : \"));\n",
    "b = int(input(\"Enter the number 2 : \"));\n",
    "\n",
    "print(\" 1 -> addtion , 2-> subtraction , 3 -> division , 4-> power , 5-> modul operation , 6 -> Multiplicaiton , 7-> Perfect Division\");\n",
    "\n",
    "c = int(input(\"Enter the Operation code you want to perform \"));\n",
    "\n",
    "if c == 1:\n",
    "    print(a+b);\n",
    "elif c == 2 :\n",
    "    print(a-b);     \n",
    "elif c == 3 :\n",
    "    print(a/b);       # a//b --> it's return the perfact number ;\n",
    "elif c == 4 :\n",
    "    print(a**b);      # pow(x,y,z); --> it's power x to the y and modulo with z ;\n",
    "elif c == 5 :\n",
    "    print(a%b);\n",
    "elif c == 6 :\n",
    "    print(a*b);\n",
    "elif c == 7 :\n",
    "    print(a//b);      # Round off \n",
    "else :\n",
    "    print(\"Invalid command \");\n"
   ]
  },
  {
   "cell_type": "markdown",
   "id": "6f541305",
   "metadata": {},
   "source": [
    "### Write program to find solution of quadratic equation. ( i.e.: ax2 + bx + c = 0)"
   ]
  },
  {
   "cell_type": "code",
   "execution_count": 11,
   "id": "b2859b5e",
   "metadata": {},
   "outputs": [
    {
     "name": "stdout",
     "output_type": "stream",
     "text": [
      "enter the x^2 's '4\n",
      "enter the x 's '5\n",
      "enter the c 's '6\n",
      "(-0.625+1.0532687216470449j) (-0.625-1.0532687216470449j)\n"
     ]
    }
   ],
   "source": [
    "# mathamatical solution --> X = (-b ± sqrt(b2 – 4ac))/2a)\n",
    "\n",
    "import math   # for simple math related operatino \n",
    "import cmath # complex math operation \n",
    "\n",
    "a = int(input(\"enter the x^2 's '\"));\n",
    "b = int(input(\"enter the x 's '\"));\n",
    "c = int(input(\"enter the c 's '\"));\n",
    "\n",
    "D = b**2 - 4*a*c       # count because of upcoming compxity of sqrt of D .\n",
    "\n",
    "if D >=0 :\n",
    "        root1 = (-b + math.sqrt((b**2) - (4*(a*c)))) / (2*a)   # math.sqrt --> math module --> squre root of nubmer \n",
    "        root2 = (-b - math.sqrt((b**2) - (4*(a*c)))) / (2*a)\n",
    "else  :\n",
    "     root1 = (-b + cmath.sqrt((b**2) - (4*(a*c)))) / (2*a)   # cmath.sqrt --> math module --> squre root of nubmer of complex number \n",
    "     root2 = (-b - cmath.sqrt((b**2) - (4*(a*c)))) / (2*a)\n",
    "    \n",
    "\n",
    "print(root1,root2);"
   ]
  },
  {
   "cell_type": "markdown",
   "id": "0773f1ff",
   "metadata": {},
   "source": [
    "### 3 . Write program to convert kilometer into meter, centimeter, inch, foot."
   ]
  },
  {
   "cell_type": "code",
   "execution_count": 12,
   "id": "ecdeb6cb",
   "metadata": {},
   "outputs": [
    {
     "name": "stdout",
     "output_type": "stream",
     "text": [
      "Enter the killometer4.6\n",
      "Enter 1 -> To meter , 2 -> To Centimeter , 3 -> inch , 4 -> foot\n",
      "Enter the operation4\n",
      "14020.8 Foot\n"
     ]
    }
   ],
   "source": [
    "# conversion \n",
    "\n",
    "a = float(input(\"Enter the killometer\"));\n",
    "\n",
    "print(\"Enter 1 -> To meter , 2 -> To Centimeter , 3 -> inch , 4 -> foot\");\n",
    "\n",
    "b = int(input(\"Enter the operation\"));\n",
    "\n",
    "if b == 1:\n",
    "    print(a*10e3,\"Meter\");\n",
    "if b == 2:\n",
    "    print(a*10e5,\"Centimeter\");\n",
    "if b == 3:\n",
    "    print(a*139370.157480314,\"Inch\");\n",
    "if b ==4 :\n",
    "    print(a*3048 ,\"Foot\");\n",
    "else :\n",
    "    print(\"Invalide Request \");"
   ]
  },
  {
   "cell_type": "markdown",
   "id": "2811a2e2",
   "metadata": {},
   "source": [
    "### 4 .Write program to convert days into year, month and days. "
   ]
  },
  {
   "cell_type": "code",
   "execution_count": 14,
   "id": "96b47dfc",
   "metadata": {},
   "outputs": [
    {
     "name": "stdout",
     "output_type": "stream",
     "text": [
      "Enter the number of days 6\n",
      "1 -> To Year, 2 -> months , 3-> days \n",
      "operation number1\n",
      "0.01643835616438356 year\n"
     ]
    }
   ],
   "source": [
    "#(Ex : d= 367 ➔ Year=1,month=0, day=2) \n",
    "\n",
    "a = int(input(\"Enter the number of days \"));\n",
    "\n",
    "print(\"1 -> To Year, 2 -> months , 3-> days \");\n",
    "\n",
    "c = int(input(\"operation number\"));\n",
    "\n",
    "if c == 1:\n",
    "    d = a /365 ;\n",
    "    if d >1:\n",
    "        print(d , \"years\");\n",
    "    else:\n",
    "        print(d,\"year\");\n",
    "elif c ==2 :\n",
    "    d = a /30 ;\n",
    "    if d >1:\n",
    "        print(d , \"months\");\n",
    "    else:\n",
    "        print(d,\"month\");\n",
    "elif c == 3 :\n",
    "    if d >1:\n",
    "        print(d , \"days\");\n",
    "    else:\n",
    "        print(d,\"day\");"
   ]
  },
  {
   "cell_type": "markdown",
   "id": "671c0e2f",
   "metadata": {},
   "source": [
    "### 5.  Write program to convert weight from kilogram to pound(lbs)."
   ]
  },
  {
   "cell_type": "code",
   "execution_count": 15,
   "id": "31c7936e",
   "metadata": {},
   "outputs": [
    {
     "name": "stdout",
     "output_type": "stream",
     "text": [
      "enter the number of killograme 5\n",
      "11.02311 pounds\n"
     ]
    }
   ],
   "source": [
    "#1 kilograme = 2.204622 pounds \n",
    "\n",
    "a = float(input(\"enter the number of killograme \"));\n",
    "\n",
    "if a<1:\n",
    "    print(a*2.204622 , \"pound\");\n",
    "else :\n",
    "    print(a*2.204622,\"pounds\");"
   ]
  },
  {
   "cell_type": "markdown",
   "id": "d090ea10",
   "metadata": {},
   "source": [
    "### 6 . Write program to find simple interest and compound interest. "
   ]
  },
  {
   "cell_type": "code",
   "execution_count": 20,
   "id": "a1f858d3",
   "metadata": {},
   "outputs": [
    {
     "name": "stdout",
     "output_type": "stream",
     "text": [
      "Enter the P : 5\n",
      "Enter the R : 6\n",
      "Enter the T : 7\n",
      "1 --> Simple Intrest , 2-->conmpund intrest\n",
      "Enter the operation 2\n",
      "Compund time in per months4\n",
      "693889390390.7228\n"
     ]
    }
   ],
   "source": [
    "#simple intrest --> PRT /100 ;\n",
    "#compound intrest -->  p* (1+r/n)^(nt);\n",
    "#where p -> is principle amount , r -> rate of intrest , T -> time \n",
    "\n",
    "p = float(input(\"Enter the P : \"));\n",
    "r = float(input(\"Enter the R : \"));\n",
    "t = float(input(\"Enter the T : \"));\n",
    "\n",
    "print( \"1 --> Simple Intrest , 2-->conmpund intrest\");\n",
    "\n",
    "a = int(input(\"Enter the operation \"));\n",
    "\n",
    "if a ==1 :\n",
    "    print((p*r*t)/100);\n",
    "elif a == 2:\n",
    "    n = int(input(\"Compund time in per months\"));\n",
    "    print(p*((1+(r/n))**(n*t)));\n",
    "else:\n",
    "    print(\"Invalide Operator \");"
   ]
  },
  {
   "cell_type": "markdown",
   "id": "d6572865",
   "metadata": {},
   "source": [
    "###  7 .Write program to take mobile number from user. print list of 10 separate digits."
   ]
  },
  {
   "cell_type": "code",
   "execution_count": 24,
   "id": "e97f4cf5",
   "metadata": {},
   "outputs": [
    {
     "name": "stdout",
     "output_type": "stream",
     "text": [
      "Enter your mobile number: 9510535183\n",
      "['9', '5', '1', '0', '5', '3', '5', '1', '8', '3']\n"
     ]
    }
   ],
   "source": [
    "# Take input from user\n",
    "mobile_number = input(\"Enter your mobile number: \")\n",
    "\n",
    "# Check if the input is a valid 10-digit mobile number\n",
    "if len(mobile_number) == 10 and mobile_number.isdigit():\n",
    "    # Convert the string to a list of digits\n",
    "    digits = list(mobile_number)\n",
    "    print(digits)\n",
    "else:\n",
    "    print(\"Please enter a valid 10-digit mobile number.\")\n"
   ]
  },
  {
   "cell_type": "markdown",
   "id": "20246967",
   "metadata": {},
   "source": [
    "### 8  .Write program to enter two string (name and surname) run time. Do following , (a). Print merge string,(b). Print merge string in upper,(c). Print merge string in lower case,(d). Print both string in reverse "
   ]
  },
  {
   "cell_type": "code",
   "execution_count": 8,
   "id": "93b77c1d",
   "metadata": {},
   "outputs": [
    {
     "name": "stdout",
     "output_type": "stream",
     "text": [
      "enter your name  soham \n",
      "enter your surname piprotar \n",
      " soham  piprotar \n",
      " soham  piprotar \n",
      " SOHAM  PIPROTAR \n",
      " mahos \n",
      " ratorpip \n"
     ]
    }
   ],
   "source": [
    "#input string in runtime ;\n",
    "\n",
    "# def Reverse(a):\n",
    "#     i =0 \n",
    "#     while i<(len(a)/2):\n",
    "#         d = a[i];\n",
    "#         a[i] = a[len(a)-i];         don't try this because today i learn the string is imutable in python \n",
    "#         a[len(a)-1] = d ;           But if you have extra space then you can reverse this thing using some extra memory \n",
    "#         i += 1 ;\n",
    "#     return a ;\n",
    "    \n",
    "def Reverse(a):\n",
    "    return a[::-1];  # this little thing call slicing in python\n",
    "\n",
    "a = input(\"enter your name \");\n",
    "b = input(\"enter your surname\");\n",
    "\n",
    "# a \n",
    "c = a+b; \n",
    "print(c);\n",
    "\n",
    "#b; \n",
    "print(c.lower());\n",
    "\n",
    "#c ;\n",
    "print(c.upper());\n",
    "\n",
    "#d ;\n",
    "print(Reverse(a));\n",
    "print(Reverse(b));"
   ]
  },
  {
   "cell_type": "markdown",
   "id": "d3829adb",
   "metadata": {},
   "source": [
    "### 9. Write program to count number of times single character comes from string."
   ]
  },
  {
   "cell_type": "code",
   "execution_count": 9,
   "id": "88a6a06d",
   "metadata": {},
   "outputs": [
    {
     "name": "stdout",
     "output_type": "stream",
     "text": [
      "Enter your string Hi , I am soham piprotar\n",
      "Enter the character or string that you want to cound in your given string s\n",
      "1\n"
     ]
    }
   ],
   "source": [
    "a = input(\"Enter your string \");\n",
    "\n",
    "b = input(\"Enter the character or string that you want to cound in your given string \");\n",
    "\n",
    "print(a.count(b));  # i know this is cool but i also do with logic and O(n) time complexty using recursion and simple itresion "
   ]
  },
  {
   "cell_type": "markdown",
   "id": "e29558ec",
   "metadata": {},
   "source": [
    "### 10. Write program to print ASCII of any character in decimal and hex"
   ]
  },
  {
   "cell_type": "code",
   "execution_count": 12,
   "id": "14c0c126",
   "metadata": {},
   "outputs": [
    {
     "name": "stdout",
     "output_type": "stream",
     "text": [
      "Enter a character: z\n",
      "The ASCII value of 'z' in decimal is: 122\n",
      "The ASCII value of 'z' in hexadecimal is: 0x7a\n"
     ]
    }
   ],
   "source": [
    "char = input(\"Enter a character: \")\n",
    "\n",
    "ascii_val = ord(char)  # yeah , this megically get the ascii value off the character (*_*)\n",
    "\n",
    "print(\"The ASCII value of '\" + char + \"' in decimal is: \" + str(ascii_val))  # just for concatination \n",
    "\n",
    "print(\"The ASCII value of '\" + char + \"' in hexadecimal is: \" + hex(ascii_val))  # convert into hexadecimal "
   ]
  },
  {
   "cell_type": "markdown",
   "id": "fb6cc65e",
   "metadata": {},
   "source": [
    "### 11. Write program to print number in binary. Print count of zeros and ones."
   ]
  },
  {
   "cell_type": "code",
   "execution_count": 13,
   "id": "6b00024e",
   "metadata": {},
   "outputs": [
    {
     "name": "stdout",
     "output_type": "stream",
     "text": [
      "Enter a decimal number: 54\n",
      "The binary representation of 54 is 110110\n",
      "The nubmer of Zeros is :  2\n",
      "The number of ones is :  4\n"
     ]
    }
   ],
   "source": [
    "\n",
    "num = int(input(\"Enter a decimal number: \"))  # input in runtime \n",
    "\n",
    "binary = bin(num)   # megical function \n",
    "\n",
    "a = str(binary[2:])\n",
    "\n",
    "print(\"The binary representation of\", num, \"is\", binary[2:])  # our megical fucntion returns the 0b at first so i slice the output\n",
    "\n",
    "print(\"The nubmer of Zeros is : \" ,a.count('0') );\n",
    "\n",
    "print(\"The number of ones is : \", a.count('1'));"
   ]
  },
  {
   "cell_type": "markdown",
   "id": "d8c5d094",
   "metadata": {},
   "source": [
    "## endl ; --> endA ( END OF ASSIENMENT (*_*)"
   ]
  },
  {
   "cell_type": "code",
   "execution_count": null,
   "id": "621caada",
   "metadata": {},
   "outputs": [],
   "source": []
  }
 ],
 "metadata": {
  "kernelspec": {
   "display_name": "Python 3 (ipykernel)",
   "language": "python",
   "name": "python3"
  },
  "language_info": {
   "codemirror_mode": {
    "name": "ipython",
    "version": 3
   },
   "file_extension": ".py",
   "mimetype": "text/x-python",
   "name": "python",
   "nbconvert_exporter": "python",
   "pygments_lexer": "ipython3",
   "version": "3.11.4"
  }
 },
 "nbformat": 4,
 "nbformat_minor": 5
}
