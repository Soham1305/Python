{
 "cells": [
  {
   "cell_type": "markdown",
   "id": "47bb558f",
   "metadata": {},
   "source": [
    "# Control Flow in Python "
   ]
  },
  {
   "cell_type": "markdown",
   "id": "c96accbe",
   "metadata": {},
   "source": [
    "### Print the greatest among the two numbers "
   ]
  },
  {
   "cell_type": "code",
   "execution_count": 4,
   "id": "2a7d0c45",
   "metadata": {},
   "outputs": [
    {
     "name": "stdout",
     "output_type": "stream",
     "text": [
      "enter the number 1 : 4 \n",
      "enter the number 2 : 5 \n",
      "5.0\n",
      " i am inside in the if or else condition  \n",
      "print else part \n",
      "i am outside the if or else condition \n"
     ]
    }
   ],
   "source": [
    "a = float(input(\"enter the number 1 : \"))\n",
    "b = float(input(\"enter the number 2 : \"))\n",
    "\n",
    "if a>b :\n",
    "    print(a);\n",
    "    print(\"print if part\")\n",
    "\n",
    "else:\n",
    "    print(b);\n",
    "    print(\" i am inside in the if or else condition  \")   # python else if work on indiantation\n",
    "    print(\"print else part \")\n",
    "\n",
    "print(\"i am outside the if or else condition \")"
   ]
  },
  {
   "cell_type": "code",
   "execution_count": 8,
   "id": "c74ba423",
   "metadata": {},
   "outputs": [
    {
     "name": "stdout",
     "output_type": "stream",
     "text": [
      "78\n",
      "6\n",
      "78\n",
      "a is greater then b \n"
     ]
    }
   ],
   "source": [
    "a =  int(input())\n",
    "b =int( input())\n",
    "\n",
    "if a>b :\n",
    "    print(a)\n",
    "    print(\"a is greater then b \")\n",
    "elif a == b :\n",
    "    print (a)\n",
    "    print(\"a and b is bo87th equal\")\n",
    "else :\n",
    "    print(\"b is greater then a \")"
   ]
  },
  {
   "cell_type": "code",
   "execution_count": null,
   "id": "dd699286",
   "metadata": {},
   "outputs": [],
   "source": [
    "#sort form of if else if printing \n",
    "a = float(input())\n",
    "b = float(input())\n",
    "\n",
    "print(\"A\") if a>b else print(\"B\") if a==b else print(\"B\")"
   ]
  },
  {
   "cell_type": "code",
   "execution_count": null,
   "id": "1a8e9af5",
   "metadata": {},
   "outputs": [],
   "source": []
  }
 ],
 "metadata": {
  "kernelspec": {
   "display_name": "Python 3 (ipykernel)",
   "language": "python",
   "name": "python3"
  },
  "language_info": {
   "codemirror_mode": {
    "name": "ipython",
    "version": 3
   },
   "file_extension": ".py",
   "mimetype": "text/x-python",
   "name": "python",
   "nbconvert_exporter": "python",
   "pygments_lexer": "ipython3",
   "version": "3.11.4"
  }
 },
 "nbformat": 4,
 "nbformat_minor": 5
}
