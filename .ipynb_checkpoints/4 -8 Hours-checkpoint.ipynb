{
 "cells": [
  {
   "cell_type": "markdown",
   "id": "8ceafa14",
   "metadata": {},
   "source": [
    "### Else if ladder practice "
   ]
  },
  {
   "cell_type": "code",
   "execution_count": 19,
   "id": "1f4d66b8",
   "metadata": {
    "scrolled": true
   },
   "outputs": [
    {
     "name": "stdout",
     "output_type": "stream",
     "text": [
      "Enter the float number : 29479874.42347\n",
      "29479874\n",
      "The number is even  : \n"
     ]
    }
   ],
   "source": [
    "# single line comment \n",
    "\"\"\"\n",
    "user will enter a floating number.your task is to find \n",
    "out the integer portion befor point and give the number \n",
    "is even or odd . \n",
    "\n",
    "\"\"\"\n",
    "\n",
    "user_num = float(input(\"Enter the float number : \"))\n",
    "\n",
    "user_num_string = str(user_num)\n",
    "\n",
    "num_before_point = ''\n",
    "\n",
    "for i in user_num_string : \n",
    "    if i == '.':\n",
    "        break\n",
    "    num_before_point += i\n",
    "    \n",
    "print(num_before_point)\n",
    "if (int(num_before_point) % 2 == 0):\n",
    "    print(\"The number is even  : \")\n",
    "else : \n",
    "    print(\"The nubmer is odd : \")\n"
   ]
  },
  {
   "cell_type": "code",
   "execution_count": 28,
   "id": "bd6b58a9",
   "metadata": {},
   "outputs": [
    {
     "name": "stdout",
     "output_type": "stream",
     "text": [
      " Enter the number : -234242.24342134\n",
      "-234242\n",
      "The number is even : \n"
     ]
    }
   ],
   "source": [
    "# ussing if eles ladder \n",
    "\n",
    "user_num = float(input(\" Enter the number : \"))\n",
    "rm_after_point = round(user_num)\n",
    "if user_num >0 : \n",
    "    if rm_after_point > user_num : \n",
    "        intPortion = rm_after_point -1  \n",
    "\n",
    "\n",
    "    else : \n",
    "        intPortion = rm_after_point \n",
    "if user_num < 0 : \n",
    "    \n",
    "    if rm_after_point > user_num : \n",
    "        intPortion = rm_after_point   \n",
    "\n",
    "\n",
    "    else: \n",
    "        intPortion = rm_after_point -1  \n",
    "print(intPortion)\n",
    "\n",
    "if intPortion %2 == 0 : \n",
    "    print(\"The number is even : \")\n",
    "else : \n",
    "    print(\"The number is odd : \")\n",
    "    "
   ]
  },
  {
   "cell_type": "markdown",
   "id": "54b69c3a",
   "metadata": {},
   "source": [
    "## Loops "
   ]
  },
  {
   "cell_type": "code",
   "execution_count": 29,
   "id": "769273a5",
   "metadata": {},
   "outputs": [
    {
     "name": "stdout",
     "output_type": "stream",
     "text": [
      "Enter the number of iteraion : 5\n",
      "1\n",
      "2\n",
      "3\n",
      "4\n",
      "5\n",
      "That's how while loop works \n"
     ]
    }
   ],
   "source": [
    "# print number  ; \n",
    "\n",
    "user_num = int(input(\"Enter the number of iteraion : \"))\n",
    "\n",
    "i = 1 \n",
    "\n",
    "while i <= user_num : \n",
    "    \n",
    "    print(i)\n",
    "    i += 1 \n",
    "\n",
    "print(\"That's how while loop works \")"
   ]
  },
  {
   "cell_type": "code",
   "execution_count": 30,
   "id": "38dfa695",
   "metadata": {},
   "outputs": [],
   "source": [
    "del user_num "
   ]
  },
  {
   "cell_type": "code",
   "execution_count": 31,
   "id": "fcde1cad",
   "metadata": {},
   "outputs": [
    {
     "name": "stdout",
     "output_type": "stream",
     "text": [
      "f\t i\t intPortion\t rm_after_point\t \n"
     ]
    }
   ],
   "source": [
    "%who"
   ]
  },
  {
   "cell_type": "code",
   "execution_count": 36,
   "id": "2463edce",
   "metadata": {},
   "outputs": [],
   "source": [
    "del    rm_after_point "
   ]
  },
  {
   "cell_type": "code",
   "execution_count": 37,
   "id": "d509e9f6",
   "metadata": {},
   "outputs": [
    {
     "name": "stdout",
     "output_type": "stream",
     "text": [
      "f\t \n"
     ]
    }
   ],
   "source": [
    "%who"
   ]
  },
  {
   "cell_type": "code",
   "execution_count": 38,
   "id": "671f3b9e",
   "metadata": {},
   "outputs": [
    {
     "data": {
      "text/plain": [
       "''"
      ]
     },
     "execution_count": 38,
     "metadata": {},
     "output_type": "execute_result"
    }
   ],
   "source": [
    "_\n"
   ]
  },
  {
   "cell_type": "code",
   "execution_count": 39,
   "id": "c5a98b9d",
   "metadata": {},
   "outputs": [
    {
     "name": "stdout",
     "output_type": "stream",
     "text": [
      "Enter the number : 5\n",
      "0\n",
      "2\n",
      "4\n"
     ]
    }
   ],
   "source": [
    "# uderstading of pass statement \n",
    "# print only even number \n",
    "\n",
    "user_num = int (input(\"Enter the number : \"))\n",
    "\n",
    "i = 0 \n",
    "\n",
    "while i <= user_num :\n",
    "    if i % 2 ==0 :\n",
    "        print(i)\n",
    "    else : \n",
    "        pass \n",
    "    i += 1 \n",
    "    \n",
    "    "
   ]
  },
  {
   "cell_type": "code",
   "execution_count": 40,
   "id": "9b568ca1",
   "metadata": {},
   "outputs": [],
   "source": [
    "del user_num , i "
   ]
  },
  {
   "cell_type": "code",
   "execution_count": 41,
   "id": "56bdca59",
   "metadata": {},
   "outputs": [
    {
     "name": "stdout",
     "output_type": "stream",
     "text": [
      "Enter the nnumber : 5\n",
      "2\n",
      "4\n"
     ]
    },
    {
     "ename": "KeyboardInterrupt",
     "evalue": "",
     "output_type": "error",
     "traceback": [
      "\u001b[1;31m---------------------------------------------------------------------------\u001b[0m",
      "\u001b[1;31mKeyboardInterrupt\u001b[0m                         Traceback (most recent call last)",
      "Cell \u001b[1;32mIn[41], line 12\u001b[0m\n\u001b[0;32m     10\u001b[0m        \u001b[38;5;28mprint\u001b[39m(i)\n\u001b[0;32m     11\u001b[0m \u001b[38;5;28;01melif\u001b[39;00m i \u001b[38;5;241m==\u001b[39m \u001b[38;5;241m5\u001b[39m : \n\u001b[1;32m---> 12\u001b[0m        \u001b[38;5;28;01mcontinue\u001b[39;00m \n\u001b[0;32m     13\u001b[0m \u001b[38;5;28;01melif\u001b[39;00m i \u001b[38;5;241m==\u001b[39m \u001b[38;5;241m10\u001b[39m :\n\u001b[0;32m     14\u001b[0m        \u001b[38;5;28;01mbreak\u001b[39;00m\n",
      "\u001b[1;31mKeyboardInterrupt\u001b[0m: "
     ]
    }
   ],
   "source": [
    "# uderstanding off continue and break statemate : \n",
    "\n",
    "user_num = int(input(\"Enter the nnumber : \"))\n",
    "\n",
    "i = 1 \n",
    "\n",
    "while i <= user_num : \n",
    "    \n",
    "    if i%2 == 0 :\n",
    "           print(i)\n",
    "    elif i == 5 : \n",
    "           continue \n",
    "    elif i == 10 :\n",
    "           break\n",
    "    i += 1 \n"
   ]
  },
  {
   "cell_type": "markdown",
   "id": "aa53e9b6",
   "metadata": {},
   "source": [
    "### Uderstanding of For loop "
   ]
  },
  {
   "cell_type": "code",
   "execution_count": 42,
   "id": "95c6229f",
   "metadata": {},
   "outputs": [],
   "source": [
    "del i ,user_num "
   ]
  },
  {
   "cell_type": "code",
   "execution_count": 43,
   "id": "612e9f50",
   "metadata": {},
   "outputs": [
    {
     "name": "stdout",
     "output_type": "stream",
     "text": [
      "0\n",
      "2\n",
      "4\n",
      "6\n",
      "8\n"
     ]
    }
   ],
   "source": [
    "for i in range(0,10,2):\n",
    "    print(i)"
   ]
  },
  {
   "cell_type": "code",
   "execution_count": 44,
   "id": "1fef6d49",
   "metadata": {},
   "outputs": [
    {
     "name": "stdout",
     "output_type": "stream",
     "text": [
      "Variable   Type        Data/Info\n",
      "--------------------------------\n",
      "f          function    <function f at 0x000001D98995E160>\n",
      "i          int         8\n"
     ]
    }
   ],
   "source": [
    "%whos"
   ]
  },
  {
   "cell_type": "code",
   "execution_count": 45,
   "id": "11e79b8b",
   "metadata": {},
   "outputs": [],
   "source": [
    "del i "
   ]
  },
  {
   "cell_type": "code",
   "execution_count": null,
   "id": "3e2cd8e5",
   "metadata": {},
   "outputs": [],
   "source": [
    "# make a list and put sequre of all elemnet number which enter by user \n",
    "\n",
    "user_num = int(input(\"Enter the number : \"))\n",
    "\n",
    "ele_list = []\n",
    "\n",
    "for i in range(1,user_num+1):\n",
    "    ele = i**2 \n",
    "    ele_list.append(ele)\n",
    "\n",
    "print(ele_list)\n",
    "\n",
    "print(\"IT's easy : \")"
   ]
  },
  {
   "cell_type": "code",
   "execution_count": 46,
   "id": "5761145f",
   "metadata": {},
   "outputs": [
    {
     "name": "stdout",
     "output_type": "stream",
     "text": [
      "Variable   Type        Data/Info\n",
      "--------------------------------\n",
      "f          function    <function f at 0x000001D98995E160>\n"
     ]
    }
   ],
   "source": [
    "%whos"
   ]
  },
  {
   "cell_type": "code",
   "execution_count": null,
   "id": "3eec6401",
   "metadata": {},
   "outputs": [],
   "source": []
  },
  {
   "cell_type": "code",
   "execution_count": 47,
   "id": "d438be57",
   "metadata": {},
   "outputs": [
    {
     "name": "stdout",
     "output_type": "stream",
     "text": [
      "1\n",
      "loop compete it's iteration :  \n"
     ]
    }
   ],
   "source": [
    "# eles with for loop \n",
    "\n",
    "for i in range(0,2):\n",
    "    if i == 1 : \n",
    "        print(i)\n",
    "else :\n",
    "    print(\"loop compete it's iteration :  \")"
   ]
  },
  {
   "cell_type": "code",
   "execution_count": 48,
   "id": "6002876b",
   "metadata": {},
   "outputs": [
    {
     "name": "stdout",
     "output_type": "stream",
     "text": [
      "0\n",
      "4\n",
      "8\n",
      "12\n"
     ]
    }
   ],
   "source": [
    "# use break in for else loop \n",
    "# else is oonly trggger when loop complete all it's teration : \n",
    "\n",
    "for i in range(0,20,4):\n",
    "    if i == 16 :\n",
    "        break \n",
    "        \n",
    "    print(i)\n",
    "else : \n",
    "    print(\"the iteration was complete \")"
   ]
  },
  {
   "cell_type": "code",
   "execution_count": 49,
   "id": "e4b85b6b",
   "metadata": {},
   "outputs": [
    {
     "name": "stdout",
     "output_type": "stream",
     "text": [
      " apple  11\n",
      "banana  42\n"
     ]
    }
   ],
   "source": [
    "# iterats over disctionary : \n",
    "D = { \" apple \" : 11 , \"banana \":42}\n",
    "\n",
    "for i in D : \n",
    "    print(i,D[i])"
   ]
  },
  {
   "cell_type": "markdown",
   "id": "2338a343",
   "metadata": {},
   "source": [
    "#### Practice : Sorting Problem : "
   ]
  },
  {
   "cell_type": "code",
   "execution_count": 50,
   "id": "6e19f4ed",
   "metadata": {},
   "outputs": [
    {
     "name": "stdout",
     "output_type": "stream",
     "text": [
      "Variable   Type        Data/Info\n",
      "--------------------------------\n",
      "D          dict        n=2\n",
      "f          function    <function f at 0x000001D98995E160>\n",
      "i          str         banana \n"
     ]
    }
   ],
   "source": [
    "%whos"
   ]
  },
  {
   "cell_type": "code",
   "execution_count": 51,
   "id": "81f91fe3",
   "metadata": {},
   "outputs": [
    {
     "name": "stdout",
     "output_type": "stream",
     "text": [
      "Enter the number of element in Your  list  : 4\n",
      "Enter the element : 23\n",
      "Enter the element : 23\n",
      "Enter the element : 12\n",
      "Enter the element : 12\n",
      "[12, 12, 23, 23]\n",
      "Thanks\n"
     ]
    }
   ],
   "source": [
    "\n",
    "\"\"\"\n",
    "time complexity : O(n^2)\n",
    "space complexity : O(1)\n",
    "selection sort ::: \n",
    "\n",
    "\"\"\"\n",
    "user_ele = []\n",
    "\n",
    "def l_sort(l):\n",
    "    for i in range(0,len(l)) : \n",
    "        for j in range(i+1,len(l)):\n",
    "            if l[i] > l[j] : \n",
    "                temp = l[i]\n",
    "                l[i] = l[j]\n",
    "                l[j] = temp\n",
    "        \n",
    "    return l  \n",
    "    \n",
    "ele = int(input(\"Enter the number of element in Your  list  : \"))\n",
    "\n",
    "while ele > 0 : \n",
    "    user_in = int(input(\"Enter the element : \"))\n",
    "    user_ele.append(user_in)\n",
    "    ele -= 1\n",
    "\n",
    "ans_list = l_sort(user_ele)\n",
    "\n",
    "print(ans_list)\n",
    "print(\"Thanks\")"
   ]
  },
  {
   "cell_type": "markdown",
   "id": "b7210dce",
   "metadata": {},
   "source": [
    "## Function in Python "
   ]
  },
  {
   "cell_type": "code",
   "execution_count": 52,
   "id": "6fc1eea4",
   "metadata": {},
   "outputs": [],
   "source": [
    "def add(a,b):\n",
    "    \"\"\"this function is  add two number \n",
    "    \"\"\"\n",
    "    return a+b"
   ]
  },
  {
   "cell_type": "code",
   "execution_count": 53,
   "id": "0fee7dc5",
   "metadata": {},
   "outputs": [],
   "source": [
    "add??"
   ]
  },
  {
   "cell_type": "code",
   "execution_count": 54,
   "id": "5de55b5c",
   "metadata": {},
   "outputs": [
    {
     "data": {
      "text/plain": [
       "8"
      ]
     },
     "execution_count": 54,
     "metadata": {},
     "output_type": "execute_result"
    }
   ],
   "source": [
    "add(5,3)"
   ]
  },
  {
   "cell_type": "code",
   "execution_count": 55,
   "id": "be84f4a1",
   "metadata": {},
   "outputs": [
    {
     "name": "stdout",
     "output_type": "stream",
     "text": [
      "Help on function add in module __main__:\n",
      "\n",
      "add(a, b)\n",
      "    this function is  add two number\n",
      "\n"
     ]
    }
   ],
   "source": [
    "help(add)  # this returns the document string inside the function "
   ]
  },
  {
   "cell_type": "code",
   "execution_count": 56,
   "id": "c57ac082",
   "metadata": {},
   "outputs": [],
   "source": [
    "def printM(msg):\n",
    "    \"\"\"THIS FUNCTION CHACK THE MSG AND RETURN IF IT'S IN STRING \n",
    "    \"\"\"\n",
    "    if isinstance(msg,str):\n",
    "        print(msg)\n",
    "    else : \n",
    "        print(\"your message is not a string \")"
   ]
  },
  {
   "cell_type": "code",
   "execution_count": 57,
   "id": "6c50ea56",
   "metadata": {},
   "outputs": [
    {
     "name": "stdout",
     "output_type": "stream",
     "text": [
      "hello\n",
      "your message is not a string \n"
     ]
    }
   ],
   "source": [
    "a = \"hello\"\n",
    "printM(a)\n",
    "printM(10)"
   ]
  },
  {
   "cell_type": "code",
   "execution_count": 58,
   "id": "ae089afb",
   "metadata": {},
   "outputs": [],
   "source": [
    "printM?"
   ]
  },
  {
   "cell_type": "code",
   "execution_count": 59,
   "id": "b17b2a6d",
   "metadata": {},
   "outputs": [],
   "source": [
    "def f(a,b,c):\n",
    "    print( \"a is  : \",a)\n",
    "    print( \"b is  : \",b)\n",
    "    print( \"c is  : \",c)"
   ]
  },
  {
   "cell_type": "code",
   "execution_count": 21,
   "id": "ea529ed8",
   "metadata": {},
   "outputs": [
    {
     "name": "stdout",
     "output_type": "stream",
     "text": [
      "Variable           Type        Data/Info\n",
      "----------------------------------------\n",
      "a                  str         hello\n",
      "add                function    <function add at 0x000001D98995FCE0>\n",
      "f                  function    <function f at 0x000001D98995E160>\n",
      "i                  str         .\n",
      "num_before_point   str         29479874\n",
      "printM             function    <function printM at 0x000001D98995EF20>\n",
      "user_num           float       29479874.42347\n",
      "user_num_string    str         29479874.42347\n"
     ]
    }
   ],
   "source": [
    "%whos"
   ]
  },
  {
   "cell_type": "code",
   "execution_count": 63,
   "id": "c761989b",
   "metadata": {},
   "outputs": [],
   "source": [
    "del D , ans_list , ele ,l_sort , user_ele , user_in"
   ]
  },
  {
   "cell_type": "code",
   "execution_count": 64,
   "id": "d213fae3",
   "metadata": {},
   "outputs": [
    {
     "name": "stdout",
     "output_type": "stream",
     "text": [
      "Variable   Type        Data/Info\n",
      "--------------------------------\n",
      "f          function    <function f at 0x000001D988923240>\n"
     ]
    }
   ],
   "source": [
    "%whos"
   ]
  },
  {
   "cell_type": "code",
   "execution_count": 65,
   "id": "a27b0c03",
   "metadata": {},
   "outputs": [
    {
     "name": "stdout",
     "output_type": "stream",
     "text": [
      "a is  :  5\n",
      "b is  :  6\n",
      "c is  :  7\n"
     ]
    }
   ],
   "source": [
    "f(5, 6, 7 )"
   ]
  },
  {
   "cell_type": "code",
   "execution_count": 66,
   "id": "c2027d5c",
   "metadata": {},
   "outputs": [
    {
     "name": "stdout",
     "output_type": "stream",
     "text": [
      "a is  :  4\n",
      "b is  :  5\n",
      "c is  :  6\n"
     ]
    }
   ],
   "source": [
    "# IF YOU DIRECT SEND INPUT ARGUMENT IS ORDER DEFFINE THE VARIABLE \n",
    "f ( b=5, a = 4, c = 6)  "
   ]
  },
  {
   "cell_type": "code",
   "execution_count": 67,
   "id": "0316f6f0",
   "metadata": {},
   "outputs": [
    {
     "data": {
      "text/plain": [
       "8"
      ]
     },
     "execution_count": 67,
     "metadata": {},
     "output_type": "execute_result"
    }
   ],
   "source": [
    "_"
   ]
  },
  {
   "cell_type": "code",
   "execution_count": 68,
   "id": "f292c0b5",
   "metadata": {},
   "outputs": [
    {
     "name": "stdout",
     "output_type": "stream",
     "text": [
      "Variable   Type        Data/Info\n",
      "--------------------------------\n",
      "f          function    <function f at 0x000001D988923240>\n"
     ]
    }
   ],
   "source": [
    "%whos"
   ]
  },
  {
   "cell_type": "code",
   "execution_count": 69,
   "id": "49c97438",
   "metadata": {},
   "outputs": [],
   "source": [
    "def add(*l):\n",
    "    sum = 0 \n",
    "    for i in range(len(l)):\n",
    "        sum += l[i]\n",
    "    return sum "
   ]
  },
  {
   "cell_type": "code",
   "execution_count": 70,
   "id": "036c51c4",
   "metadata": {},
   "outputs": [
    {
     "data": {
      "text/plain": [
       "17"
      ]
     },
     "execution_count": 70,
     "metadata": {},
     "output_type": "execute_result"
    }
   ],
   "source": [
    "add(3,4,2,4,2,2)"
   ]
  },
  {
   "cell_type": "code",
   "execution_count": 73,
   "id": "cb7a8683",
   "metadata": {},
   "outputs": [
    {
     "name": "stdout",
     "output_type": "stream",
     "text": [
      "17\n",
      "Variable   Type        Data/Info\n",
      "--------------------------------\n",
      "add        function    <function add at 0x000001D9889209A0>\n",
      "f          function    <function f at 0x000001D988923240>\n"
     ]
    }
   ],
   "source": [
    "print(_)\n",
    "%whos"
   ]
  },
  {
   "cell_type": "code",
   "execution_count": 74,
   "id": "0e2904bf",
   "metadata": {},
   "outputs": [],
   "source": [
    "# infinite argument support but we want there controll \n",
    "def mAwC(**d):\n",
    "    for i in d : \n",
    "        print (i,d[i])"
   ]
  },
  {
   "cell_type": "code",
   "execution_count": 78,
   "id": "d4e684bc",
   "metadata": {},
   "outputs": [
    {
     "name": "stdout",
     "output_type": "stream",
     "text": [
      "a banana\n",
      "b 7\n"
     ]
    }
   ],
   "source": [
    "mAwC(a = \"banana\" , b=7 )"
   ]
  },
  {
   "cell_type": "code",
   "execution_count": 87,
   "id": "ce86bee7",
   "metadata": {},
   "outputs": [],
   "source": [
    "def add2 (a=0 ,b = 1):\n",
    "    \"\"\" This function have default values \n",
    "    \"\"\"\n",
    "    return a+b"
   ]
  },
  {
   "cell_type": "code",
   "execution_count": 84,
   "id": "132f306e",
   "metadata": {},
   "outputs": [
    {
     "data": {
      "text/plain": [
       "10"
      ]
     },
     "execution_count": 84,
     "metadata": {},
     "output_type": "execute_result"
    }
   ],
   "source": [
    "add2(5,5)"
   ]
  },
  {
   "cell_type": "code",
   "execution_count": 85,
   "id": "36c2545e",
   "metadata": {},
   "outputs": [
    {
     "data": {
      "text/plain": [
       "1"
      ]
     },
     "execution_count": 85,
     "metadata": {},
     "output_type": "execute_result"
    }
   ],
   "source": [
    "add2()"
   ]
  },
  {
   "cell_type": "code",
   "execution_count": 89,
   "id": "3ebfa8b2",
   "metadata": {},
   "outputs": [],
   "source": [
    "add2?"
   ]
  },
  {
   "cell_type": "code",
   "execution_count": 91,
   "id": "38b720a6",
   "metadata": {},
   "outputs": [
    {
     "ename": "SyntaxError",
     "evalue": "var-positional argument cannot have default value (9338042.py, line 1)",
     "output_type": "error",
     "traceback": [
      "\u001b[1;36m  Cell \u001b[1;32mIn[91], line 1\u001b[1;36m\u001b[0m\n\u001b[1;33m    def add3(*l=[1,2,3,4]):   # argument value can't be a default value\u001b[0m\n\u001b[1;37m               ^\u001b[0m\n\u001b[1;31mSyntaxError\u001b[0m\u001b[1;31m:\u001b[0m var-positional argument cannot have default value\n"
     ]
    }
   ],
   "source": [
    "# def add3(*l=[1,2,3,4]):   # argument value can't be a default value \n",
    "#     sum = 0 \n",
    "#     for i in l :\n",
    "#         sum += i\n",
    "#     return sum "
   ]
  },
  {
   "cell_type": "code",
   "execution_count": 92,
   "id": "031ac890",
   "metadata": {},
   "outputs": [
    {
     "name": "stdout",
     "output_type": "stream",
     "text": [
      "Variable   Type        Data/Info\n",
      "--------------------------------\n",
      "add        function    <function add at 0x000001D9889209A0>\n",
      "add2       function    <function add2 at 0x000001D989A35120>\n",
      "f          function    <function f at 0x000001D988923240>\n",
      "mAwC       function    <function mAwC at 0x000001D98995F100>\n"
     ]
    }
   ],
   "source": [
    "%whos"
   ]
  },
  {
   "cell_type": "markdown",
   "id": "b68482a6",
   "metadata": {},
   "source": [
    "## Module in Python "
   ]
  },
  {
   "cell_type": "code",
   "execution_count": 93,
   "id": "05067af5",
   "metadata": {},
   "outputs": [
    {
     "name": "stdout",
     "output_type": "stream",
     "text": [
      "Variable   Type        Data/Info\n",
      "--------------------------------\n",
      "add        function    <function add at 0x000001D9889209A0>\n",
      "add2       function    <function add2 at 0x000001D989A35120>\n",
      "f          function    <function f at 0x000001D988923240>\n",
      "mAwC       function    <function mAwC at 0x000001D98995F100>\n"
     ]
    }
   ],
   "source": [
    "%whos"
   ]
  },
  {
   "cell_type": "code",
   "execution_count": 94,
   "id": "23d9b614",
   "metadata": {},
   "outputs": [],
   "source": [
    "del add , add2 , f , mAwC"
   ]
  },
  {
   "cell_type": "code",
   "execution_count": 1,
   "id": "851c3fa5",
   "metadata": {},
   "outputs": [],
   "source": [
    "import sys"
   ]
  },
  {
   "cell_type": "code",
   "execution_count": 2,
   "id": "64638e6a",
   "metadata": {},
   "outputs": [
    {
     "name": "stdout",
     "output_type": "stream",
     "text": [
      "Variable   Type      Data/Info\n",
      "------------------------------\n",
      "sys        module    <module 'sys' (built-in)>\n"
     ]
    }
   ],
   "source": [
    "%whos"
   ]
  },
  {
   "cell_type": "code",
   "execution_count": 27,
   "id": "a1bf3dd1",
   "metadata": {},
   "outputs": [],
   "source": [
    "sys.path.append(\"D:\\SOHAM PIPROTAR\")"
   ]
  },
  {
   "cell_type": "code",
   "execution_count": 50,
   "id": "996a3db8",
   "metadata": {},
   "outputs": [],
   "source": [
    "import name1  as f "
   ]
  },
  {
   "cell_type": "code",
   "execution_count": 53,
   "id": "0e455d8f",
   "metadata": {},
   "outputs": [],
   "source": [
    "f??"
   ]
  },
  {
   "cell_type": "code",
   "execution_count": 55,
   "id": "b9174cc3",
   "metadata": {},
   "outputs": [],
   "source": [
    "# f.my_function(1,2,3)"
   ]
  },
  {
   "cell_type": "markdown",
   "id": "8879811b",
   "metadata": {},
   "source": [
    "### Problem using Function "
   ]
  },
  {
   "cell_type": "code",
   "execution_count": 63,
   "id": "9cb9421a",
   "metadata": {},
   "outputs": [
    {
     "name": "stdout",
     "output_type": "stream",
     "text": [
      "Enter the number of element you want to store : 5\n",
      "Enter the Element : 4\n",
      "Enter the Element : 32\n",
      "Enter the Element : 22\n",
      "Enter the Element : 3\n",
      "Enter the Element : 2\n",
      "[4.0, 32.0, 22.0, 3.0, 2.0]\n",
      "(2.0, 4)\n"
     ]
    }
   ],
   "source": [
    "\"\"\"\n",
    "input the list , minimum value and it's index in the list \n",
    "\n",
    "\"\"\"\n",
    "\n",
    "def input_list():\n",
    "    b = []\n",
    "    a = int(input(\"Enter the number of element you want to store : \"))\n",
    "    while a > 0 : \n",
    "        \n",
    "        ele = float(input(\"Enter the Element : \"))\n",
    "        b.append(ele)\n",
    "        a -= 1 \n",
    "    \n",
    "    return b \n",
    "\n",
    "def minimum_index(l):\n",
    "    \n",
    "    min = sys.float_info.max\n",
    "    \n",
    "    count = 0\n",
    "    index = 0 \n",
    "    \n",
    "    while count < len(l):\n",
    "        if min > l[count]:\n",
    "            min = l[count]\n",
    "            index = count\n",
    "        count += 1 \n",
    "        \n",
    "    return (min , index)\n",
    "\n",
    "user_data = input_list()\n",
    "print(user_data)\n",
    "ans = minimum_index(user_data)\n",
    "print(ans)"
   ]
  },
  {
   "cell_type": "code",
   "execution_count": 64,
   "id": "09a93a5c",
   "metadata": {},
   "outputs": [],
   "source": [
    "\"\"\"\n",
    "write the function that swaps the values in given list \n",
    "\"\"\"\n",
    "def swa_data(l , data1 , data2 ):\n",
    "    temp = l[data1]\n",
    "    l[data1] = l[data2]\n",
    "    l[data2] = temp\n",
    "    return l "
   ]
  },
  {
   "cell_type": "code",
   "execution_count": 67,
   "id": "6732e92d",
   "metadata": {},
   "outputs": [
    {
     "name": "stdout",
     "output_type": "stream",
     "text": [
      "[4.0, 22.0, 32.0, 3.0, 2.0]\n"
     ]
    }
   ],
   "source": [
    "ans2 = swa_data(user_data , 1, 2)\n",
    "print(ans2)"
   ]
  },
  {
   "cell_type": "code",
   "execution_count": 74,
   "id": "5e952fc5",
   "metadata": {},
   "outputs": [],
   "source": [
    "def sort_list(l):\n",
    "    for i in range(0,len(l)):\n",
    "        for j in range(i+1 , len(l)):\n",
    "            if not(isinstance(l[i],(float,int))):\n",
    "                return \"this list contain non -numeric values \"\n",
    "            if l[i] > l [j] : \n",
    "                temp = l[i]\n",
    "                l[i] = l[j]\n",
    "                l[j] = temp \n",
    "        \n",
    "    return l "
   ]
  },
  {
   "cell_type": "code",
   "execution_count": 75,
   "id": "ed3452a7",
   "metadata": {},
   "outputs": [
    {
     "name": "stdout",
     "output_type": "stream",
     "text": [
      "[2.0, 3.0, 4.0, 22.0, 32.0]\n"
     ]
    }
   ],
   "source": [
    "ans3 = sort_list(user_data)\n",
    "print(ans3)"
   ]
  },
  {
   "cell_type": "code",
   "execution_count": 76,
   "id": "74c4cf7d",
   "metadata": {},
   "outputs": [],
   "source": [
    "def if_numeric(l):\n",
    "    for i in l : \n",
    "        if not(isinstance(i,(int , float))):\n",
    "            return False \n",
    "        \n",
    "    return True "
   ]
  },
  {
   "cell_type": "markdown",
   "id": "05763f6c",
   "metadata": {},
   "source": [
    "### String in Python "
   ]
  },
  {
   "cell_type": "code",
   "execution_count": 77,
   "id": "6d48286d",
   "metadata": {},
   "outputs": [
    {
     "name": "stdout",
     "output_type": "stream",
     "text": [
      "Variable        Type        Data/Info\n",
      "-------------------------------------\n",
      "ans             tuple       n=2\n",
      "ans2            list        n=5\n",
      "ans3            list        n=5\n",
      "f               module      <module 'name1' from 'D:\\<...>OHAM PIPROTAR\\\\name1.py'>\n",
      "if_numeric      function    <function if_numeric at 0x000002401152A0C0>\n",
      "input_list      function    <function input_list at 0x0000024012BA6CA0>\n",
      "minimum_index   function    <function minimum_index at 0x0000024012BA4FE0>\n",
      "name1           module      <module 'name1' from 'D:\\<...>OHAM PIPROTAR\\\\name1.py'>\n",
      "sort_list       function    <function sort_list at 0x0000024013355300>\n",
      "swa_data        function    <function swa_data at 0x0000024012BA56C0>\n",
      "sys             module      <module 'sys' (built-in)>\n",
      "user_data       list        n=5\n"
     ]
    }
   ],
   "source": [
    "%whos"
   ]
  },
  {
   "cell_type": "code",
   "execution_count": 78,
   "id": "eeb97cda",
   "metadata": {},
   "outputs": [],
   "source": [
    "del ans , ans2 ,ans3, f , if_numeric , input_list , minimum_index , name1, sort_list , swa_data , sys , user_data"
   ]
  },
  {
   "cell_type": "code",
   "execution_count": 79,
   "id": "3e204e44",
   "metadata": {},
   "outputs": [
    {
     "name": "stdout",
     "output_type": "stream",
     "text": [
      "Soham Piprotar\n"
     ]
    },
    {
     "data": {
      "text/plain": [
       "str"
      ]
     },
     "execution_count": 79,
     "metadata": {},
     "output_type": "execute_result"
    }
   ],
   "source": [
    "s = \"Soham Piprotar\"\n",
    "print(s)\n",
    "type(s)"
   ]
  },
  {
   "cell_type": "code",
   "execution_count": 81,
   "id": "4df862c2",
   "metadata": {},
   "outputs": [
    {
     "name": "stdout",
     "output_type": "stream",
     "text": [
      "i am Soham Piprotar  \n"
     ]
    }
   ],
   "source": [
    "#concatination of data  --> simply addition \n",
    "v = \"i am \"\n",
    "print(v+s+\"  \")"
   ]
  },
  {
   "cell_type": "code",
   "execution_count": 82,
   "id": "d6a57cbb",
   "metadata": {},
   "outputs": [
    {
     "name": "stdout",
     "output_type": "stream",
     "text": [
      "this is a multi - \n",
      "   line string \n",
      "\n"
     ]
    }
   ],
   "source": [
    "#multiline string \n",
    "hello = \"\"\"this is a multi - \n",
    "   line string \n",
    "\"\"\"\n",
    "print(hello)"
   ]
  },
  {
   "cell_type": "code",
   "execution_count": 83,
   "id": "20529e1d",
   "metadata": {},
   "outputs": [
    {
     "name": "stdout",
     "output_type": "stream",
     "text": [
      "Variable   Type    Data/Info\n",
      "----------------------------\n",
      "hello      str     this is a multi - \\n   line string \\n\n",
      "s          str     Soham Piprotar\n",
      "v          str     i am \n"
     ]
    }
   ],
   "source": [
    "%whos"
   ]
  },
  {
   "cell_type": "code",
   "execution_count": 84,
   "id": "956fc0f6",
   "metadata": {},
   "outputs": [],
   "source": [
    "del hello ,s , v"
   ]
  },
  {
   "cell_type": "code",
   "execution_count": 88,
   "id": "18d69f62",
   "metadata": {},
   "outputs": [
    {
     "data": {
      "text/plain": [
       "str"
      ]
     },
     "execution_count": 88,
     "metadata": {},
     "output_type": "execute_result"
    }
   ],
   "source": [
    "s = \"soham\"\n",
    "type(s[3])"
   ]
  },
  {
   "cell_type": "code",
   "execution_count": 89,
   "id": "250902a3",
   "metadata": {},
   "outputs": [
    {
     "data": {
      "text/plain": [
       "'soh'"
      ]
     },
     "execution_count": 89,
     "metadata": {},
     "output_type": "execute_result"
    }
   ],
   "source": [
    "s[0:3]"
   ]
  },
  {
   "cell_type": "code",
   "execution_count": 90,
   "id": "a55d58b9",
   "metadata": {},
   "outputs": [
    {
     "data": {
      "text/plain": [
       "'m'"
      ]
     },
     "execution_count": 90,
     "metadata": {},
     "output_type": "execute_result"
    }
   ],
   "source": [
    "s[-1]"
   ]
  },
  {
   "cell_type": "code",
   "execution_count": 91,
   "id": "56a7bb25",
   "metadata": {},
   "outputs": [
    {
     "data": {
      "text/plain": [
       "'h'"
      ]
     },
     "execution_count": 91,
     "metadata": {},
     "output_type": "execute_result"
    }
   ],
   "source": [
    "s[-3]"
   ]
  },
  {
   "cell_type": "code",
   "execution_count": 93,
   "id": "d9172e3c",
   "metadata": {},
   "outputs": [
    {
     "data": {
      "text/plain": [
       "'ha'"
      ]
     },
     "execution_count": 93,
     "metadata": {},
     "output_type": "execute_result"
    }
   ],
   "source": [
    "s[-3:-1]"
   ]
  },
  {
   "cell_type": "code",
   "execution_count": 97,
   "id": "0860a397",
   "metadata": {},
   "outputs": [],
   "source": [
    "s = \" soham piprotar \""
   ]
  },
  {
   "cell_type": "code",
   "execution_count": 98,
   "id": "d71a6c9e",
   "metadata": {},
   "outputs": [
    {
     "name": "stdout",
     "output_type": "stream",
     "text": [
      " soham piprotar \n"
     ]
    }
   ],
   "source": [
    "print(s)"
   ]
  },
  {
   "cell_type": "code",
   "execution_count": 99,
   "id": "8ecf2983",
   "metadata": {},
   "outputs": [
    {
     "data": {
      "text/plain": [
       "'soham piprotar'"
      ]
     },
     "execution_count": 99,
     "metadata": {},
     "output_type": "execute_result"
    }
   ],
   "source": [
    "a = s.strip() # no stapce at start and end \n",
    "a"
   ]
  },
  {
   "cell_type": "code",
   "execution_count": 100,
   "id": "265c0e62",
   "metadata": {},
   "outputs": [
    {
     "data": {
      "text/plain": [
       "' soham piprotar '"
      ]
     },
     "execution_count": 100,
     "metadata": {},
     "output_type": "execute_result"
    }
   ],
   "source": [
    "b = s.lower()\n",
    "b"
   ]
  },
  {
   "cell_type": "code",
   "execution_count": 101,
   "id": "9980869d",
   "metadata": {},
   "outputs": [
    {
     "data": {
      "text/plain": [
       "' SOHAM PIPROTAR '"
      ]
     },
     "execution_count": 101,
     "metadata": {},
     "output_type": "execute_result"
    }
   ],
   "source": [
    "c = s.upper()\n",
    "c"
   ]
  },
  {
   "cell_type": "code",
   "execution_count": 102,
   "id": "9f5ae5ff",
   "metadata": {},
   "outputs": [],
   "source": [
    "d = s.replace(' ', '_')"
   ]
  },
  {
   "cell_type": "code",
   "execution_count": 103,
   "id": "4d34b3e2",
   "metadata": {},
   "outputs": [
    {
     "data": {
      "text/plain": [
       "'_soham_piprotar_'"
      ]
     },
     "execution_count": 103,
     "metadata": {},
     "output_type": "execute_result"
    }
   ],
   "source": [
    "d"
   ]
  },
  {
   "cell_type": "code",
   "execution_count": 105,
   "id": "55c0ff06",
   "metadata": {},
   "outputs": [
    {
     "data": {
      "text/plain": [
       "['soham', 'piprotar']"
      ]
     },
     "execution_count": 105,
     "metadata": {},
     "output_type": "execute_result"
    }
   ],
   "source": [
    "L = a.split(\" \")   # split the element of the list with refrence of given element \n",
    "L"
   ]
  },
  {
   "cell_type": "code",
   "execution_count": 110,
   "id": "4638875d",
   "metadata": {},
   "outputs": [],
   "source": [
    "a.casefold??"
   ]
  },
  {
   "cell_type": "code",
   "execution_count": 111,
   "id": "290eaadb",
   "metadata": {},
   "outputs": [
    {
     "data": {
      "text/plain": [
       "True"
      ]
     },
     "execution_count": 111,
     "metadata": {},
     "output_type": "execute_result"
    }
   ],
   "source": [
    "\"abc\" in \" abcdef\""
   ]
  },
  {
   "cell_type": "code",
   "execution_count": 112,
   "id": "6391a76c",
   "metadata": {},
   "outputs": [
    {
     "data": {
      "text/plain": [
       "True"
      ]
     },
     "execution_count": 112,
     "metadata": {},
     "output_type": "execute_result"
    }
   ],
   "source": [
    "\"so\" in a  # return true if this three is a part of given string "
   ]
  },
  {
   "cell_type": "code",
   "execution_count": 113,
   "id": "26fe2c3a",
   "metadata": {},
   "outputs": [
    {
     "data": {
      "text/plain": [
       "True"
      ]
     },
     "execution_count": 113,
     "metadata": {},
     "output_type": "execute_result"
    }
   ],
   "source": [
    "\" \" in a"
   ]
  },
  {
   "cell_type": "code",
   "execution_count": null,
   "id": "e60dc05e",
   "metadata": {},
   "outputs": [],
   "source": []
  }
 ],
 "metadata": {
  "kernelspec": {
   "display_name": "Python 3 (ipykernel)",
   "language": "python",
   "name": "python3"
  },
  "language_info": {
   "codemirror_mode": {
    "name": "ipython",
    "version": 3
   },
   "file_extension": ".py",
   "mimetype": "text/x-python",
   "name": "python",
   "nbconvert_exporter": "python",
   "pygments_lexer": "ipython3",
   "version": "3.11.4"
  }
 },
 "nbformat": 4,
 "nbformat_minor": 5
}
