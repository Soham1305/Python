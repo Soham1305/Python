{
 "cells": [
  {
   "cell_type": "markdown",
   "id": "47bb558f",
   "metadata": {},
   "source": [
    "# Control Flow in Python "
   ]
  },
  {
   "cell_type": "markdown",
   "id": "c96accbe",
   "metadata": {},
   "source": [
    "### Print the greatest among the two numbers "
   ]
  },
  {
   "cell_type": "code",
   "execution_count": 4,
   "id": "2a7d0c45",
   "metadata": {},
   "outputs": [
    {
     "name": "stdout",
     "output_type": "stream",
     "text": [
      "enter the number 1 : 4 \n",
      "enter the number 2 : 5 \n",
      "5.0\n",
      " i am inside in the if or else condition  \n",
      "print else part \n",
      "i am outside the if or else condition \n"
     ]
    }
   ],
   "source": [
    "a = float(input(\"enter the number 1 : \"))\n",
    "b = float(input(\"enter the number 2 : \"))\n",
    "\n",
    "if a>b :\n",
    "    print(a);\n",
    "    print(\"print if part\")\n",
    "\n",
    "else:\n",
    "    print(b);\n",
    "    print(\" i am inside in the if or else condition  \")   # python else if work on indiantation\n",
    "    print(\"print else part \")\n",
    "\n",
    "print(\"i am outside the if or else condition \")"
   ]
  },
  {
   "cell_type": "code",
   "execution_count": 8,
   "id": "c74ba423",
   "metadata": {},
   "outputs": [
    {
     "name": "stdout",
     "output_type": "stream",
     "text": [
      "78\n",
      "6\n",
      "78\n",
      "a is greater then b \n"
     ]
    }
   ],
   "source": [
    "a =  int(input())\n",
    "b =int( input())\n",
    "\n",
    "if a>b :\n",
    "    print(a)\n",
    "    print(\"a is greater then b \")\n",
    "elif a == b :\n",
    "    print (a)\n",
    "    print(\"a and b is bo87th equal\")\n",
    "else :\n",
    "    print(\"b is greater then a \")"
   ]
  },
  {
   "cell_type": "code",
   "execution_count": 11,
   "id": "dd699286",
   "metadata": {},
   "outputs": [
    {
     "name": "stdout",
     "output_type": "stream",
     "text": [
      "5\n",
      "5\n",
      "B\n"
     ]
    }
   ],
   "source": [
    "#sort form of if else if printing \n",
    "a = float(input())\n",
    "b = float(input())\n",
    "\n",
    "print(\"A\") if a>b else print(\"B\") if a==b else print(\"B\")"
   ]
  },
  {
   "cell_type": "markdown",
   "id": "2c1719f9",
   "metadata": {},
   "source": [
    "### Marks problem"
   ]
  },
  {
   "cell_type": "code",
   "execution_count": 17,
   "id": "7a8aba24",
   "metadata": {},
   "outputs": [
    {
     "name": "stdout",
     "output_type": "stream",
     "text": [
      "enter marks80.4\n",
      "B grad\n"
     ]
    }
   ],
   "source": [
    "a = float(input(\"enter marks\"));\n",
    "\n",
    "if a>=85:\n",
    "    print(\"A grad\")\n",
    "elif (a <85)  and (a >= 80):\n",
    "    print(\"B grad\")\n",
    "elif (a<80) and (a>=75):\n",
    "    print (\"B grad\")\n",
    "elif (a<75) and (a>=70):\n",
    "    print(\"B- grad\")\n",
    "else :\n",
    "    print(\"Below Avarage\")\n"
   ]
  },
  {
   "cell_type": "markdown",
   "id": "c102199c",
   "metadata": {},
   "source": [
    "### Nested if else conditions "
   ]
  },
  {
   "cell_type": "code",
   "execution_count": 2,
   "id": "56ec9df4",
   "metadata": {},
   "outputs": [
    {
     "name": "stdout",
     "output_type": "stream",
     "text": [
      "enter the number 56\n",
      "the number is greater then 10 \n",
      "the number is also greater then 20 ! \n",
      " whoah , the number is even greater then 40 !!!\n"
     ]
    }
   ],
   "source": [
    "a = int (input(\"enter the number \"))\n",
    "\n",
    "if a > 10 : \n",
    "    print(\"the number is greater then 10 \")\n",
    "    \n",
    "    if a >20:\n",
    "        print(\"the number is also greater then 20 ! \")\n",
    "        if a > 40 :\n",
    "            print(\" whoah , the number is even greater then 40 !!!\")\n",
    "    else :\n",
    "        print(\"But not greater then 20 \")\n",
    "# this it sthe outside of nested if else , it's all because of indiantation "
   ]
  },
  {
   "cell_type": "markdown",
   "id": "2509b226",
   "metadata": {},
   "source": [
    "### Comments "
   ]
  },
  {
   "cell_type": "code",
   "execution_count": 3,
   "id": "abf4f8b1",
   "metadata": {},
   "outputs": [
    {
     "data": {
      "text/plain": [
       "'\\nTHIS IS THE MULTI LINE COMMENT \\nIN PYTHON \\n'"
      ]
     },
     "execution_count": 3,
     "metadata": {},
     "output_type": "execute_result"
    }
   ],
   "source": [
    "# SINGLE LINE COMMENTS WITH THE #\n",
    "\n",
    "\"\"\"\n",
    "THIS IS THE MULTI LINE COMMENT \n",
    "IN PYTHON \n",
    "\"\"\""
   ]
  },
  {
   "cell_type": "code",
   "execution_count": null,
   "id": "fea1518c",
   "metadata": {},
   "outputs": [],
   "source": []
  }
 ],
 "metadata": {
  "kernelspec": {
   "display_name": "Python 3 (ipykernel)",
   "language": "python",
   "name": "python3"
  },
  "language_info": {
   "codemirror_mode": {
    "name": "ipython",
    "version": 3
   },
   "file_extension": ".py",
   "mimetype": "text/x-python",
   "name": "python",
   "nbconvert_exporter": "python",
   "pygments_lexer": "ipython3",
   "version": "3.11.4"
  }
 },
 "nbformat": 4,
 "nbformat_minor": 5
}
