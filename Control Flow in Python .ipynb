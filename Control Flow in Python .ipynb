{
 "cells": [
  {
   "cell_type": "markdown",
   "id": "47bb558f",
   "metadata": {},
   "source": [
    "# Control Flow in Python "
   ]
  },
  {
   "cell_type": "markdown",
   "id": "c96accbe",
   "metadata": {},
   "source": [
    "### Print the greatest among the two numbers "
   ]
  },
  {
   "cell_type": "code",
   "execution_count": 4,
   "id": "2a7d0c45",
   "metadata": {},
   "outputs": [
    {
     "name": "stdout",
     "output_type": "stream",
     "text": [
      "enter the number 1 : 4 \n",
      "enter the number 2 : 5 \n",
      "5.0\n",
      " i am inside in the if or else condition  \n",
      "print else part \n",
      "i am outside the if or else condition \n"
     ]
    }
   ],
   "source": [
    "a = float(input(\"enter the number 1 : \"))\n",
    "b = float(input(\"enter the number 2 : \"))\n",
    "\n",
    "if a>b :\n",
    "    print(a);\n",
    "    print(\"print if part\")\n",
    "\n",
    "else:\n",
    "    print(b);\n",
    "    print(\" i am inside in the if or else condition  \")   # python else if work on indiantation\n",
    "    print(\"print else part \")\n",
    "\n",
    "print(\"i am outside the if or else condition \")"
   ]
  },
  {
   "cell_type": "code",
   "execution_count": 8,
   "id": "c74ba423",
   "metadata": {},
   "outputs": [
    {
     "name": "stdout",
     "output_type": "stream",
     "text": [
      "78\n",
      "6\n",
      "78\n",
      "a is greater then b \n"
     ]
    }
   ],
   "source": [
    "a =  int(input())\n",
    "b =int( input())\n",
    "\n",
    "if a>b :\n",
    "    print(a)\n",
    "    print(\"a is greater then b \")\n",
    "elif a == b :\n",
    "    print (a)\n",
    "    print(\"a and b is bo87th equal\")\n",
    "else :\n",
    "    print(\"b is greater then a \")"
   ]
  },
  {
   "cell_type": "code",
   "execution_count": 11,
   "id": "dd699286",
   "metadata": {},
   "outputs": [
    {
     "name": "stdout",
     "output_type": "stream",
     "text": [
      "5\n",
      "5\n",
      "B\n"
     ]
    }
   ],
   "source": [
    "#sort form of if else if printing \n",
    "a = float(input())\n",
    "b = float(input())\n",
    "\n",
    "print(\"A\") if a>b else print(\"B\") if a==b else print(\"B\")"
   ]
  },
  {
   "cell_type": "markdown",
   "id": "2c1719f9",
   "metadata": {},
   "source": [
    "### Marks problem"
   ]
  },
  {
   "cell_type": "code",
   "execution_count": 17,
   "id": "7a8aba24",
   "metadata": {},
   "outputs": [
    {
     "name": "stdout",
     "output_type": "stream",
     "text": [
      "enter marks80.4\n",
      "B grad\n"
     ]
    }
   ],
   "source": [
    "a = float(input(\"enter marks\"));\n",
    "\n",
    "if a>=85:\n",
    "    print(\"A grad\")\n",
    "elif (a <85)  and (a >= 80):\n",
    "    print(\"B grad\")\n",
    "elif (a<80) and (a>=75):\n",
    "    print (\"B grad\")\n",
    "elif (a<75) and (a>=70):\n",
    "    print(\"B- grad\")\n",
    "else :\n",
    "    print(\"Below Avarage\")\n"
   ]
  },
  {
   "cell_type": "markdown",
   "id": "c102199c",
   "metadata": {},
   "source": [
    "### Nested if else conditions "
   ]
  },
  {
   "cell_type": "code",
   "execution_count": 2,
   "id": "56ec9df4",
   "metadata": {},
   "outputs": [
    {
     "name": "stdout",
     "output_type": "stream",
     "text": [
      "enter the number 56\n",
      "the number is greater then 10 \n",
      "the number is also greater then 20 ! \n",
      " whoah , the number is even greater then 40 !!!\n"
     ]
    }
   ],
   "source": [
    "a = int (input(\"enter the number \"))\n",
    "\n",
    "if a > 10 : \n",
    "    print(\"the number is greater then 10 \")\n",
    "    \n",
    "    if a >20:\n",
    "        print(\"the number is also greater then 20 ! \")\n",
    "        if a > 40 :\n",
    "            print(\" whoah , the number is even greater then 40 !!!\")\n",
    "    else :\n",
    "        print(\"But not greater then 20 \")\n",
    "# this it sthe outside of nested if else , it's all because of indiantation "
   ]
  },
  {
   "cell_type": "markdown",
   "id": "2509b226",
   "metadata": {},
   "source": [
    "### Comments "
   ]
  },
  {
   "cell_type": "code",
   "execution_count": 14,
   "id": "abf4f8b1",
   "metadata": {},
   "outputs": [
    {
     "name": "stdout",
     "output_type": "stream",
     "text": [
      "Enter a real number : -9.794\n",
      "-9\n",
      "Odd\n"
     ]
    }
   ],
   "source": [
    "# SINGLE LINE COMMENTS WITH THE #\n",
    "\n",
    "\"\"\"\n",
    "THIS IS THE MULTI LINE COMMENT \n",
    "IN PYTHON \n",
    "\"\"\"\n",
    "'''\n",
    "This is also a multi-line comment.\n",
    "You can write as many lines as you want in this.\n",
    "'''\n",
    "x = float(input(\"Enter a real number : \"));\n",
    "\n",
    "y = round(x);\n",
    "\n",
    "if x>0 :\n",
    "    if y>x :\n",
    "        intPortion = y-1  #29.6 \n",
    "    else:\n",
    "        intPortion = y  \n",
    "else:\n",
    "    if y<x :\n",
    "        intPortion = y+1 \n",
    "    else :\n",
    "        intPortion = y \n",
    "print(intPortion)\n",
    "\n",
    "if intPortion%2 == 0 :\n",
    "    print(\"Even\")\n",
    "else:\n",
    "    print(\"Odd\")"
   ]
  },
  {
   "cell_type": "code",
   "execution_count": 11,
   "id": "fea1518c",
   "metadata": {},
   "outputs": [
    {
     "data": {
      "text/plain": [
       "-9"
      ]
     },
     "execution_count": 11,
     "metadata": {},
     "output_type": "execute_result"
    }
   ],
   "source": [
    "round(-9.245)       # roughly the same way as positive number ;"
   ]
  },
  {
   "cell_type": "markdown",
   "id": "4dcb9da2",
   "metadata": {},
   "source": [
    "### While loop in Python "
   ]
  },
  {
   "cell_type": "code",
   "execution_count": 16,
   "id": "9a6c8689",
   "metadata": {},
   "outputs": [
    {
     "name": "stdout",
     "output_type": "stream",
     "text": [
      "Enter the number fo itresion : 5\n",
      "1\n",
      "2\n",
      "3\n",
      "4\n",
      "5\n",
      "done\n"
     ]
    }
   ],
   "source": [
    "n = int(input(\"Enter the number fo itresion : \"))\n",
    "\n",
    "i = 1 \n",
    "\n",
    "while i<=n :\n",
    "    print(i)        # here you can perform any opoeration that you want to perform ; \n",
    "    i += 1 \n",
    "print('done')"
   ]
  },
  {
   "cell_type": "markdown",
   "id": "f6ff64ed",
   "metadata": {},
   "source": [
    "### While loop break continue "
   ]
  },
  {
   "cell_type": "code",
   "execution_count": 17,
   "id": "455ac565",
   "metadata": {},
   "outputs": [
    {
     "name": "stdout",
     "output_type": "stream",
     "text": [
      "enter the meximum itretion : 5\n",
      "4\n",
      "16\n",
      "the task was completed \n"
     ]
    }
   ],
   "source": [
    "n = int(input(\"enter the meximum itretion : \"))\n",
    "\n",
    "i = 1 \n",
    "\n",
    "while i <=n :\n",
    "    if i%2 ==0 :\n",
    "        print(i**2)\n",
    "    else:\n",
    "        pass \n",
    "    i+=1 \n",
    "\n",
    "print(\"the task was completed \")"
   ]
  },
  {
   "cell_type": "markdown",
   "id": "78b36a80",
   "metadata": {},
   "source": [
    "#### Break "
   ]
  },
  {
   "cell_type": "code",
   "execution_count": 19,
   "id": "2a471ce8",
   "metadata": {},
   "outputs": [
    {
     "name": "stdout",
     "output_type": "stream",
     "text": [
      "Enter the itreation  : 8\n",
      "1\n",
      "8\n",
      "27\n",
      "64\n",
      "125\n",
      "216\n",
      "343\n",
      "512\n",
      "that's end \n"
     ]
    }
   ],
   "source": [
    "# imidiatily exit the loop regradless of other state \n",
    "\n",
    "n = int(input(\"Enter the itreation  : \"))\n",
    "\n",
    "i = 1 \n",
    "\n",
    "while True :\n",
    "    \n",
    "    if i>n:\n",
    "        break \n",
    "    else :\n",
    "        print(i**3)\n",
    "    i += 1 \n",
    "    \n",
    "print(\"that's end \")"
   ]
  },
  {
   "cell_type": "markdown",
   "id": "ff92901d",
   "metadata": {},
   "source": [
    "#### Continue "
   ]
  },
  {
   "cell_type": "code",
   "execution_count": 23,
   "id": "b0913f96",
   "metadata": {},
   "outputs": [
    {
     "name": "stdout",
     "output_type": "stream",
     "text": [
      "Enter the number of itreation  : 5\n",
      "2\n",
      "4\n",
      "You exit from loop \n"
     ]
    }
   ],
   "source": [
    "n = int(input(\"Enter the number of itreation  : \"))\n",
    "\n",
    "i = 1 \n",
    "\n",
    "while i<=n:\n",
    "    if i%2 == 1:\n",
    "        i +=1                # always update value before continue ;\n",
    "        continue \n",
    "    else :\n",
    "        print(i)\n",
    "    i += 1 \n",
    "    \n",
    "print(\"You exit from loop \")"
   ]
  },
  {
   "cell_type": "markdown",
   "id": "c75c99e1",
   "metadata": {},
   "source": [
    "### For loop "
   ]
  },
  {
   "cell_type": "code",
   "execution_count": 27,
   "id": "edd86bfb",
   "metadata": {},
   "outputs": [
    {
     "name": "stdout",
     "output_type": "stream",
     "text": [
      "0\n",
      "1\n",
      "2\n",
      "3\n",
      "4\n",
      "For loop execute completly : \n",
      "0\n",
      "1\n",
      "4\n",
      "9\n",
      "16\n",
      "We did it again : \n"
     ]
    }
   ],
   "source": [
    "L =[]\n",
    "\n",
    "for i in range(5):     # here the last element is not included ; \n",
    "    print(i)\n",
    "    L.append(i**2)\n",
    "\n",
    "print(\"For loop execute completly : \")\n",
    "\n",
    "for i in L :\n",
    "    print(i)\n",
    "    \n",
    "print(\"We did it again : \")"
   ]
  },
  {
   "cell_type": "markdown",
   "id": "05e4c2c6",
   "metadata": {},
   "source": [
    "### else in for loop "
   ]
  },
  {
   "cell_type": "code",
   "execution_count": 29,
   "id": "7d3b5a07",
   "metadata": {},
   "outputs": [
    {
     "name": "stdout",
     "output_type": "stream",
     "text": [
      "cherry \n",
      "4.94\n",
      "You are the outside of the loop \n"
     ]
    }
   ],
   "source": [
    "# only python have for else loop \n",
    "\n",
    "S= {\"apple\" , \"cherry \" , 4.94}\n",
    "i = 1\n",
    "for x in S :\n",
    "    print(x)\n",
    "    i += 1 \n",
    "    if i == 3:\n",
    "        break\n",
    "    else:\n",
    "        pass\n",
    "else :\n",
    "    print(\"Loop complete it's itreation \")    # when the for loop is not complete it's itreation then it's not executed ;\n",
    "print(\"You are the outside of the loop \")"
   ]
  },
  {
   "cell_type": "code",
   "execution_count": 33,
   "id": "f6c4a780",
   "metadata": {},
   "outputs": [
    {
     "name": "stdout",
     "output_type": "stream",
     "text": [
      "apple 100\n",
      "cherry game\n",
      "I complete all the itreation : \n"
     ]
    }
   ],
   "source": [
    "# exploring a disionary \n",
    "\n",
    "D = { \"apple\":100,\"cherry\":\"game\"}\n",
    "\n",
    "i = 10\n",
    "\n",
    "for x in D :\n",
    "    print(x,D[x]) \n",
    "    \n",
    "else:\n",
    "    print(\"I complete all the itreation : \")\n"
   ]
  },
  {
   "cell_type": "code",
   "execution_count": 44,
   "id": "cafcd374",
   "metadata": {},
   "outputs": [
    {
     "name": "stdout",
     "output_type": "stream",
     "text": [
      "[-2, 1, 3, 4, 5, 5, 8, 9]\n"
     ]
    }
   ],
   "source": [
    "\"\"\" You have given a list and you need to reurns a list \n",
    "\"\"\"\n",
    "L = [1,5,8,-2,4,5,9,3]\n",
    "\n",
    "# i am going to write this code in like c++ logic \n",
    "\n",
    "for i in range(len(L)):\n",
    "    m = L[i]\n",
    "    for j in range(i+1,len(L)):\n",
    "        if L[j]<L[i]:\n",
    "            temp = L[j]\n",
    "            L[j] = L[i]\n",
    "            L[i] = temp\n",
    "\n",
    "\n",
    "print(L)"
   ]
  },
  {
   "cell_type": "code",
   "execution_count": 45,
   "id": "46858d94",
   "metadata": {},
   "outputs": [
    {
     "data": {
      "text/plain": [
       "[-2, 1, 3, 4, 5, 5, 8, 9]"
      ]
     },
     "execution_count": 45,
     "metadata": {},
     "output_type": "execute_result"
    }
   ],
   "source": [
    "L"
   ]
  },
  {
   "cell_type": "code",
   "execution_count": 39,
   "id": "4fe66f28",
   "metadata": {},
   "outputs": [
    {
     "name": "stdout",
     "output_type": "stream",
     "text": [
      "No variables match your requested type.\n"
     ]
    }
   ],
   "source": [
    "who%"
   ]
  },
  {
   "cell_type": "code",
   "execution_count": null,
   "id": "66deff05",
   "metadata": {},
   "outputs": [],
   "source": []
  }
 ],
 "metadata": {
  "kernelspec": {
   "display_name": "Python 3 (ipykernel)",
   "language": "python",
   "name": "python3"
  },
  "language_info": {
   "codemirror_mode": {
    "name": "ipython",
    "version": 3
   },
   "file_extension": ".py",
   "mimetype": "text/x-python",
   "name": "python",
   "nbconvert_exporter": "python",
   "pygments_lexer": "ipython3",
   "version": "3.11.4"
  }
 },
 "nbformat": 4,
 "nbformat_minor": 5
}
